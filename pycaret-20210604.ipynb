{
 "cells": [
  {
   "cell_type": "code",
   "execution_count": null,
   "id": "6c295364",
   "metadata": {},
   "outputs": [],
   "source": [
    "# Check GPU version\n",
    "!nvidia-smi"
   ]
  },
  {
   "cell_type": "code",
   "execution_count": null,
   "id": "faf9df78",
   "metadata": {},
   "outputs": [],
   "source": [
    "# Check CUDA/cuDNN Version\n",
    "!nvcc -V && which nvcc"
   ]
  },
  {
   "cell_type": "code",
   "execution_count": null,
   "id": "f41d3218",
   "metadata": {},
   "outputs": [],
   "source": [
    "# install packages\n",
    "!pip install catboost\n",
    "!pip install xgboost\n",
    "!pip install pycaret[full]\n",
    "!pip install wandb"
   ]
  },
  {
   "cell_type": "code",
   "execution_count": null,
   "id": "997ee356",
   "metadata": {},
   "outputs": [],
   "source": [
    "# 即時監控colab資源\n",
    "import wandb\n",
    "\n",
    "# connect with jim107225017/colab/20210526\n",
    "wandb.init(project='colab', entity='jim107225017', name='CPU_GPU', id='20210526')"
   ]
  },
  {
   "cell_type": "code",
   "execution_count": null,
   "id": "2d0093de",
   "metadata": {},
   "outputs": [],
   "source": [
    "# install lightgbm GPU in colab\n",
    "# 先登入google cloud\n",
    "from google.colab import drive\n",
    "drive.mount('/content/drive')\n",
    "\n",
    "!pip uninstall lightgbm -y\n",
    "!git clone --recursive https://github.com/Microsoft/LightGBM\n",
    "!cd LightGBM && rm -rf build && mkdir build && cd build && cmake -DUSE_GPU=1 ../../LightGBM && make -j4 && cd ../python-package && python3 setup.py install --precompile --gpu"
   ]
  },
  {
   "cell_type": "code",
   "execution_count": 1,
   "id": "1ba3ec97",
   "metadata": {},
   "outputs": [
    {
     "name": "stderr",
     "output_type": "stream",
     "text": [
      "C:\\Users\\Chen\\anaconda3\\envs\\ML\\lib\\site-packages\\numpy\\_distributor_init.py:32: UserWarning: loaded more than 1 DLL from .libs:\n",
      "C:\\Users\\Chen\\anaconda3\\envs\\ML\\lib\\site-packages\\numpy\\.libs\\libopenblas.NOIJJG62EMASZI6NYURL6JBKM4EVBGM7.gfortran-win_amd64.dll\n",
      "C:\\Users\\Chen\\anaconda3\\envs\\ML\\lib\\site-packages\\numpy\\.libs\\libopenblas.WCDJNK7YVMPZQ2ME2ZZHJJRJ3JIKNDB7.gfortran-win_amd64.dll\n",
      "  stacklevel=1)\n"
     ]
    },
    {
     "name": "stdout",
     "output_type": "stream",
     "text": [
      "[LightGBM] [Info] This is the GPU trainer!!\n",
      "[LightGBM] [Info] Total Bins 2550\n",
      "[LightGBM] [Info] Number of data points in the train set: 1000, number of used features: 10\n",
      "[LightGBM] [Info] Using GPU Device: Intel(R) UHD Graphics, Vendor: Intel(R) Corporation\n",
      "[LightGBM] [Info] Compiling OpenCL Kernel with 256 bins...\n",
      "[LightGBM] [Info] GPU programs have been built\n",
      "[LightGBM] [Info] Size of histogram bin entry: 8\n",
      "[LightGBM] [Info] 10 dense feature groups (0.01 MB) transferred to GPU in 0.002648 secs. 0 sparse feature groups\n",
      "[LightGBM] [Info] Start training from score 0.522000\n",
      "True\n"
     ]
    }
   ],
   "source": [
    "# import packages\n",
    "import os\n",
    "import numpy as np\n",
    "import pandas as pd\n",
    "\n",
    "# Pycaret\n",
    "from pycaret.classification import *\n",
    "\n",
    "import catboost\n",
    "import lightgbm\n",
    "import xgboost\n",
    "\n",
    "from sklearn.metrics import log_loss\n",
    "from sklearn.preprocessing import LabelEncoder, StandardScaler, MinMaxScaler\n",
    "from category_encoders.cat_boost import CatBoostEncoder\n",
    "from joblib import load, dump\n",
    "\n",
    "def check_gpu_support():\n",
    "    try:\n",
    "        data = np.random.rand(1000, 10)\n",
    "        label = np.random.randint(2, size=1000)\n",
    "        train_data = lightgbm.Dataset(data, label=label)\n",
    "        params = {'device': 'gpu'}\n",
    "        gbm = lightgbm.train(params, train_set=train_data)\n",
    "        return True\n",
    "    except Exception as e:\n",
    "        return False\n",
    "\n",
    "print(check_gpu_support())"
   ]
  },
  {
   "cell_type": "code",
   "execution_count": 2,
   "id": "98da66ea",
   "metadata": {},
   "outputs": [],
   "source": [
    "# # connect with Google Cloud\n",
    "# from google.colab import drive\n",
    "# drive.mount('/content/drive')\n",
    "# path = \"/content/drive/My Drive/colab/TPS May\"\n",
    "path = r'C:\\Users\\Chen\\Desktop\\Kaggle\\Classifier\\Tabular Playground Series - Jun 2021'\n",
    "os.chdir(path)"
   ]
  },
  {
   "cell_type": "code",
   "execution_count": 3,
   "id": "eac58004",
   "metadata": {},
   "outputs": [],
   "source": [
    "# load data\n",
    "df_train = pd.read_csv('train.csv')\n",
    "df_test = pd.read_csv('test.csv')"
   ]
  },
  {
   "cell_type": "code",
   "execution_count": 4,
   "id": "7babd4aa",
   "metadata": {},
   "outputs": [
    {
     "data": {
      "text/html": [
       "<div>\n",
       "<style scoped>\n",
       "    .dataframe tbody tr th:only-of-type {\n",
       "        vertical-align: middle;\n",
       "    }\n",
       "\n",
       "    .dataframe tbody tr th {\n",
       "        vertical-align: top;\n",
       "    }\n",
       "\n",
       "    .dataframe thead th {\n",
       "        text-align: right;\n",
       "    }\n",
       "</style>\n",
       "<table border=\"1\" class=\"dataframe\">\n",
       "  <thead>\n",
       "    <tr style=\"text-align: right;\">\n",
       "      <th></th>\n",
       "      <th>id</th>\n",
       "      <th>feature_0</th>\n",
       "      <th>feature_1</th>\n",
       "      <th>feature_2</th>\n",
       "      <th>feature_3</th>\n",
       "      <th>feature_4</th>\n",
       "      <th>feature_5</th>\n",
       "      <th>feature_6</th>\n",
       "      <th>feature_7</th>\n",
       "      <th>feature_8</th>\n",
       "      <th>feature_9</th>\n",
       "      <th>feature_10</th>\n",
       "      <th>feature_11</th>\n",
       "      <th>feature_12</th>\n",
       "      <th>feature_13</th>\n",
       "      <th>feature_14</th>\n",
       "      <th>feature_15</th>\n",
       "      <th>feature_16</th>\n",
       "      <th>feature_17</th>\n",
       "      <th>feature_18</th>\n",
       "      <th>feature_19</th>\n",
       "      <th>feature_20</th>\n",
       "      <th>feature_21</th>\n",
       "      <th>feature_22</th>\n",
       "      <th>feature_23</th>\n",
       "      <th>feature_24</th>\n",
       "      <th>feature_25</th>\n",
       "      <th>feature_26</th>\n",
       "      <th>feature_27</th>\n",
       "      <th>feature_28</th>\n",
       "      <th>feature_29</th>\n",
       "      <th>feature_30</th>\n",
       "      <th>feature_31</th>\n",
       "      <th>feature_32</th>\n",
       "      <th>feature_33</th>\n",
       "      <th>feature_34</th>\n",
       "      <th>feature_35</th>\n",
       "      <th>feature_36</th>\n",
       "      <th>feature_37</th>\n",
       "      <th>feature_38</th>\n",
       "      <th>feature_39</th>\n",
       "      <th>feature_40</th>\n",
       "      <th>feature_41</th>\n",
       "      <th>feature_42</th>\n",
       "      <th>feature_43</th>\n",
       "      <th>feature_44</th>\n",
       "      <th>feature_45</th>\n",
       "      <th>feature_46</th>\n",
       "      <th>feature_47</th>\n",
       "      <th>feature_48</th>\n",
       "      <th>feature_49</th>\n",
       "      <th>feature_50</th>\n",
       "      <th>feature_51</th>\n",
       "      <th>feature_52</th>\n",
       "      <th>feature_53</th>\n",
       "      <th>feature_54</th>\n",
       "      <th>feature_55</th>\n",
       "      <th>feature_56</th>\n",
       "      <th>feature_57</th>\n",
       "      <th>feature_58</th>\n",
       "      <th>feature_59</th>\n",
       "      <th>feature_60</th>\n",
       "      <th>feature_61</th>\n",
       "      <th>feature_62</th>\n",
       "      <th>feature_63</th>\n",
       "      <th>feature_64</th>\n",
       "      <th>feature_65</th>\n",
       "      <th>feature_66</th>\n",
       "      <th>feature_67</th>\n",
       "      <th>feature_68</th>\n",
       "      <th>feature_69</th>\n",
       "      <th>feature_70</th>\n",
       "      <th>feature_71</th>\n",
       "      <th>feature_72</th>\n",
       "      <th>feature_73</th>\n",
       "      <th>feature_74</th>\n",
       "      <th>target</th>\n",
       "    </tr>\n",
       "  </thead>\n",
       "  <tbody>\n",
       "    <tr>\n",
       "      <th>0</th>\n",
       "      <td>0</td>\n",
       "      <td>0</td>\n",
       "      <td>0</td>\n",
       "      <td>6</td>\n",
       "      <td>1</td>\n",
       "      <td>0</td>\n",
       "      <td>0</td>\n",
       "      <td>0</td>\n",
       "      <td>0</td>\n",
       "      <td>7</td>\n",
       "      <td>0</td>\n",
       "      <td>0</td>\n",
       "      <td>0</td>\n",
       "      <td>3</td>\n",
       "      <td>0</td>\n",
       "      <td>1</td>\n",
       "      <td>0</td>\n",
       "      <td>0</td>\n",
       "      <td>3</td>\n",
       "      <td>3</td>\n",
       "      <td>1</td>\n",
       "      <td>0</td>\n",
       "      <td>2</td>\n",
       "      <td>0</td>\n",
       "      <td>0</td>\n",
       "      <td>0</td>\n",
       "      <td>0</td>\n",
       "      <td>0</td>\n",
       "      <td>0</td>\n",
       "      <td>1</td>\n",
       "      <td>0</td>\n",
       "      <td>0</td>\n",
       "      <td>1</td>\n",
       "      <td>0</td>\n",
       "      <td>0</td>\n",
       "      <td>0</td>\n",
       "      <td>0</td>\n",
       "      <td>0</td>\n",
       "      <td>11</td>\n",
       "      <td>0</td>\n",
       "      <td>0</td>\n",
       "      <td>0</td>\n",
       "      <td>0</td>\n",
       "      <td>0</td>\n",
       "      <td>9</td>\n",
       "      <td>0</td>\n",
       "      <td>0</td>\n",
       "      <td>0</td>\n",
       "      <td>0</td>\n",
       "      <td>0</td>\n",
       "      <td>0</td>\n",
       "      <td>3</td>\n",
       "      <td>0</td>\n",
       "      <td>1</td>\n",
       "      <td>3</td>\n",
       "      <td>0</td>\n",
       "      <td>0</td>\n",
       "      <td>0</td>\n",
       "      <td>0</td>\n",
       "      <td>0</td>\n",
       "      <td>0</td>\n",
       "      <td>0</td>\n",
       "      <td>1</td>\n",
       "      <td>1</td>\n",
       "      <td>0</td>\n",
       "      <td>0</td>\n",
       "      <td>3</td>\n",
       "      <td>0</td>\n",
       "      <td>0</td>\n",
       "      <td>0</td>\n",
       "      <td>0</td>\n",
       "      <td>0</td>\n",
       "      <td>0</td>\n",
       "      <td>2</td>\n",
       "      <td>0</td>\n",
       "      <td>0</td>\n",
       "      <td>Class_6</td>\n",
       "    </tr>\n",
       "    <tr>\n",
       "      <th>1</th>\n",
       "      <td>1</td>\n",
       "      <td>0</td>\n",
       "      <td>0</td>\n",
       "      <td>0</td>\n",
       "      <td>0</td>\n",
       "      <td>0</td>\n",
       "      <td>0</td>\n",
       "      <td>0</td>\n",
       "      <td>0</td>\n",
       "      <td>0</td>\n",
       "      <td>0</td>\n",
       "      <td>0</td>\n",
       "      <td>0</td>\n",
       "      <td>1</td>\n",
       "      <td>0</td>\n",
       "      <td>0</td>\n",
       "      <td>0</td>\n",
       "      <td>0</td>\n",
       "      <td>0</td>\n",
       "      <td>0</td>\n",
       "      <td>0</td>\n",
       "      <td>0</td>\n",
       "      <td>0</td>\n",
       "      <td>0</td>\n",
       "      <td>0</td>\n",
       "      <td>0</td>\n",
       "      <td>0</td>\n",
       "      <td>0</td>\n",
       "      <td>0</td>\n",
       "      <td>1</td>\n",
       "      <td>0</td>\n",
       "      <td>0</td>\n",
       "      <td>0</td>\n",
       "      <td>0</td>\n",
       "      <td>0</td>\n",
       "      <td>0</td>\n",
       "      <td>1</td>\n",
       "      <td>0</td>\n",
       "      <td>0</td>\n",
       "      <td>0</td>\n",
       "      <td>0</td>\n",
       "      <td>0</td>\n",
       "      <td>0</td>\n",
       "      <td>0</td>\n",
       "      <td>2</td>\n",
       "      <td>0</td>\n",
       "      <td>0</td>\n",
       "      <td>1</td>\n",
       "      <td>0</td>\n",
       "      <td>0</td>\n",
       "      <td>0</td>\n",
       "      <td>0</td>\n",
       "      <td>0</td>\n",
       "      <td>0</td>\n",
       "      <td>0</td>\n",
       "      <td>0</td>\n",
       "      <td>0</td>\n",
       "      <td>0</td>\n",
       "      <td>0</td>\n",
       "      <td>0</td>\n",
       "      <td>0</td>\n",
       "      <td>0</td>\n",
       "      <td>0</td>\n",
       "      <td>0</td>\n",
       "      <td>0</td>\n",
       "      <td>0</td>\n",
       "      <td>0</td>\n",
       "      <td>2</td>\n",
       "      <td>0</td>\n",
       "      <td>0</td>\n",
       "      <td>0</td>\n",
       "      <td>0</td>\n",
       "      <td>0</td>\n",
       "      <td>0</td>\n",
       "      <td>1</td>\n",
       "      <td>0</td>\n",
       "      <td>Class_6</td>\n",
       "    </tr>\n",
       "    <tr>\n",
       "      <th>2</th>\n",
       "      <td>2</td>\n",
       "      <td>0</td>\n",
       "      <td>0</td>\n",
       "      <td>0</td>\n",
       "      <td>0</td>\n",
       "      <td>0</td>\n",
       "      <td>1</td>\n",
       "      <td>0</td>\n",
       "      <td>3</td>\n",
       "      <td>0</td>\n",
       "      <td>0</td>\n",
       "      <td>1</td>\n",
       "      <td>0</td>\n",
       "      <td>0</td>\n",
       "      <td>0</td>\n",
       "      <td>0</td>\n",
       "      <td>0</td>\n",
       "      <td>0</td>\n",
       "      <td>0</td>\n",
       "      <td>0</td>\n",
       "      <td>5</td>\n",
       "      <td>4</td>\n",
       "      <td>0</td>\n",
       "      <td>0</td>\n",
       "      <td>0</td>\n",
       "      <td>0</td>\n",
       "      <td>0</td>\n",
       "      <td>0</td>\n",
       "      <td>0</td>\n",
       "      <td>0</td>\n",
       "      <td>1</td>\n",
       "      <td>0</td>\n",
       "      <td>0</td>\n",
       "      <td>0</td>\n",
       "      <td>0</td>\n",
       "      <td>2</td>\n",
       "      <td>0</td>\n",
       "      <td>0</td>\n",
       "      <td>5</td>\n",
       "      <td>0</td>\n",
       "      <td>5</td>\n",
       "      <td>0</td>\n",
       "      <td>1</td>\n",
       "      <td>0</td>\n",
       "      <td>0</td>\n",
       "      <td>0</td>\n",
       "      <td>1</td>\n",
       "      <td>0</td>\n",
       "      <td>0</td>\n",
       "      <td>1</td>\n",
       "      <td>0</td>\n",
       "      <td>7</td>\n",
       "      <td>0</td>\n",
       "      <td>1</td>\n",
       "      <td>1</td>\n",
       "      <td>0</td>\n",
       "      <td>3</td>\n",
       "      <td>4</td>\n",
       "      <td>0</td>\n",
       "      <td>0</td>\n",
       "      <td>1</td>\n",
       "      <td>3</td>\n",
       "      <td>0</td>\n",
       "      <td>2</td>\n",
       "      <td>0</td>\n",
       "      <td>0</td>\n",
       "      <td>8</td>\n",
       "      <td>0</td>\n",
       "      <td>0</td>\n",
       "      <td>0</td>\n",
       "      <td>0</td>\n",
       "      <td>1</td>\n",
       "      <td>0</td>\n",
       "      <td>0</td>\n",
       "      <td>0</td>\n",
       "      <td>0</td>\n",
       "      <td>Class_2</td>\n",
       "    </tr>\n",
       "    <tr>\n",
       "      <th>3</th>\n",
       "      <td>3</td>\n",
       "      <td>0</td>\n",
       "      <td>0</td>\n",
       "      <td>7</td>\n",
       "      <td>0</td>\n",
       "      <td>1</td>\n",
       "      <td>5</td>\n",
       "      <td>2</td>\n",
       "      <td>2</td>\n",
       "      <td>0</td>\n",
       "      <td>1</td>\n",
       "      <td>2</td>\n",
       "      <td>0</td>\n",
       "      <td>5</td>\n",
       "      <td>0</td>\n",
       "      <td>0</td>\n",
       "      <td>4</td>\n",
       "      <td>0</td>\n",
       "      <td>0</td>\n",
       "      <td>22</td>\n",
       "      <td>2</td>\n",
       "      <td>1</td>\n",
       "      <td>0</td>\n",
       "      <td>0</td>\n",
       "      <td>0</td>\n",
       "      <td>0</td>\n",
       "      <td>3</td>\n",
       "      <td>0</td>\n",
       "      <td>37</td>\n",
       "      <td>0</td>\n",
       "      <td>1</td>\n",
       "      <td>3</td>\n",
       "      <td>13</td>\n",
       "      <td>0</td>\n",
       "      <td>10</td>\n",
       "      <td>0</td>\n",
       "      <td>3</td>\n",
       "      <td>1</td>\n",
       "      <td>1</td>\n",
       "      <td>0</td>\n",
       "      <td>7</td>\n",
       "      <td>0</td>\n",
       "      <td>0</td>\n",
       "      <td>2</td>\n",
       "      <td>0</td>\n",
       "      <td>1</td>\n",
       "      <td>0</td>\n",
       "      <td>0</td>\n",
       "      <td>0</td>\n",
       "      <td>0</td>\n",
       "      <td>0</td>\n",
       "      <td>0</td>\n",
       "      <td>10</td>\n",
       "      <td>0</td>\n",
       "      <td>0</td>\n",
       "      <td>25</td>\n",
       "      <td>1</td>\n",
       "      <td>0</td>\n",
       "      <td>1</td>\n",
       "      <td>2</td>\n",
       "      <td>0</td>\n",
       "      <td>2</td>\n",
       "      <td>0</td>\n",
       "      <td>7</td>\n",
       "      <td>0</td>\n",
       "      <td>0</td>\n",
       "      <td>0</td>\n",
       "      <td>0</td>\n",
       "      <td>4</td>\n",
       "      <td>0</td>\n",
       "      <td>2</td>\n",
       "      <td>2</td>\n",
       "      <td>0</td>\n",
       "      <td>4</td>\n",
       "      <td>3</td>\n",
       "      <td>0</td>\n",
       "      <td>Class_8</td>\n",
       "    </tr>\n",
       "    <tr>\n",
       "      <th>4</th>\n",
       "      <td>4</td>\n",
       "      <td>1</td>\n",
       "      <td>0</td>\n",
       "      <td>0</td>\n",
       "      <td>0</td>\n",
       "      <td>0</td>\n",
       "      <td>0</td>\n",
       "      <td>0</td>\n",
       "      <td>0</td>\n",
       "      <td>0</td>\n",
       "      <td>0</td>\n",
       "      <td>0</td>\n",
       "      <td>0</td>\n",
       "      <td>0</td>\n",
       "      <td>0</td>\n",
       "      <td>0</td>\n",
       "      <td>0</td>\n",
       "      <td>0</td>\n",
       "      <td>0</td>\n",
       "      <td>0</td>\n",
       "      <td>0</td>\n",
       "      <td>1</td>\n",
       "      <td>0</td>\n",
       "      <td>0</td>\n",
       "      <td>0</td>\n",
       "      <td>0</td>\n",
       "      <td>1</td>\n",
       "      <td>0</td>\n",
       "      <td>0</td>\n",
       "      <td>0</td>\n",
       "      <td>0</td>\n",
       "      <td>0</td>\n",
       "      <td>0</td>\n",
       "      <td>0</td>\n",
       "      <td>0</td>\n",
       "      <td>0</td>\n",
       "      <td>0</td>\n",
       "      <td>0</td>\n",
       "      <td>2</td>\n",
       "      <td>0</td>\n",
       "      <td>5</td>\n",
       "      <td>0</td>\n",
       "      <td>0</td>\n",
       "      <td>0</td>\n",
       "      <td>0</td>\n",
       "      <td>0</td>\n",
       "      <td>0</td>\n",
       "      <td>0</td>\n",
       "      <td>0</td>\n",
       "      <td>0</td>\n",
       "      <td>0</td>\n",
       "      <td>0</td>\n",
       "      <td>0</td>\n",
       "      <td>0</td>\n",
       "      <td>0</td>\n",
       "      <td>3</td>\n",
       "      <td>0</td>\n",
       "      <td>0</td>\n",
       "      <td>1</td>\n",
       "      <td>0</td>\n",
       "      <td>0</td>\n",
       "      <td>0</td>\n",
       "      <td>0</td>\n",
       "      <td>0</td>\n",
       "      <td>0</td>\n",
       "      <td>0</td>\n",
       "      <td>0</td>\n",
       "      <td>0</td>\n",
       "      <td>0</td>\n",
       "      <td>0</td>\n",
       "      <td>0</td>\n",
       "      <td>0</td>\n",
       "      <td>0</td>\n",
       "      <td>0</td>\n",
       "      <td>0</td>\n",
       "      <td>0</td>\n",
       "      <td>Class_2</td>\n",
       "    </tr>\n",
       "  </tbody>\n",
       "</table>\n",
       "</div>"
      ],
      "text/plain": [
       "   id  feature_0  feature_1  feature_2  feature_3  feature_4  feature_5  \\\n",
       "0   0          0          0          6          1          0          0   \n",
       "1   1          0          0          0          0          0          0   \n",
       "2   2          0          0          0          0          0          1   \n",
       "3   3          0          0          7          0          1          5   \n",
       "4   4          1          0          0          0          0          0   \n",
       "\n",
       "   feature_6  feature_7  feature_8  feature_9  feature_10  feature_11  \\\n",
       "0          0          0          7          0           0           0   \n",
       "1          0          0          0          0           0           0   \n",
       "2          0          3          0          0           1           0   \n",
       "3          2          2          0          1           2           0   \n",
       "4          0          0          0          0           0           0   \n",
       "\n",
       "   feature_12  feature_13  feature_14  feature_15  feature_16  feature_17  \\\n",
       "0           3           0           1           0           0           3   \n",
       "1           1           0           0           0           0           0   \n",
       "2           0           0           0           0           0           0   \n",
       "3           5           0           0           4           0           0   \n",
       "4           0           0           0           0           0           0   \n",
       "\n",
       "   feature_18  feature_19  feature_20  feature_21  feature_22  feature_23  \\\n",
       "0           3           1           0           2           0           0   \n",
       "1           0           0           0           0           0           0   \n",
       "2           0           5           4           0           0           0   \n",
       "3          22           2           1           0           0           0   \n",
       "4           0           0           1           0           0           0   \n",
       "\n",
       "   feature_24  feature_25  feature_26  feature_27  feature_28  feature_29  \\\n",
       "0           0           0           0           0           1           0   \n",
       "1           0           0           0           0           1           0   \n",
       "2           0           0           0           0           0           1   \n",
       "3           0           3           0          37           0           1   \n",
       "4           0           1           0           0           0           0   \n",
       "\n",
       "   feature_30  feature_31  feature_32  feature_33  feature_34  feature_35  \\\n",
       "0           0           1           0           0           0           0   \n",
       "1           0           0           0           0           0           1   \n",
       "2           0           0           0           0           2           0   \n",
       "3           3          13           0          10           0           3   \n",
       "4           0           0           0           0           0           0   \n",
       "\n",
       "   feature_36  feature_37  feature_38  feature_39  feature_40  feature_41  \\\n",
       "0           0          11           0           0           0           0   \n",
       "1           0           0           0           0           0           0   \n",
       "2           0           5           0           5           0           1   \n",
       "3           1           1           0           7           0           0   \n",
       "4           0           2           0           5           0           0   \n",
       "\n",
       "   feature_42  feature_43  feature_44  feature_45  feature_46  feature_47  \\\n",
       "0           0           9           0           0           0           0   \n",
       "1           0           2           0           0           1           0   \n",
       "2           0           0           0           1           0           0   \n",
       "3           2           0           1           0           0           0   \n",
       "4           0           0           0           0           0           0   \n",
       "\n",
       "   feature_48  feature_49  feature_50  feature_51  feature_52  feature_53  \\\n",
       "0           0           0           3           0           1           3   \n",
       "1           0           0           0           0           0           0   \n",
       "2           1           0           7           0           1           1   \n",
       "3           0           0           0          10           0           0   \n",
       "4           0           0           0           0           0           0   \n",
       "\n",
       "   feature_54  feature_55  feature_56  feature_57  feature_58  feature_59  \\\n",
       "0           0           0           0           0           0           0   \n",
       "1           0           0           0           0           0           0   \n",
       "2           0           3           4           0           0           1   \n",
       "3          25           1           0           1           2           0   \n",
       "4           3           0           0           1           0           0   \n",
       "\n",
       "   feature_60  feature_61  feature_62  feature_63  feature_64  feature_65  \\\n",
       "0           0           1           1           0           0           3   \n",
       "1           0           0           0           0           0           0   \n",
       "2           3           0           2           0           0           8   \n",
       "3           2           0           7           0           0           0   \n",
       "4           0           0           0           0           0           0   \n",
       "\n",
       "   feature_66  feature_67  feature_68  feature_69  feature_70  feature_71  \\\n",
       "0           0           0           0           0           0           0   \n",
       "1           2           0           0           0           0           0   \n",
       "2           0           0           0           0           1           0   \n",
       "3           0           4           0           2           2           0   \n",
       "4           0           0           0           0           0           0   \n",
       "\n",
       "   feature_72  feature_73  feature_74   target  \n",
       "0           2           0           0  Class_6  \n",
       "1           0           1           0  Class_6  \n",
       "2           0           0           0  Class_2  \n",
       "3           4           3           0  Class_8  \n",
       "4           0           0           0  Class_2  "
      ]
     },
     "execution_count": 4,
     "metadata": {},
     "output_type": "execute_result"
    }
   ],
   "source": [
    "df_train.head()"
   ]
  },
  {
   "cell_type": "code",
   "execution_count": 5,
   "id": "5d8f06f6",
   "metadata": {},
   "outputs": [
    {
     "data": {
      "text/plain": [
       "Class_6    51811\n",
       "Class_8    51763\n",
       "Class_9    25542\n",
       "Class_2    24431\n",
       "Class_3    14798\n",
       "Class_7    14769\n",
       "Class_1     9118\n",
       "Class_4     4704\n",
       "Class_5     3064\n",
       "Name: target, dtype: int64"
      ]
     },
     "execution_count": 5,
     "metadata": {},
     "output_type": "execute_result"
    }
   ],
   "source": [
    "# Imbalance\n",
    "df_train['target'].value_counts()"
   ]
  },
  {
   "cell_type": "code",
   "execution_count": 6,
   "id": "7762c664",
   "metadata": {
    "scrolled": true
   },
   "outputs": [],
   "source": [
    "all_data = pd.concat([df_train, df_test]).reset_index(drop=True)\n",
    "all_data.drop(['id'], axis=1, inplace=True)"
   ]
  },
  {
   "cell_type": "code",
   "execution_count": 7,
   "id": "324385a3",
   "metadata": {},
   "outputs": [],
   "source": [
    "# # Check missing value\n",
    "# print(all_data.isnull().sum())\n",
    "\n",
    "# 敘述統計量\n",
    "# print(all_data.describe())\n",
    "\n",
    "# Check category features or numerical features\n",
    "# print(all_data.nunique())"
   ]
  },
  {
   "cell_type": "code",
   "execution_count": 25,
   "id": "eb77e460",
   "metadata": {},
   "outputs": [],
   "source": [
    "num_col = []\n",
    "cat_col = [i for i in all_data.columns if i not in ['id', 'target']]\n",
    "target_col = 'target'\n",
    "comb = num_col + cat_col + [target_col]\n",
    "\n",
    "# Label Y\n",
    "le = LabelEncoder()\n",
    "y = le.fit_transform(df_train[target_col])\n",
    "\n",
    "# Target-based Encoder\n",
    "ce = CatBoostEncoder()\n",
    "x = df_train[cat_col].astype('str')\n",
    "ce.fit(x, y)\n",
    "\n",
    "all_data[cat_col] = all_data[cat_col].astype('str')\n",
    "all_data[cat_col] = pd.DataFrame(ce.transform(all_data[cat_col]), columns=cat_col)"
   ]
  },
  {
   "cell_type": "code",
   "execution_count": 10,
   "id": "26aae1fe",
   "metadata": {},
   "outputs": [],
   "source": [
    "# split train and test\n",
    "df_train = all_data[:len(df_train)]\n",
    "df_train[target_col] = y.astype('int64')\n",
    "\n",
    "df_test = all_data[len(df_train):]\n",
    "df_test[target_col] = np.int64(0)"
   ]
  },
  {
   "cell_type": "code",
   "execution_count": 11,
   "id": "ff7460f7",
   "metadata": {},
   "outputs": [
    {
     "data": {
      "text/html": [
       "<style  type=\"text/css\" >\n",
       "#T_e970b_row18_col1{\n",
       "            background-color:  lightgreen;\n",
       "        }</style><table id=\"T_e970b_\" ><thead>    <tr>        <th class=\"blank level0\" ></th>        <th class=\"col_heading level0 col0\" >Description</th>        <th class=\"col_heading level0 col1\" >Value</th>    </tr></thead><tbody>\n",
       "                <tr>\n",
       "                        <th id=\"T_e970b_level0_row0\" class=\"row_heading level0 row0\" >0</th>\n",
       "                        <td id=\"T_e970b_row0_col0\" class=\"data row0 col0\" >session_id</td>\n",
       "                        <td id=\"T_e970b_row0_col1\" class=\"data row0 col1\" >20210602</td>\n",
       "            </tr>\n",
       "            <tr>\n",
       "                        <th id=\"T_e970b_level0_row1\" class=\"row_heading level0 row1\" >1</th>\n",
       "                        <td id=\"T_e970b_row1_col0\" class=\"data row1 col0\" >Target</td>\n",
       "                        <td id=\"T_e970b_row1_col1\" class=\"data row1 col1\" >target</td>\n",
       "            </tr>\n",
       "            <tr>\n",
       "                        <th id=\"T_e970b_level0_row2\" class=\"row_heading level0 row2\" >2</th>\n",
       "                        <td id=\"T_e970b_row2_col0\" class=\"data row2 col0\" >Target Type</td>\n",
       "                        <td id=\"T_e970b_row2_col1\" class=\"data row2 col1\" >Multiclass</td>\n",
       "            </tr>\n",
       "            <tr>\n",
       "                        <th id=\"T_e970b_level0_row3\" class=\"row_heading level0 row3\" >3</th>\n",
       "                        <td id=\"T_e970b_row3_col0\" class=\"data row3 col0\" >Label Encoded</td>\n",
       "                        <td id=\"T_e970b_row3_col1\" class=\"data row3 col1\" >0: 0, 1: 1, 2: 2, 3: 3, 4: 4, 5: 5, 6: 6, 7: 7, 8: 8</td>\n",
       "            </tr>\n",
       "            <tr>\n",
       "                        <th id=\"T_e970b_level0_row4\" class=\"row_heading level0 row4\" >4</th>\n",
       "                        <td id=\"T_e970b_row4_col0\" class=\"data row4 col0\" >Original Data</td>\n",
       "                        <td id=\"T_e970b_row4_col1\" class=\"data row4 col1\" >(200000, 76)</td>\n",
       "            </tr>\n",
       "            <tr>\n",
       "                        <th id=\"T_e970b_level0_row5\" class=\"row_heading level0 row5\" >5</th>\n",
       "                        <td id=\"T_e970b_row5_col0\" class=\"data row5 col0\" >Missing Values</td>\n",
       "                        <td id=\"T_e970b_row5_col1\" class=\"data row5 col1\" >False</td>\n",
       "            </tr>\n",
       "            <tr>\n",
       "                        <th id=\"T_e970b_level0_row6\" class=\"row_heading level0 row6\" >6</th>\n",
       "                        <td id=\"T_e970b_row6_col0\" class=\"data row6 col0\" >Numeric Features</td>\n",
       "                        <td id=\"T_e970b_row6_col1\" class=\"data row6 col1\" >75</td>\n",
       "            </tr>\n",
       "            <tr>\n",
       "                        <th id=\"T_e970b_level0_row7\" class=\"row_heading level0 row7\" >7</th>\n",
       "                        <td id=\"T_e970b_row7_col0\" class=\"data row7 col0\" >Categorical Features</td>\n",
       "                        <td id=\"T_e970b_row7_col1\" class=\"data row7 col1\" >0</td>\n",
       "            </tr>\n",
       "            <tr>\n",
       "                        <th id=\"T_e970b_level0_row8\" class=\"row_heading level0 row8\" >8</th>\n",
       "                        <td id=\"T_e970b_row8_col0\" class=\"data row8 col0\" >Ordinal Features</td>\n",
       "                        <td id=\"T_e970b_row8_col1\" class=\"data row8 col1\" >False</td>\n",
       "            </tr>\n",
       "            <tr>\n",
       "                        <th id=\"T_e970b_level0_row9\" class=\"row_heading level0 row9\" >9</th>\n",
       "                        <td id=\"T_e970b_row9_col0\" class=\"data row9 col0\" >High Cardinality Features</td>\n",
       "                        <td id=\"T_e970b_row9_col1\" class=\"data row9 col1\" >False</td>\n",
       "            </tr>\n",
       "            <tr>\n",
       "                        <th id=\"T_e970b_level0_row10\" class=\"row_heading level0 row10\" >10</th>\n",
       "                        <td id=\"T_e970b_row10_col0\" class=\"data row10 col0\" >High Cardinality Method</td>\n",
       "                        <td id=\"T_e970b_row10_col1\" class=\"data row10 col1\" >None</td>\n",
       "            </tr>\n",
       "            <tr>\n",
       "                        <th id=\"T_e970b_level0_row11\" class=\"row_heading level0 row11\" >11</th>\n",
       "                        <td id=\"T_e970b_row11_col0\" class=\"data row11 col0\" >Transformed Train Set</td>\n",
       "                        <td id=\"T_e970b_row11_col1\" class=\"data row11 col1\" >(200000, 75)</td>\n",
       "            </tr>\n",
       "            <tr>\n",
       "                        <th id=\"T_e970b_level0_row12\" class=\"row_heading level0 row12\" >12</th>\n",
       "                        <td id=\"T_e970b_row12_col0\" class=\"data row12 col0\" >Transformed Test Set</td>\n",
       "                        <td id=\"T_e970b_row12_col1\" class=\"data row12 col1\" >(100000, 75)</td>\n",
       "            </tr>\n",
       "            <tr>\n",
       "                        <th id=\"T_e970b_level0_row13\" class=\"row_heading level0 row13\" >13</th>\n",
       "                        <td id=\"T_e970b_row13_col0\" class=\"data row13 col0\" >Shuffle Train-Test</td>\n",
       "                        <td id=\"T_e970b_row13_col1\" class=\"data row13 col1\" >True</td>\n",
       "            </tr>\n",
       "            <tr>\n",
       "                        <th id=\"T_e970b_level0_row14\" class=\"row_heading level0 row14\" >14</th>\n",
       "                        <td id=\"T_e970b_row14_col0\" class=\"data row14 col0\" >Stratify Train-Test</td>\n",
       "                        <td id=\"T_e970b_row14_col1\" class=\"data row14 col1\" >True</td>\n",
       "            </tr>\n",
       "            <tr>\n",
       "                        <th id=\"T_e970b_level0_row15\" class=\"row_heading level0 row15\" >15</th>\n",
       "                        <td id=\"T_e970b_row15_col0\" class=\"data row15 col0\" >Fold Generator</td>\n",
       "                        <td id=\"T_e970b_row15_col1\" class=\"data row15 col1\" >StratifiedKFold</td>\n",
       "            </tr>\n",
       "            <tr>\n",
       "                        <th id=\"T_e970b_level0_row16\" class=\"row_heading level0 row16\" >16</th>\n",
       "                        <td id=\"T_e970b_row16_col0\" class=\"data row16 col0\" >Fold Number</td>\n",
       "                        <td id=\"T_e970b_row16_col1\" class=\"data row16 col1\" >5</td>\n",
       "            </tr>\n",
       "            <tr>\n",
       "                        <th id=\"T_e970b_level0_row17\" class=\"row_heading level0 row17\" >17</th>\n",
       "                        <td id=\"T_e970b_row17_col0\" class=\"data row17 col0\" >CPU Jobs</td>\n",
       "                        <td id=\"T_e970b_row17_col1\" class=\"data row17 col1\" >-1</td>\n",
       "            </tr>\n",
       "            <tr>\n",
       "                        <th id=\"T_e970b_level0_row18\" class=\"row_heading level0 row18\" >18</th>\n",
       "                        <td id=\"T_e970b_row18_col0\" class=\"data row18 col0\" >Use GPU</td>\n",
       "                        <td id=\"T_e970b_row18_col1\" class=\"data row18 col1\" >True</td>\n",
       "            </tr>\n",
       "            <tr>\n",
       "                        <th id=\"T_e970b_level0_row19\" class=\"row_heading level0 row19\" >19</th>\n",
       "                        <td id=\"T_e970b_row19_col0\" class=\"data row19 col0\" >Log Experiment</td>\n",
       "                        <td id=\"T_e970b_row19_col1\" class=\"data row19 col1\" >False</td>\n",
       "            </tr>\n",
       "            <tr>\n",
       "                        <th id=\"T_e970b_level0_row20\" class=\"row_heading level0 row20\" >20</th>\n",
       "                        <td id=\"T_e970b_row20_col0\" class=\"data row20 col0\" >Experiment Name</td>\n",
       "                        <td id=\"T_e970b_row20_col1\" class=\"data row20 col1\" >clf-default-name</td>\n",
       "            </tr>\n",
       "            <tr>\n",
       "                        <th id=\"T_e970b_level0_row21\" class=\"row_heading level0 row21\" >21</th>\n",
       "                        <td id=\"T_e970b_row21_col0\" class=\"data row21 col0\" >USI</td>\n",
       "                        <td id=\"T_e970b_row21_col1\" class=\"data row21 col1\" >e77f</td>\n",
       "            </tr>\n",
       "            <tr>\n",
       "                        <th id=\"T_e970b_level0_row22\" class=\"row_heading level0 row22\" >22</th>\n",
       "                        <td id=\"T_e970b_row22_col0\" class=\"data row22 col0\" >Imputation Type</td>\n",
       "                        <td id=\"T_e970b_row22_col1\" class=\"data row22 col1\" >iterative</td>\n",
       "            </tr>\n",
       "            <tr>\n",
       "                        <th id=\"T_e970b_level0_row23\" class=\"row_heading level0 row23\" >23</th>\n",
       "                        <td id=\"T_e970b_row23_col0\" class=\"data row23 col0\" >Iterative Imputation Iteration</td>\n",
       "                        <td id=\"T_e970b_row23_col1\" class=\"data row23 col1\" >5</td>\n",
       "            </tr>\n",
       "            <tr>\n",
       "                        <th id=\"T_e970b_level0_row24\" class=\"row_heading level0 row24\" >24</th>\n",
       "                        <td id=\"T_e970b_row24_col0\" class=\"data row24 col0\" >Numeric Imputer</td>\n",
       "                        <td id=\"T_e970b_row24_col1\" class=\"data row24 col1\" >mean</td>\n",
       "            </tr>\n",
       "            <tr>\n",
       "                        <th id=\"T_e970b_level0_row25\" class=\"row_heading level0 row25\" >25</th>\n",
       "                        <td id=\"T_e970b_row25_col0\" class=\"data row25 col0\" >Iterative Imputation Numeric Model</td>\n",
       "                        <td id=\"T_e970b_row25_col1\" class=\"data row25 col1\" >Light Gradient Boosting Machine</td>\n",
       "            </tr>\n",
       "            <tr>\n",
       "                        <th id=\"T_e970b_level0_row26\" class=\"row_heading level0 row26\" >26</th>\n",
       "                        <td id=\"T_e970b_row26_col0\" class=\"data row26 col0\" >Categorical Imputer</td>\n",
       "                        <td id=\"T_e970b_row26_col1\" class=\"data row26 col1\" >constant</td>\n",
       "            </tr>\n",
       "            <tr>\n",
       "                        <th id=\"T_e970b_level0_row27\" class=\"row_heading level0 row27\" >27</th>\n",
       "                        <td id=\"T_e970b_row27_col0\" class=\"data row27 col0\" >Iterative Imputation Categorical Model</td>\n",
       "                        <td id=\"T_e970b_row27_col1\" class=\"data row27 col1\" >Light Gradient Boosting Machine</td>\n",
       "            </tr>\n",
       "            <tr>\n",
       "                        <th id=\"T_e970b_level0_row28\" class=\"row_heading level0 row28\" >28</th>\n",
       "                        <td id=\"T_e970b_row28_col0\" class=\"data row28 col0\" >Unknown Categoricals Handling</td>\n",
       "                        <td id=\"T_e970b_row28_col1\" class=\"data row28 col1\" >least_frequent</td>\n",
       "            </tr>\n",
       "            <tr>\n",
       "                        <th id=\"T_e970b_level0_row29\" class=\"row_heading level0 row29\" >29</th>\n",
       "                        <td id=\"T_e970b_row29_col0\" class=\"data row29 col0\" >Normalize</td>\n",
       "                        <td id=\"T_e970b_row29_col1\" class=\"data row29 col1\" >False</td>\n",
       "            </tr>\n",
       "            <tr>\n",
       "                        <th id=\"T_e970b_level0_row30\" class=\"row_heading level0 row30\" >30</th>\n",
       "                        <td id=\"T_e970b_row30_col0\" class=\"data row30 col0\" >Normalize Method</td>\n",
       "                        <td id=\"T_e970b_row30_col1\" class=\"data row30 col1\" >None</td>\n",
       "            </tr>\n",
       "            <tr>\n",
       "                        <th id=\"T_e970b_level0_row31\" class=\"row_heading level0 row31\" >31</th>\n",
       "                        <td id=\"T_e970b_row31_col0\" class=\"data row31 col0\" >Transformation</td>\n",
       "                        <td id=\"T_e970b_row31_col1\" class=\"data row31 col1\" >False</td>\n",
       "            </tr>\n",
       "            <tr>\n",
       "                        <th id=\"T_e970b_level0_row32\" class=\"row_heading level0 row32\" >32</th>\n",
       "                        <td id=\"T_e970b_row32_col0\" class=\"data row32 col0\" >Transformation Method</td>\n",
       "                        <td id=\"T_e970b_row32_col1\" class=\"data row32 col1\" >None</td>\n",
       "            </tr>\n",
       "            <tr>\n",
       "                        <th id=\"T_e970b_level0_row33\" class=\"row_heading level0 row33\" >33</th>\n",
       "                        <td id=\"T_e970b_row33_col0\" class=\"data row33 col0\" >PCA</td>\n",
       "                        <td id=\"T_e970b_row33_col1\" class=\"data row33 col1\" >False</td>\n",
       "            </tr>\n",
       "            <tr>\n",
       "                        <th id=\"T_e970b_level0_row34\" class=\"row_heading level0 row34\" >34</th>\n",
       "                        <td id=\"T_e970b_row34_col0\" class=\"data row34 col0\" >PCA Method</td>\n",
       "                        <td id=\"T_e970b_row34_col1\" class=\"data row34 col1\" >None</td>\n",
       "            </tr>\n",
       "            <tr>\n",
       "                        <th id=\"T_e970b_level0_row35\" class=\"row_heading level0 row35\" >35</th>\n",
       "                        <td id=\"T_e970b_row35_col0\" class=\"data row35 col0\" >PCA Components</td>\n",
       "                        <td id=\"T_e970b_row35_col1\" class=\"data row35 col1\" >None</td>\n",
       "            </tr>\n",
       "            <tr>\n",
       "                        <th id=\"T_e970b_level0_row36\" class=\"row_heading level0 row36\" >36</th>\n",
       "                        <td id=\"T_e970b_row36_col0\" class=\"data row36 col0\" >Ignore Low Variance</td>\n",
       "                        <td id=\"T_e970b_row36_col1\" class=\"data row36 col1\" >False</td>\n",
       "            </tr>\n",
       "            <tr>\n",
       "                        <th id=\"T_e970b_level0_row37\" class=\"row_heading level0 row37\" >37</th>\n",
       "                        <td id=\"T_e970b_row37_col0\" class=\"data row37 col0\" >Combine Rare Levels</td>\n",
       "                        <td id=\"T_e970b_row37_col1\" class=\"data row37 col1\" >False</td>\n",
       "            </tr>\n",
       "            <tr>\n",
       "                        <th id=\"T_e970b_level0_row38\" class=\"row_heading level0 row38\" >38</th>\n",
       "                        <td id=\"T_e970b_row38_col0\" class=\"data row38 col0\" >Rare Level Threshold</td>\n",
       "                        <td id=\"T_e970b_row38_col1\" class=\"data row38 col1\" >None</td>\n",
       "            </tr>\n",
       "            <tr>\n",
       "                        <th id=\"T_e970b_level0_row39\" class=\"row_heading level0 row39\" >39</th>\n",
       "                        <td id=\"T_e970b_row39_col0\" class=\"data row39 col0\" >Numeric Binning</td>\n",
       "                        <td id=\"T_e970b_row39_col1\" class=\"data row39 col1\" >False</td>\n",
       "            </tr>\n",
       "            <tr>\n",
       "                        <th id=\"T_e970b_level0_row40\" class=\"row_heading level0 row40\" >40</th>\n",
       "                        <td id=\"T_e970b_row40_col0\" class=\"data row40 col0\" >Remove Outliers</td>\n",
       "                        <td id=\"T_e970b_row40_col1\" class=\"data row40 col1\" >False</td>\n",
       "            </tr>\n",
       "            <tr>\n",
       "                        <th id=\"T_e970b_level0_row41\" class=\"row_heading level0 row41\" >41</th>\n",
       "                        <td id=\"T_e970b_row41_col0\" class=\"data row41 col0\" >Outliers Threshold</td>\n",
       "                        <td id=\"T_e970b_row41_col1\" class=\"data row41 col1\" >None</td>\n",
       "            </tr>\n",
       "            <tr>\n",
       "                        <th id=\"T_e970b_level0_row42\" class=\"row_heading level0 row42\" >42</th>\n",
       "                        <td id=\"T_e970b_row42_col0\" class=\"data row42 col0\" >Remove Multicollinearity</td>\n",
       "                        <td id=\"T_e970b_row42_col1\" class=\"data row42 col1\" >False</td>\n",
       "            </tr>\n",
       "            <tr>\n",
       "                        <th id=\"T_e970b_level0_row43\" class=\"row_heading level0 row43\" >43</th>\n",
       "                        <td id=\"T_e970b_row43_col0\" class=\"data row43 col0\" >Multicollinearity Threshold</td>\n",
       "                        <td id=\"T_e970b_row43_col1\" class=\"data row43 col1\" >None</td>\n",
       "            </tr>\n",
       "            <tr>\n",
       "                        <th id=\"T_e970b_level0_row44\" class=\"row_heading level0 row44\" >44</th>\n",
       "                        <td id=\"T_e970b_row44_col0\" class=\"data row44 col0\" >Clustering</td>\n",
       "                        <td id=\"T_e970b_row44_col1\" class=\"data row44 col1\" >False</td>\n",
       "            </tr>\n",
       "            <tr>\n",
       "                        <th id=\"T_e970b_level0_row45\" class=\"row_heading level0 row45\" >45</th>\n",
       "                        <td id=\"T_e970b_row45_col0\" class=\"data row45 col0\" >Clustering Iteration</td>\n",
       "                        <td id=\"T_e970b_row45_col1\" class=\"data row45 col1\" >None</td>\n",
       "            </tr>\n",
       "            <tr>\n",
       "                        <th id=\"T_e970b_level0_row46\" class=\"row_heading level0 row46\" >46</th>\n",
       "                        <td id=\"T_e970b_row46_col0\" class=\"data row46 col0\" >Polynomial Features</td>\n",
       "                        <td id=\"T_e970b_row46_col1\" class=\"data row46 col1\" >False</td>\n",
       "            </tr>\n",
       "            <tr>\n",
       "                        <th id=\"T_e970b_level0_row47\" class=\"row_heading level0 row47\" >47</th>\n",
       "                        <td id=\"T_e970b_row47_col0\" class=\"data row47 col0\" >Polynomial Degree</td>\n",
       "                        <td id=\"T_e970b_row47_col1\" class=\"data row47 col1\" >None</td>\n",
       "            </tr>\n",
       "            <tr>\n",
       "                        <th id=\"T_e970b_level0_row48\" class=\"row_heading level0 row48\" >48</th>\n",
       "                        <td id=\"T_e970b_row48_col0\" class=\"data row48 col0\" >Trignometry Features</td>\n",
       "                        <td id=\"T_e970b_row48_col1\" class=\"data row48 col1\" >False</td>\n",
       "            </tr>\n",
       "            <tr>\n",
       "                        <th id=\"T_e970b_level0_row49\" class=\"row_heading level0 row49\" >49</th>\n",
       "                        <td id=\"T_e970b_row49_col0\" class=\"data row49 col0\" >Polynomial Threshold</td>\n",
       "                        <td id=\"T_e970b_row49_col1\" class=\"data row49 col1\" >None</td>\n",
       "            </tr>\n",
       "            <tr>\n",
       "                        <th id=\"T_e970b_level0_row50\" class=\"row_heading level0 row50\" >50</th>\n",
       "                        <td id=\"T_e970b_row50_col0\" class=\"data row50 col0\" >Group Features</td>\n",
       "                        <td id=\"T_e970b_row50_col1\" class=\"data row50 col1\" >False</td>\n",
       "            </tr>\n",
       "            <tr>\n",
       "                        <th id=\"T_e970b_level0_row51\" class=\"row_heading level0 row51\" >51</th>\n",
       "                        <td id=\"T_e970b_row51_col0\" class=\"data row51 col0\" >Feature Selection</td>\n",
       "                        <td id=\"T_e970b_row51_col1\" class=\"data row51 col1\" >False</td>\n",
       "            </tr>\n",
       "            <tr>\n",
       "                        <th id=\"T_e970b_level0_row52\" class=\"row_heading level0 row52\" >52</th>\n",
       "                        <td id=\"T_e970b_row52_col0\" class=\"data row52 col0\" >Feature Selection Method</td>\n",
       "                        <td id=\"T_e970b_row52_col1\" class=\"data row52 col1\" >classic</td>\n",
       "            </tr>\n",
       "            <tr>\n",
       "                        <th id=\"T_e970b_level0_row53\" class=\"row_heading level0 row53\" >53</th>\n",
       "                        <td id=\"T_e970b_row53_col0\" class=\"data row53 col0\" >Features Selection Threshold</td>\n",
       "                        <td id=\"T_e970b_row53_col1\" class=\"data row53 col1\" >None</td>\n",
       "            </tr>\n",
       "            <tr>\n",
       "                        <th id=\"T_e970b_level0_row54\" class=\"row_heading level0 row54\" >54</th>\n",
       "                        <td id=\"T_e970b_row54_col0\" class=\"data row54 col0\" >Feature Interaction</td>\n",
       "                        <td id=\"T_e970b_row54_col1\" class=\"data row54 col1\" >False</td>\n",
       "            </tr>\n",
       "            <tr>\n",
       "                        <th id=\"T_e970b_level0_row55\" class=\"row_heading level0 row55\" >55</th>\n",
       "                        <td id=\"T_e970b_row55_col0\" class=\"data row55 col0\" >Feature Ratio</td>\n",
       "                        <td id=\"T_e970b_row55_col1\" class=\"data row55 col1\" >False</td>\n",
       "            </tr>\n",
       "            <tr>\n",
       "                        <th id=\"T_e970b_level0_row56\" class=\"row_heading level0 row56\" >56</th>\n",
       "                        <td id=\"T_e970b_row56_col0\" class=\"data row56 col0\" >Interaction Threshold</td>\n",
       "                        <td id=\"T_e970b_row56_col1\" class=\"data row56 col1\" >None</td>\n",
       "            </tr>\n",
       "            <tr>\n",
       "                        <th id=\"T_e970b_level0_row57\" class=\"row_heading level0 row57\" >57</th>\n",
       "                        <td id=\"T_e970b_row57_col0\" class=\"data row57 col0\" >Fix Imbalance</td>\n",
       "                        <td id=\"T_e970b_row57_col1\" class=\"data row57 col1\" >False</td>\n",
       "            </tr>\n",
       "            <tr>\n",
       "                        <th id=\"T_e970b_level0_row58\" class=\"row_heading level0 row58\" >58</th>\n",
       "                        <td id=\"T_e970b_row58_col0\" class=\"data row58 col0\" >Fix Imbalance Method</td>\n",
       "                        <td id=\"T_e970b_row58_col1\" class=\"data row58 col1\" >SMOTE</td>\n",
       "            </tr>\n",
       "    </tbody></table>"
      ],
      "text/plain": [
       "<pandas.io.formats.style.Styler at 0x154805c31c8>"
      ]
     },
     "metadata": {},
     "output_type": "display_data"
    },
    {
     "data": {
      "text/plain": [
       "(0         5\n",
       " 1         5\n",
       " 2         1\n",
       " 3         7\n",
       " 4         1\n",
       "          ..\n",
       " 199995    5\n",
       " 199996    5\n",
       " 199997    7\n",
       " 199998    6\n",
       " 199999    7\n",
       " Name: target, Length: 200000, dtype: int32,\n",
       " 'clf-default-name',\n",
       " {'lr': <pycaret.containers.models.classification.LogisticRegressionClassifierContainer at 0x154805e7e88>,\n",
       "  'knn': <pycaret.containers.models.classification.KNeighborsClassifierContainer at 0x154805e8e88>,\n",
       "  'nb': <pycaret.containers.models.classification.GaussianNBClassifierContainer at 0x154805e8508>,\n",
       "  'dt': <pycaret.containers.models.classification.DecisionTreeClassifierContainer at 0x154805e8888>,\n",
       "  'svm': <pycaret.containers.models.classification.SGDClassifierContainer at 0x154805e8288>,\n",
       "  'rbfsvm': <pycaret.containers.models.classification.SVCClassifierContainer at 0x154805ed8c8>,\n",
       "  'gpc': <pycaret.containers.models.classification.GaussianProcessClassifierContainer at 0x154805edf48>,\n",
       "  'mlp': <pycaret.containers.models.classification.MLPClassifierContainer at 0x154805ed248>,\n",
       "  'ridge': <pycaret.containers.models.classification.RidgeClassifierContainer at 0x154805c38c8>,\n",
       "  'rf': <pycaret.containers.models.classification.RandomForestClassifierContainer at 0x154805e8688>,\n",
       "  'qda': <pycaret.containers.models.classification.QuadraticDiscriminantAnalysisContainer at 0x1548064e448>,\n",
       "  'ada': <pycaret.containers.models.classification.AdaBoostClassifierContainer at 0x154805e7a88>,\n",
       "  'gbc': <pycaret.containers.models.classification.GradientBoostingClassifierContainer at 0x154805e7508>,\n",
       "  'lda': <pycaret.containers.models.classification.LinearDiscriminantAnalysisContainer at 0x154805c3808>,\n",
       "  'et': <pycaret.containers.models.classification.ExtraTreesClassifierContainer at 0x154806b7548>,\n",
       "  'xgboost': <pycaret.containers.models.classification.XGBClassifierContainer at 0x154805e7a48>,\n",
       "  'lightgbm': <pycaret.containers.models.classification.LGBMClassifierContainer at 0x154806b7ac8>,\n",
       "  'catboost': <pycaret.containers.models.classification.CatBoostClassifierContainer at 0x154806a6f48>},\n",
       " False,\n",
       " [],\n",
       " None,\n",
       " 20210602,\n",
       " {'lr': <pycaret.containers.models.classification.LogisticRegressionClassifierContainer at 0x154805e7f48>,\n",
       "  'knn': <pycaret.containers.models.classification.KNeighborsClassifierContainer at 0x15480576f48>,\n",
       "  'nb': <pycaret.containers.models.classification.GaussianNBClassifierContainer at 0x15480576388>,\n",
       "  'dt': <pycaret.containers.models.classification.DecisionTreeClassifierContainer at 0x15480576fc8>,\n",
       "  'svm': <pycaret.containers.models.classification.SGDClassifierContainer at 0x154819745c8>,\n",
       "  'rbfsvm': <pycaret.containers.models.classification.SVCClassifierContainer at 0x15480576988>,\n",
       "  'gpc': <pycaret.containers.models.classification.GaussianProcessClassifierContainer at 0x15481974608>,\n",
       "  'mlp': <pycaret.containers.models.classification.MLPClassifierContainer at 0x15481974c08>,\n",
       "  'ridge': <pycaret.containers.models.classification.RidgeClassifierContainer at 0x154805c4848>,\n",
       "  'rf': <pycaret.containers.models.classification.RandomForestClassifierContainer at 0x154806bccc8>,\n",
       "  'qda': <pycaret.containers.models.classification.QuadraticDiscriminantAnalysisContainer at 0x15441ddf1c8>,\n",
       "  'ada': <pycaret.containers.models.classification.AdaBoostClassifierContainer at 0x154806b7a48>,\n",
       "  'gbc': <pycaret.containers.models.classification.GradientBoostingClassifierContainer at 0x15481974308>,\n",
       "  'lda': <pycaret.containers.models.classification.LinearDiscriminantAnalysisContainer at 0x154805c4508>,\n",
       "  'et': <pycaret.containers.models.classification.ExtraTreesClassifierContainer at 0x154801330c8>,\n",
       "  'xgboost': <pycaret.containers.models.classification.XGBClassifierContainer at 0x1548198a608>,\n",
       "  'lightgbm': <pycaret.containers.models.classification.LGBMClassifierContainer at 0x154806bc808>,\n",
       "  'catboost': <pycaret.containers.models.classification.CatBoostClassifierContainer at 0x1548198a5c8>,\n",
       "  'Bagging': <pycaret.containers.models.classification.BaggingClassifierContainer at 0x154805d4e48>,\n",
       "  'Stacking': <pycaret.containers.models.classification.StackingClassifierContainer at 0x154805d4f08>,\n",
       "  'Voting': <pycaret.containers.models.classification.VotingClassifierContainer at 0x154805d48c8>,\n",
       "  'CalibratedCV': <pycaret.containers.models.classification.CalibratedClassifierCVContainer at 0x154805d4048>},\n",
       " 'target',\n",
       " True,\n",
       "         feature_0  feature_1  feature_2  feature_3  feature_4  feature_5  \\\n",
       " 0        0.000000   0.000000   0.093750   0.014286   0.000000   0.000000   \n",
       " 1        0.000000   0.000000   0.000000   0.000000   0.000000   0.000000   \n",
       " 2        0.000000   0.000000   0.000000   0.000000   0.000000   0.013158   \n",
       " 3        0.000000   0.000000   0.109375   0.000000   0.026316   0.065789   \n",
       " 4        0.016393   0.000000   0.000000   0.000000   0.000000   0.000000   \n",
       " ...           ...        ...        ...        ...        ...        ...   \n",
       " 199995   0.000000   0.019608   0.093750   0.000000   0.026316   0.421053   \n",
       " 199996   0.000000   0.039216   0.000000   0.000000   0.026316   0.000000   \n",
       " 199997   0.016393   0.039216   0.000000   0.000000   0.000000   0.026316   \n",
       " 199998   0.000000   0.000000   0.031250   0.000000   0.052632   0.013158   \n",
       " 199999   0.081967   0.078431   0.000000   0.142857   0.000000   0.013158   \n",
       " \n",
       "         feature_6  feature_7  feature_8  feature_9  ...  feature_65  \\\n",
       " 0        0.000000   0.000000   0.184211   0.000000  ...    0.055556   \n",
       " 1        0.000000   0.000000   0.000000   0.000000  ...    0.000000   \n",
       " 2        0.000000   0.100000   0.000000   0.000000  ...    0.148148   \n",
       " 3        0.046512   0.066667   0.000000   0.013889  ...    0.000000   \n",
       " 4        0.000000   0.000000   0.000000   0.000000  ...    0.000000   \n",
       " ...           ...        ...        ...        ...  ...         ...   \n",
       " 199995   0.000000   0.200000   0.000000   0.000000  ...    0.018519   \n",
       " 199996   0.000000   0.000000   0.000000   0.000000  ...    0.000000   \n",
       " 199997   0.000000   0.033333   0.210526   0.055556  ...    0.074074   \n",
       " 199998   0.000000   0.000000   0.078947   0.013889  ...    0.000000   \n",
       " 199999   0.000000   0.000000   0.315789   0.027778  ...    0.037037   \n",
       " \n",
       "         feature_66  feature_67  feature_68  feature_69  feature_70  \\\n",
       " 0         0.000000    0.000000    0.000000    0.000000    0.000000   \n",
       " 1         0.083333    0.000000    0.000000    0.000000    0.000000   \n",
       " 2         0.000000    0.000000    0.000000    0.000000    0.014925   \n",
       " 3         0.000000    0.050633    0.000000    0.030769    0.029851   \n",
       " 4         0.000000    0.000000    0.000000    0.000000    0.000000   \n",
       " ...            ...         ...         ...         ...         ...   \n",
       " 199995    0.000000    0.012658    0.018182    0.000000    0.000000   \n",
       " 199996    0.000000    0.000000    0.000000    0.000000    0.000000   \n",
       " 199997    0.041667    0.000000    0.018182    0.015385    0.014925   \n",
       " 199998    0.000000    0.000000    0.054545    0.030769    0.014925   \n",
       " 199999    0.000000    0.000000    0.036364    0.015385    0.000000   \n",
       " \n",
       "         feature_71  feature_72  feature_73  feature_74  \n",
       " 0              0.0    0.032787    0.000000    0.000000  \n",
       " 1              0.0    0.000000    0.007692    0.000000  \n",
       " 2              0.0    0.000000    0.000000    0.000000  \n",
       " 3              0.0    0.065574    0.023077    0.000000  \n",
       " 4              0.0    0.000000    0.000000    0.000000  \n",
       " ...            ...         ...         ...         ...  \n",
       " 199995         0.0    0.065574    0.007692    0.000000  \n",
       " 199996         0.0    0.000000    0.000000    0.000000  \n",
       " 199997         0.0    0.016393    0.000000    0.000000  \n",
       " 199998         0.0    0.000000    0.007692    0.000000  \n",
       " 199999         0.0    0.032787    0.023077    0.019231  \n",
       " \n",
       " [200000 rows x 75 columns],\n",
       " 5,\n",
       " [<pandas.io.formats.style.Styler at 0x154805c31c8>],\n",
       " True,\n",
       "         feature_0  feature_1  feature_2  feature_3  feature_4  feature_5  \\\n",
       " 0        0.000000   0.000000   0.093750   0.014286   0.000000   0.000000   \n",
       " 1        0.000000   0.000000   0.000000   0.000000   0.000000   0.000000   \n",
       " 2        0.000000   0.000000   0.000000   0.000000   0.000000   0.013158   \n",
       " 3        0.000000   0.000000   0.109375   0.000000   0.026316   0.065789   \n",
       " 4        0.016393   0.000000   0.000000   0.000000   0.000000   0.000000   \n",
       " ...           ...        ...        ...        ...        ...        ...   \n",
       " 199995   0.000000   0.019608   0.093750   0.000000   0.026316   0.421053   \n",
       " 199996   0.000000   0.039216   0.000000   0.000000   0.026316   0.000000   \n",
       " 199997   0.016393   0.039216   0.000000   0.000000   0.000000   0.026316   \n",
       " 199998   0.000000   0.000000   0.031250   0.000000   0.052632   0.013158   \n",
       " 199999   0.081967   0.078431   0.000000   0.142857   0.000000   0.013158   \n",
       " \n",
       "         feature_6  feature_7  feature_8  feature_9  ...  feature_66  \\\n",
       " 0        0.000000   0.000000   0.184211   0.000000  ...    0.000000   \n",
       " 1        0.000000   0.000000   0.000000   0.000000  ...    0.083333   \n",
       " 2        0.000000   0.100000   0.000000   0.000000  ...    0.000000   \n",
       " 3        0.046512   0.066667   0.000000   0.013889  ...    0.000000   \n",
       " 4        0.000000   0.000000   0.000000   0.000000  ...    0.000000   \n",
       " ...           ...        ...        ...        ...  ...         ...   \n",
       " 199995   0.000000   0.200000   0.000000   0.000000  ...    0.000000   \n",
       " 199996   0.000000   0.000000   0.000000   0.000000  ...    0.000000   \n",
       " 199997   0.000000   0.033333   0.210526   0.055556  ...    0.041667   \n",
       " 199998   0.000000   0.000000   0.078947   0.013889  ...    0.000000   \n",
       " 199999   0.000000   0.000000   0.315789   0.027778  ...    0.000000   \n",
       " \n",
       "         feature_67  feature_68  feature_69  feature_70  feature_71  \\\n",
       " 0         0.000000    0.000000    0.000000    0.000000         0.0   \n",
       " 1         0.000000    0.000000    0.000000    0.000000         0.0   \n",
       " 2         0.000000    0.000000    0.000000    0.014925         0.0   \n",
       " 3         0.050633    0.000000    0.030769    0.029851         0.0   \n",
       " 4         0.000000    0.000000    0.000000    0.000000         0.0   \n",
       " ...            ...         ...         ...         ...         ...   \n",
       " 199995    0.012658    0.018182    0.000000    0.000000         0.0   \n",
       " 199996    0.000000    0.000000    0.000000    0.000000         0.0   \n",
       " 199997    0.000000    0.018182    0.015385    0.014925         0.0   \n",
       " 199998    0.000000    0.054545    0.030769    0.014925         0.0   \n",
       " 199999    0.000000    0.036364    0.015385    0.000000         0.0   \n",
       " \n",
       "         feature_72  feature_73  feature_74  target  \n",
       " 0         0.032787    0.000000    0.000000       5  \n",
       " 1         0.000000    0.007692    0.000000       5  \n",
       " 2         0.000000    0.000000    0.000000       1  \n",
       " 3         0.065574    0.023077    0.000000       7  \n",
       " 4         0.000000    0.000000    0.000000       1  \n",
       " ...            ...         ...         ...     ...  \n",
       " 199995    0.065574    0.007692    0.000000       5  \n",
       " 199996    0.000000    0.000000    0.000000       5  \n",
       " 199997    0.016393    0.000000    0.000000       7  \n",
       " 199998    0.000000    0.007692    0.000000       6  \n",
       " 199999    0.032787    0.023077    0.019231       7  \n",
       " \n",
       " [200000 rows x 76 columns],\n",
       " {'USI',\n",
       "  'X',\n",
       "  'X_test',\n",
       "  'X_train',\n",
       "  '_all_metrics',\n",
       "  '_all_models',\n",
       "  '_all_models_internal',\n",
       "  '_available_plots',\n",
       "  '_gpu_n_jobs_param',\n",
       "  '_internal_pipeline',\n",
       "  '_ml_usecase',\n",
       "  'create_model_container',\n",
       "  'data_before_preprocess',\n",
       "  'display_container',\n",
       "  'exp_name_log',\n",
       "  'experiment__',\n",
       "  'fix_imbalance_method_param',\n",
       "  'fix_imbalance_param',\n",
       "  'fold_generator',\n",
       "  'fold_groups_param',\n",
       "  'fold_groups_param_full',\n",
       "  'fold_param',\n",
       "  'fold_shuffle_param',\n",
       "  'gpu_param',\n",
       "  'html_param',\n",
       "  'imputation_classifier',\n",
       "  'imputation_regressor',\n",
       "  'iterative_imputation_iters_param',\n",
       "  'log_plots_param',\n",
       "  'logging_param',\n",
       "  'master_model_container',\n",
       "  'n_jobs_param',\n",
       "  'prep_pipe',\n",
       "  'pycaret_globals',\n",
       "  'seed',\n",
       "  'stratify_param',\n",
       "  'target_param',\n",
       "  'transform_target_method_param',\n",
       "  'transform_target_param',\n",
       "  'y',\n",
       "  'y_test',\n",
       "  'y_train'},\n",
       " 1,\n",
       " False,\n",
       " 5,\n",
       " LGBMClassifier(boosting_type='gbdt', class_weight=None, colsample_bytree=1.0,\n",
       "                device='gpu', importance_type='split', learning_rate=0.1,\n",
       "                max_depth=-1, min_child_samples=20, min_child_weight=0.001,\n",
       "                min_split_gain=0.0, n_estimators=100, n_jobs=-1, num_leaves=31,\n",
       "                objective=None, random_state=20210602, reg_alpha=0.0,\n",
       "                reg_lambda=0.0, silent=True, subsample=1.0,\n",
       "                subsample_for_bin=200000, subsample_freq=0),\n",
       " {'parameter': 'Hyperparameters',\n",
       "  'auc': 'AUC',\n",
       "  'confusion_matrix': 'Confusion Matrix',\n",
       "  'threshold': 'Threshold',\n",
       "  'pr': 'Precision Recall',\n",
       "  'error': 'Prediction Error',\n",
       "  'class_report': 'Class Report',\n",
       "  'rfe': 'Feature Selection',\n",
       "  'learning': 'Learning Curve',\n",
       "  'manifold': 'Manifold Learning',\n",
       "  'calibration': 'Calibration Curve',\n",
       "  'vc': 'Validation Curve',\n",
       "  'dimension': 'Dimensions',\n",
       "  'feature': 'Feature Importance',\n",
       "  'feature_all': 'Feature Importance (All)',\n",
       "  'boundary': 'Decision Boundary',\n",
       "  'lift': 'Lift Chart',\n",
       "  'gain': 'Gain Chart',\n",
       "  'tree': 'Decision Tree'},\n",
       " StratifiedKFold(n_splits=5, random_state=20210602, shuffle=True),\n",
       " -1,\n",
       " 'e77f',\n",
       " <MLUsecase.CLASSIFICATION: 1>,\n",
       " [],\n",
       " False,\n",
       " 'box-cox',\n",
       " True,\n",
       " 0         5\n",
       " 1         5\n",
       " 2         1\n",
       " 3         7\n",
       " 4         1\n",
       "          ..\n",
       " 199995    5\n",
       " 199996    5\n",
       " 199997    7\n",
       " 199998    6\n",
       " 199999    7\n",
       " Name: target, Length: 200000, dtype: int64,\n",
       "         feature_0  feature_1  feature_2  feature_3  feature_4  feature_5  \\\n",
       " 0        0.000000   0.000000   0.093750   0.014286   0.000000   0.000000   \n",
       " 1        0.000000   0.000000   0.000000   0.000000   0.000000   0.000000   \n",
       " 2        0.000000   0.000000   0.000000   0.000000   0.000000   0.013158   \n",
       " 3        0.000000   0.000000   0.109375   0.000000   0.026316   0.065789   \n",
       " 4        0.016393   0.000000   0.000000   0.000000   0.000000   0.000000   \n",
       " ...           ...        ...        ...        ...        ...        ...   \n",
       " 199995   0.000000   0.019608   0.093750   0.000000   0.026316   0.421053   \n",
       " 199996   0.000000   0.039216   0.000000   0.000000   0.026316   0.000000   \n",
       " 199997   0.016393   0.039216   0.000000   0.000000   0.000000   0.026316   \n",
       " 199998   0.000000   0.000000   0.031250   0.000000   0.052632   0.013158   \n",
       " 199999   0.081967   0.078431   0.000000   0.142857   0.000000   0.013158   \n",
       " \n",
       "         feature_6  feature_7  feature_8  feature_9  ...  feature_65  \\\n",
       " 0        0.000000   0.000000   0.184211   0.000000  ...    0.055556   \n",
       " 1        0.000000   0.000000   0.000000   0.000000  ...    0.000000   \n",
       " 2        0.000000   0.100000   0.000000   0.000000  ...    0.148148   \n",
       " 3        0.046512   0.066667   0.000000   0.013889  ...    0.000000   \n",
       " 4        0.000000   0.000000   0.000000   0.000000  ...    0.000000   \n",
       " ...           ...        ...        ...        ...  ...         ...   \n",
       " 199995   0.000000   0.200000   0.000000   0.000000  ...    0.018519   \n",
       " 199996   0.000000   0.000000   0.000000   0.000000  ...    0.000000   \n",
       " 199997   0.000000   0.033333   0.210526   0.055556  ...    0.074074   \n",
       " 199998   0.000000   0.000000   0.078947   0.013889  ...    0.000000   \n",
       " 199999   0.000000   0.000000   0.315789   0.027778  ...    0.037037   \n",
       " \n",
       "         feature_66  feature_67  feature_68  feature_69  feature_70  \\\n",
       " 0         0.000000    0.000000    0.000000    0.000000    0.000000   \n",
       " 1         0.083333    0.000000    0.000000    0.000000    0.000000   \n",
       " 2         0.000000    0.000000    0.000000    0.000000    0.014925   \n",
       " 3         0.000000    0.050633    0.000000    0.030769    0.029851   \n",
       " 4         0.000000    0.000000    0.000000    0.000000    0.000000   \n",
       " ...            ...         ...         ...         ...         ...   \n",
       " 199995    0.000000    0.012658    0.018182    0.000000    0.000000   \n",
       " 199996    0.000000    0.000000    0.000000    0.000000    0.000000   \n",
       " 199997    0.041667    0.000000    0.018182    0.015385    0.014925   \n",
       " 199998    0.000000    0.000000    0.054545    0.030769    0.014925   \n",
       " 199999    0.000000    0.000000    0.036364    0.015385    0.000000   \n",
       " \n",
       "         feature_71  feature_72  feature_73  feature_74  \n",
       " 0              0.0    0.032787    0.000000    0.000000  \n",
       " 1              0.0    0.000000    0.007692    0.000000  \n",
       " 2              0.0    0.000000    0.000000    0.000000  \n",
       " 3              0.0    0.065574    0.023077    0.000000  \n",
       " 4              0.0    0.000000    0.000000    0.000000  \n",
       " ...            ...         ...         ...         ...  \n",
       " 199995         0.0    0.065574    0.007692    0.000000  \n",
       " 199996         0.0    0.000000    0.000000    0.000000  \n",
       " 199997         0.0    0.016393    0.000000    0.000000  \n",
       " 199998         0.0    0.000000    0.007692    0.000000  \n",
       " 199999         0.0    0.032787    0.023077    0.019231  \n",
       " \n",
       " [200000 rows x 75 columns],\n",
       " Pipeline(memory=None,\n",
       "          steps=[('dtypes',\n",
       "                  DataTypes_Auto_infer(categorical_features=[],\n",
       "                                       display_types=False, features_todrop=[],\n",
       "                                       id_columns=[],\n",
       "                                       ml_usecase='classification',\n",
       "                                       numerical_features=['feature_0',\n",
       "                                                           'feature_1',\n",
       "                                                           'feature_2',\n",
       "                                                           'feature_3',\n",
       "                                                           'feature_4',\n",
       "                                                           'feature_5',\n",
       "                                                           'feature_6',\n",
       "                                                           'feature_7',\n",
       "                                                           'feature_8',\n",
       "                                                           'feature_9',\n",
       "                                                           'feature_10',\n",
       "                                                           'feature_11',\n",
       "                                                           'feature_12',\n",
       "                                                           'featur...\n",
       "                 ('scaling', 'passthrough'), ('P_transform', 'passthrough'),\n",
       "                 ('binn', 'passthrough'), ('rem_outliers', 'passthrough'),\n",
       "                 ('cluster_all', 'passthrough'),\n",
       "                 ('dummy', Dummify(target='target')),\n",
       "                 ('fix_perfect', Remove_100(target='target')),\n",
       "                 ('clean_names', Clean_Colum_Names()),\n",
       "                 ('feature_select', 'passthrough'), ('fix_multi', 'passthrough'),\n",
       "                 ('dfs', 'passthrough'), ('pca', 'passthrough')],\n",
       "          verbose=False),\n",
       " 200000    0\n",
       " 200001    0\n",
       " 200002    0\n",
       " 200003    0\n",
       " 200004    0\n",
       "          ..\n",
       " 299995    0\n",
       " 299996    0\n",
       " 299997    0\n",
       " 299998    0\n",
       " 299999    0\n",
       " Name: target, Length: 100000, dtype: int64,\n",
       " [('Setup Config',\n",
       "                                  Description  \\\n",
       "   0                               session_id   \n",
       "   1                                   Target   \n",
       "   2                              Target Type   \n",
       "   3                            Label Encoded   \n",
       "   4                            Original Data   \n",
       "   5                           Missing Values   \n",
       "   6                         Numeric Features   \n",
       "   7                     Categorical Features   \n",
       "   8                         Ordinal Features   \n",
       "   9                High Cardinality Features   \n",
       "   10                 High Cardinality Method   \n",
       "   11                   Transformed Train Set   \n",
       "   12                    Transformed Test Set   \n",
       "   13                      Shuffle Train-Test   \n",
       "   14                     Stratify Train-Test   \n",
       "   15                          Fold Generator   \n",
       "   16                             Fold Number   \n",
       "   17                                CPU Jobs   \n",
       "   18                                 Use GPU   \n",
       "   19                          Log Experiment   \n",
       "   20                         Experiment Name   \n",
       "   21                                     USI   \n",
       "   22                         Imputation Type   \n",
       "   23          Iterative Imputation Iteration   \n",
       "   24                         Numeric Imputer   \n",
       "   25      Iterative Imputation Numeric Model   \n",
       "   26                     Categorical Imputer   \n",
       "   27  Iterative Imputation Categorical Model   \n",
       "   28           Unknown Categoricals Handling   \n",
       "   29                               Normalize   \n",
       "   30                        Normalize Method   \n",
       "   31                          Transformation   \n",
       "   32                   Transformation Method   \n",
       "   33                                     PCA   \n",
       "   34                              PCA Method   \n",
       "   35                          PCA Components   \n",
       "   36                     Ignore Low Variance   \n",
       "   37                     Combine Rare Levels   \n",
       "   38                    Rare Level Threshold   \n",
       "   39                         Numeric Binning   \n",
       "   40                         Remove Outliers   \n",
       "   41                      Outliers Threshold   \n",
       "   42                Remove Multicollinearity   \n",
       "   43             Multicollinearity Threshold   \n",
       "   44                              Clustering   \n",
       "   45                    Clustering Iteration   \n",
       "   46                     Polynomial Features   \n",
       "   47                       Polynomial Degree   \n",
       "   48                    Trignometry Features   \n",
       "   49                    Polynomial Threshold   \n",
       "   50                          Group Features   \n",
       "   51                       Feature Selection   \n",
       "   52                Feature Selection Method   \n",
       "   53            Features Selection Threshold   \n",
       "   54                     Feature Interaction   \n",
       "   55                           Feature Ratio   \n",
       "   56                   Interaction Threshold   \n",
       "   57                           Fix Imbalance   \n",
       "   58                    Fix Imbalance Method   \n",
       "   \n",
       "                                                   Value  \n",
       "   0                                            20210602  \n",
       "   1                                              target  \n",
       "   2                                          Multiclass  \n",
       "   3   0: 0, 1: 1, 2: 2, 3: 3, 4: 4, 5: 5, 6: 6, 7: 7...  \n",
       "   4                                        (200000, 76)  \n",
       "   5                                               False  \n",
       "   6                                                  75  \n",
       "   7                                                   0  \n",
       "   8                                               False  \n",
       "   9                                               False  \n",
       "   10                                               None  \n",
       "   11                                       (200000, 75)  \n",
       "   12                                       (100000, 75)  \n",
       "   13                                               True  \n",
       "   14                                               True  \n",
       "   15                                    StratifiedKFold  \n",
       "   16                                                  5  \n",
       "   17                                                 -1  \n",
       "   18                                               True  \n",
       "   19                                              False  \n",
       "   20                                   clf-default-name  \n",
       "   21                                               e77f  \n",
       "   22                                          iterative  \n",
       "   23                                                  5  \n",
       "   24                                               mean  \n",
       "   25                    Light Gradient Boosting Machine  \n",
       "   26                                           constant  \n",
       "   27                    Light Gradient Boosting Machine  \n",
       "   28                                     least_frequent  \n",
       "   29                                              False  \n",
       "   30                                               None  \n",
       "   31                                              False  \n",
       "   32                                               None  \n",
       "   33                                              False  \n",
       "   34                                               None  \n",
       "   35                                               None  \n",
       "   36                                              False  \n",
       "   37                                              False  \n",
       "   38                                               None  \n",
       "   39                                              False  \n",
       "   40                                              False  \n",
       "   41                                               None  \n",
       "   42                                              False  \n",
       "   43                                               None  \n",
       "   44                                              False  \n",
       "   45                                               None  \n",
       "   46                                              False  \n",
       "   47                                               None  \n",
       "   48                                              False  \n",
       "   49                                               None  \n",
       "   50                                              False  \n",
       "   51                                              False  \n",
       "   52                                            classic  \n",
       "   53                                               None  \n",
       "   54                                              False  \n",
       "   55                                              False  \n",
       "   56                                               None  \n",
       "   57                                              False  \n",
       "   58                                              SMOTE  ),\n",
       "  ('X_training Set',\n",
       "           feature_0  feature_1  feature_2  feature_3  feature_4  feature_5  \\\n",
       "   0        0.000000   0.000000   0.093750   0.014286   0.000000   0.000000   \n",
       "   1        0.000000   0.000000   0.000000   0.000000   0.000000   0.000000   \n",
       "   2        0.000000   0.000000   0.000000   0.000000   0.000000   0.013158   \n",
       "   3        0.000000   0.000000   0.109375   0.000000   0.026316   0.065789   \n",
       "   4        0.016393   0.000000   0.000000   0.000000   0.000000   0.000000   \n",
       "   ...           ...        ...        ...        ...        ...        ...   \n",
       "   199995   0.000000   0.019608   0.093750   0.000000   0.026316   0.421053   \n",
       "   199996   0.000000   0.039216   0.000000   0.000000   0.026316   0.000000   \n",
       "   199997   0.016393   0.039216   0.000000   0.000000   0.000000   0.026316   \n",
       "   199998   0.000000   0.000000   0.031250   0.000000   0.052632   0.013158   \n",
       "   199999   0.081967   0.078431   0.000000   0.142857   0.000000   0.013158   \n",
       "   \n",
       "           feature_6  feature_7  feature_8  feature_9  ...  feature_65  \\\n",
       "   0        0.000000   0.000000   0.184211   0.000000  ...    0.055556   \n",
       "   1        0.000000   0.000000   0.000000   0.000000  ...    0.000000   \n",
       "   2        0.000000   0.100000   0.000000   0.000000  ...    0.148148   \n",
       "   3        0.046512   0.066667   0.000000   0.013889  ...    0.000000   \n",
       "   4        0.000000   0.000000   0.000000   0.000000  ...    0.000000   \n",
       "   ...           ...        ...        ...        ...  ...         ...   \n",
       "   199995   0.000000   0.200000   0.000000   0.000000  ...    0.018519   \n",
       "   199996   0.000000   0.000000   0.000000   0.000000  ...    0.000000   \n",
       "   199997   0.000000   0.033333   0.210526   0.055556  ...    0.074074   \n",
       "   199998   0.000000   0.000000   0.078947   0.013889  ...    0.000000   \n",
       "   199999   0.000000   0.000000   0.315789   0.027778  ...    0.037037   \n",
       "   \n",
       "           feature_66  feature_67  feature_68  feature_69  feature_70  \\\n",
       "   0         0.000000    0.000000    0.000000    0.000000    0.000000   \n",
       "   1         0.083333    0.000000    0.000000    0.000000    0.000000   \n",
       "   2         0.000000    0.000000    0.000000    0.000000    0.014925   \n",
       "   3         0.000000    0.050633    0.000000    0.030769    0.029851   \n",
       "   4         0.000000    0.000000    0.000000    0.000000    0.000000   \n",
       "   ...            ...         ...         ...         ...         ...   \n",
       "   199995    0.000000    0.012658    0.018182    0.000000    0.000000   \n",
       "   199996    0.000000    0.000000    0.000000    0.000000    0.000000   \n",
       "   199997    0.041667    0.000000    0.018182    0.015385    0.014925   \n",
       "   199998    0.000000    0.000000    0.054545    0.030769    0.014925   \n",
       "   199999    0.000000    0.000000    0.036364    0.015385    0.000000   \n",
       "   \n",
       "           feature_71  feature_72  feature_73  feature_74  \n",
       "   0              0.0    0.032787    0.000000    0.000000  \n",
       "   1              0.0    0.000000    0.007692    0.000000  \n",
       "   2              0.0    0.000000    0.000000    0.000000  \n",
       "   3              0.0    0.065574    0.023077    0.000000  \n",
       "   4              0.0    0.000000    0.000000    0.000000  \n",
       "   ...            ...         ...         ...         ...  \n",
       "   199995         0.0    0.065574    0.007692    0.000000  \n",
       "   199996         0.0    0.000000    0.000000    0.000000  \n",
       "   199997         0.0    0.016393    0.000000    0.000000  \n",
       "   199998         0.0    0.000000    0.007692    0.000000  \n",
       "   199999         0.0    0.032787    0.023077    0.019231  \n",
       "   \n",
       "   [200000 rows x 75 columns]),\n",
       "  ('y_training Set',\n",
       "   0         5\n",
       "   1         5\n",
       "   2         1\n",
       "   3         7\n",
       "   4         1\n",
       "            ..\n",
       "   199995    5\n",
       "   199996    5\n",
       "   199997    7\n",
       "   199998    6\n",
       "   199999    7\n",
       "   Name: target, Length: 200000, dtype: int32),\n",
       "  ('X_test Set',\n",
       "           feature_0  feature_1  feature_2  feature_3  feature_4  feature_5  \\\n",
       "   200000   0.000000   0.000000   0.000000   0.000000   0.000000   0.000000   \n",
       "   200001   0.016393   0.039216   0.000000   0.000000   0.000000   0.000000   \n",
       "   200002   0.000000   0.019608   0.109375   0.014286   0.000000   0.000000   \n",
       "   200003   0.000000   0.000000   0.000000   0.057143   0.078947   0.013158   \n",
       "   200004   0.000000   0.000000   0.078125   0.000000   0.000000   0.000000   \n",
       "   ...           ...        ...        ...        ...        ...        ...   \n",
       "   299995   0.000000   0.000000   0.000000   0.000000   0.000000   0.000000   \n",
       "   299996   0.000000   0.000000   0.000000   0.000000   0.000000   0.013158   \n",
       "   299997   0.000000   0.000000   0.000000   0.000000   0.000000   0.000000   \n",
       "   299998   0.000000   0.000000   0.000000   0.000000   0.052632   0.026316   \n",
       "   299999   0.000000   0.000000   0.000000   0.000000   0.000000   0.000000   \n",
       "   \n",
       "           feature_6  feature_7  feature_8  feature_9  ...  feature_65  \\\n",
       "   200000   0.000000        0.0   0.000000   0.000000  ...    0.000000   \n",
       "   200001   0.000000        0.0   0.000000   0.000000  ...    0.055556   \n",
       "   200002   0.000000        0.0   0.157895   0.000000  ...    0.055556   \n",
       "   200003   0.000000        0.0   0.000000   0.000000  ...    0.000000   \n",
       "   200004   0.000000        0.0   0.000000   0.111111  ...    0.000000   \n",
       "   ...           ...        ...        ...        ...  ...         ...   \n",
       "   299995   0.000000        0.0   0.000000   0.000000  ...    0.000000   \n",
       "   299996   0.000000        0.0   0.000000   0.000000  ...    0.000000   \n",
       "   299997   0.000000        0.0   0.000000   0.000000  ...    0.000000   \n",
       "   299998   0.000000        0.0   0.026316   0.000000  ...    0.018519   \n",
       "   299999   0.139535        0.0   0.026316   0.152778  ...    0.000000   \n",
       "   \n",
       "           feature_66  feature_67  feature_68  feature_69  feature_70  \\\n",
       "   200000    0.000000    0.000000    0.000000         0.0    0.000000   \n",
       "   200001    0.041667    0.037975    0.000000         0.0    0.000000   \n",
       "   200002    0.000000    0.000000    0.000000         0.0    0.044776   \n",
       "   200003    0.000000    0.000000    0.018182         0.0    0.000000   \n",
       "   200004    0.000000    0.000000    0.000000         0.0    0.000000   \n",
       "   ...            ...         ...         ...         ...         ...   \n",
       "   299995    0.000000    0.000000    0.000000         0.0    0.000000   \n",
       "   299996    0.000000    0.000000    0.000000         0.0    0.000000   \n",
       "   299997    0.000000    0.012658    0.000000         0.0    0.000000   \n",
       "   299998    0.000000    0.000000    0.000000         0.0    0.014925   \n",
       "   299999    0.083333    0.000000    0.000000         0.0    0.000000   \n",
       "   \n",
       "           feature_71  feature_72  feature_73  feature_74  \n",
       "   200000         0.0    0.000000    0.000000    0.000000  \n",
       "   200001         0.0    0.049180    0.000000    0.000000  \n",
       "   200002         0.0    0.032787    0.000000    0.000000  \n",
       "   200003         0.0    0.065574    0.000000    0.000000  \n",
       "   200004         0.0    0.000000    0.007692    0.000000  \n",
       "   ...            ...         ...         ...         ...  \n",
       "   299995         0.0    0.000000    0.000000    0.000000  \n",
       "   299996         0.0    0.000000    0.000000    0.000000  \n",
       "   299997         0.0    0.000000    0.000000    0.038462  \n",
       "   299998         0.0    0.016393    0.000000    0.000000  \n",
       "   299999         0.0    0.000000    0.000000    0.000000  \n",
       "   \n",
       "   [100000 rows x 75 columns]),\n",
       "  ('y_test Set',\n",
       "   200000    0\n",
       "   200001    0\n",
       "   200002    0\n",
       "   200003    0\n",
       "   200004    0\n",
       "            ..\n",
       "   299995    0\n",
       "   299996    0\n",
       "   299997    0\n",
       "   299998    0\n",
       "   299999    0\n",
       "   Name: target, Length: 100000, dtype: int64),\n",
       "  ('Transformation Pipeline',\n",
       "   Pipeline(memory=None,\n",
       "            steps=[('dtypes',\n",
       "                    DataTypes_Auto_infer(categorical_features=[],\n",
       "                                         display_types=False, features_todrop=[],\n",
       "                                         id_columns=[],\n",
       "                                         ml_usecase='classification',\n",
       "                                         numerical_features=['feature_0',\n",
       "                                                             'feature_1',\n",
       "                                                             'feature_2',\n",
       "                                                             'feature_3',\n",
       "                                                             'feature_4',\n",
       "                                                             'feature_5',\n",
       "                                                             'feature_6',\n",
       "                                                             'feature_7',\n",
       "                                                             'feature_8',\n",
       "                                                             'feature_9',\n",
       "                                                             'feature_10',\n",
       "                                                             'feature_11',\n",
       "                                                             'feature_12',\n",
       "                                                             'featur...\n",
       "                   ('scaling', 'passthrough'), ('P_transform', 'passthrough'),\n",
       "                   ('binn', 'passthrough'), ('rem_outliers', 'passthrough'),\n",
       "                   ('cluster_all', 'passthrough'),\n",
       "                   ('dummy', Dummify(target='target')),\n",
       "                   ('fix_perfect', Remove_100(target='target')),\n",
       "                   ('clean_names', Clean_Colum_Names()),\n",
       "                   ('feature_select', 'passthrough'), ('fix_multi', 'passthrough'),\n",
       "                   ('dfs', 'passthrough'), ('pca', 'passthrough')],\n",
       "            verbose=False))],\n",
       " {'acc': <pycaret.containers.metrics.classification.AccuracyMetricContainer at 0x154805e8ac8>,\n",
       "  'auc': <pycaret.containers.metrics.classification.ROCAUCMetricContainer at 0x154805d5cc8>,\n",
       "  'recall': <pycaret.containers.metrics.classification.RecallMetricContainer at 0x154805d5948>,\n",
       "  'precision': <pycaret.containers.metrics.classification.PrecisionMetricContainer at 0x154805d5c88>,\n",
       "  'f1': <pycaret.containers.metrics.classification.F1MetricContainer at 0x154805d5d08>,\n",
       "  'kappa': <pycaret.containers.metrics.classification.KappaMetricContainer at 0x154805d5708>,\n",
       "  'mcc': <pycaret.containers.metrics.classification.MCCMetricContainer at 0x154805d5648>},\n",
       " None,\n",
       "         feature_0  feature_1  feature_2  feature_3  feature_4  feature_5  \\\n",
       " 200000   0.000000   0.000000   0.000000   0.000000   0.000000   0.000000   \n",
       " 200001   0.016393   0.039216   0.000000   0.000000   0.000000   0.000000   \n",
       " 200002   0.000000   0.019608   0.109375   0.014286   0.000000   0.000000   \n",
       " 200003   0.000000   0.000000   0.000000   0.057143   0.078947   0.013158   \n",
       " 200004   0.000000   0.000000   0.078125   0.000000   0.000000   0.000000   \n",
       " ...           ...        ...        ...        ...        ...        ...   \n",
       " 299995   0.000000   0.000000   0.000000   0.000000   0.000000   0.000000   \n",
       " 299996   0.000000   0.000000   0.000000   0.000000   0.000000   0.013158   \n",
       " 299997   0.000000   0.000000   0.000000   0.000000   0.000000   0.000000   \n",
       " 299998   0.000000   0.000000   0.000000   0.000000   0.052632   0.026316   \n",
       " 299999   0.000000   0.000000   0.000000   0.000000   0.000000   0.000000   \n",
       " \n",
       "         feature_6  feature_7  feature_8  feature_9  ...  feature_65  \\\n",
       " 200000   0.000000        0.0   0.000000   0.000000  ...    0.000000   \n",
       " 200001   0.000000        0.0   0.000000   0.000000  ...    0.055556   \n",
       " 200002   0.000000        0.0   0.157895   0.000000  ...    0.055556   \n",
       " 200003   0.000000        0.0   0.000000   0.000000  ...    0.000000   \n",
       " 200004   0.000000        0.0   0.000000   0.111111  ...    0.000000   \n",
       " ...           ...        ...        ...        ...  ...         ...   \n",
       " 299995   0.000000        0.0   0.000000   0.000000  ...    0.000000   \n",
       " 299996   0.000000        0.0   0.000000   0.000000  ...    0.000000   \n",
       " 299997   0.000000        0.0   0.000000   0.000000  ...    0.000000   \n",
       " 299998   0.000000        0.0   0.026316   0.000000  ...    0.018519   \n",
       " 299999   0.139535        0.0   0.026316   0.152778  ...    0.000000   \n",
       " \n",
       "         feature_66  feature_67  feature_68  feature_69  feature_70  \\\n",
       " 200000    0.000000    0.000000    0.000000         0.0    0.000000   \n",
       " 200001    0.041667    0.037975    0.000000         0.0    0.000000   \n",
       " 200002    0.000000    0.000000    0.000000         0.0    0.044776   \n",
       " 200003    0.000000    0.000000    0.018182         0.0    0.000000   \n",
       " 200004    0.000000    0.000000    0.000000         0.0    0.000000   \n",
       " ...            ...         ...         ...         ...         ...   \n",
       " 299995    0.000000    0.000000    0.000000         0.0    0.000000   \n",
       " 299996    0.000000    0.000000    0.000000         0.0    0.000000   \n",
       " 299997    0.000000    0.012658    0.000000         0.0    0.000000   \n",
       " 299998    0.000000    0.000000    0.000000         0.0    0.014925   \n",
       " 299999    0.083333    0.000000    0.000000         0.0    0.000000   \n",
       " \n",
       "         feature_71  feature_72  feature_73  feature_74  \n",
       " 200000         0.0    0.000000    0.000000    0.000000  \n",
       " 200001         0.0    0.049180    0.000000    0.000000  \n",
       " 200002         0.0    0.032787    0.000000    0.000000  \n",
       " 200003         0.0    0.065574    0.000000    0.000000  \n",
       " 200004         0.0    0.000000    0.007692    0.000000  \n",
       " ...            ...         ...         ...         ...  \n",
       " 299995         0.0    0.000000    0.000000    0.000000  \n",
       " 299996         0.0    0.000000    0.000000    0.000000  \n",
       " 299997         0.0    0.000000    0.000000    0.038462  \n",
       " 299998         0.0    0.016393    0.000000    0.000000  \n",
       " 299999         0.0    0.000000    0.000000    0.000000  \n",
       " \n",
       " [100000 rows x 75 columns],\n",
       " None,\n",
       " Pipeline(memory=None, steps=[('empty_step', 'passthrough')], verbose=False),\n",
       " False,\n",
       " LGBMRegressor(boosting_type='gbdt', class_weight=None, colsample_bytree=1.0,\n",
       "               device='gpu', importance_type='split', learning_rate=0.1,\n",
       "               max_depth=-1, min_child_samples=20, min_child_weight=0.001,\n",
       "               min_split_gain=0.0, n_estimators=100, n_jobs=-1, num_leaves=31,\n",
       "               objective=None, random_state=20210602, reg_alpha=0.0,\n",
       "               reg_lambda=0.0, silent=True, subsample=1.0,\n",
       "               subsample_for_bin=200000, subsample_freq=0),\n",
       " True)"
      ]
     },
     "execution_count": 11,
     "metadata": {},
     "output_type": "execute_result"
    }
   ],
   "source": [
    "# Set-Up\n",
    "PROJECT_NAME = 'pycaret-20210604'\n",
    "SEED = 20210604\n",
    "\n",
    "setup(data = df_train[comb],\n",
    "      categorical_features=None,\n",
    "      numeric_features=cat_col + num_col,\n",
    "      imputation_type='iterative',\n",
    "      target = target_col,\n",
    "      train_size=1.0,\n",
    "      test_data=df_test,\n",
    "      data_split_shuffle=True,\n",
    "      data_split_stratify=True,\n",
    "      fold = 5,\n",
    "      fold_strategy='stratifiedkfold',   # or 'kfold', 'stratifiedkfold', 'groupkfold', 'timeseries'\n",
    "      fold_shuffle = True,\n",
    "      n_jobs=-1,\n",
    "      use_gpu = True,\n",
    "      session_id=SEED,   # seed\n",
    "      silent = True)"
   ]
  },
  {
   "cell_type": "code",
   "execution_count": 12,
   "id": "61c2f10c",
   "metadata": {},
   "outputs": [],
   "source": [
    "# GPU Enable\n",
    "# models(internal=True)[['Name', 'GPU Enabled']]"
   ]
  },
  {
   "cell_type": "code",
   "execution_count": 13,
   "id": "48e4de45",
   "metadata": {
    "scrolled": true
   },
   "outputs": [
    {
     "data": {
      "text/plain": [
       "Name                                                           LogLoss\n",
       "Display Name                                                   LogLoss\n",
       "Score Function               <function log_loss at 0x000001542163BF78>\n",
       "Scorer               make_scorer(log_loss, greater_is_better=False,...\n",
       "Target                                                      pred_proba\n",
       "Args                                                                {}\n",
       "Greater is Better                                                False\n",
       "Multiclass                                                        True\n",
       "Custom                                                            True\n",
       "Name: logloss, dtype: object"
      ]
     },
     "execution_count": 13,
     "metadata": {},
     "output_type": "execute_result"
    }
   ],
   "source": [
    "# check all metrics used for model evaluation\n",
    "# print(get_metrics())\n",
    "\n",
    "# add Log Loss metric in pycaret\n",
    "add_metric('logloss', 'LogLoss', log_loss, target='pred_proba', greater_is_better=False)"
   ]
  },
  {
   "cell_type": "code",
   "execution_count": null,
   "id": "bb9980b6",
   "metadata": {},
   "outputs": [
    {
     "data": {
      "application/vnd.jupyter.widget-view+json": {
       "model_id": "4a35b45c6456495ea662092ecee547d5",
       "version_major": 2,
       "version_minor": 0
      },
      "text/plain": [
       "IntProgress(value=0, description='Processing: ', max=74)"
      ]
     },
     "metadata": {},
     "output_type": "display_data"
    },
    {
     "data": {
      "text/html": [
       "<div>\n",
       "<style scoped>\n",
       "    .dataframe tbody tr th:only-of-type {\n",
       "        vertical-align: middle;\n",
       "    }\n",
       "\n",
       "    .dataframe tbody tr th {\n",
       "        vertical-align: top;\n",
       "    }\n",
       "\n",
       "    .dataframe thead th {\n",
       "        text-align: right;\n",
       "    }\n",
       "</style>\n",
       "<table border=\"1\" class=\"dataframe\">\n",
       "  <thead>\n",
       "    <tr style=\"text-align: right;\">\n",
       "      <th></th>\n",
       "      <th></th>\n",
       "      <th></th>\n",
       "    </tr>\n",
       "    <tr>\n",
       "      <th></th>\n",
       "      <th></th>\n",
       "      <th></th>\n",
       "    </tr>\n",
       "  </thead>\n",
       "  <tbody>\n",
       "    <tr>\n",
       "      <th>Initiated</th>\n",
       "      <td>. . . . . . . . . . . . . . . . . .</td>\n",
       "      <td>20:14:33</td>\n",
       "    </tr>\n",
       "    <tr>\n",
       "      <th>Status</th>\n",
       "      <td>. . . . . . . . . . . . . . . . . .</td>\n",
       "      <td>Fitting 5 Folds</td>\n",
       "    </tr>\n",
       "    <tr>\n",
       "      <th>Estimator</th>\n",
       "      <td>. . . . . . . . . . . . . . . . . .</td>\n",
       "      <td>K Neighbors Classifier</td>\n",
       "    </tr>\n",
       "  </tbody>\n",
       "</table>\n",
       "</div>"
      ],
      "text/plain": [
       "                                                                      \n",
       "                                                                      \n",
       "Initiated  . . . . . . . . . . . . . . . . . .                20:14:33\n",
       "Status     . . . . . . . . . . . . . . . . . .         Fitting 5 Folds\n",
       "Estimator  . . . . . . . . . . . . . . . . . .  K Neighbors Classifier"
      ]
     },
     "metadata": {},
     "output_type": "display_data"
    },
    {
     "data": {
      "text/html": [
       "<style  type=\"text/css\" >\n",
       "    #T_96871_ th {\n",
       "          text-align: left;\n",
       "    }#T_96871_row0_col0,#T_96871_row0_col1,#T_96871_row0_col2,#T_96871_row0_col3,#T_96871_row0_col4,#T_96871_row0_col5,#T_96871_row0_col6,#T_96871_row0_col7,#T_96871_row0_col8,#T_96871_row0_col9{\n",
       "            text-align:  left;\n",
       "        }</style><table id=\"T_96871_\" ><thead>    <tr>        <th class=\"blank level0\" ></th>        <th class=\"col_heading level0 col0\" >Model</th>        <th class=\"col_heading level0 col1\" >Accuracy</th>        <th class=\"col_heading level0 col2\" >AUC</th>        <th class=\"col_heading level0 col3\" >Recall</th>        <th class=\"col_heading level0 col4\" >Prec.</th>        <th class=\"col_heading level0 col5\" >F1</th>        <th class=\"col_heading level0 col6\" >Kappa</th>        <th class=\"col_heading level0 col7\" >MCC</th>        <th class=\"col_heading level0 col8\" >LogLoss</th>        <th class=\"col_heading level0 col9\" >TT (Sec)</th>    </tr></thead><tbody>\n",
       "                <tr>\n",
       "                        <th id=\"T_96871_level0_row0\" class=\"row_heading level0 row0\" >lr</th>\n",
       "                        <td id=\"T_96871_row0_col0\" class=\"data row0 col0\" >Logistic Regression</td>\n",
       "                        <td id=\"T_96871_row0_col1\" class=\"data row0 col1\" >0.3403</td>\n",
       "                        <td id=\"T_96871_row0_col2\" class=\"data row0 col2\" >0.6327</td>\n",
       "                        <td id=\"T_96871_row0_col3\" class=\"data row0 col3\" >0.1720</td>\n",
       "                        <td id=\"T_96871_row0_col4\" class=\"data row0 col4\" >0.2339</td>\n",
       "                        <td id=\"T_96871_row0_col5\" class=\"data row0 col5\" >0.2641</td>\n",
       "                        <td id=\"T_96871_row0_col6\" class=\"data row0 col6\" >0.1376</td>\n",
       "                        <td id=\"T_96871_row0_col7\" class=\"data row0 col7\" >0.1471</td>\n",
       "                        <td id=\"T_96871_row0_col8\" class=\"data row0 col8\" >1.8285</td>\n",
       "                        <td id=\"T_96871_row0_col9\" class=\"data row0 col9\" >25.2980</td>\n",
       "            </tr>\n",
       "    </tbody></table>"
      ],
      "text/plain": [
       "<pandas.io.formats.style.Styler at 0x15428944088>"
      ]
     },
     "metadata": {},
     "output_type": "display_data"
    }
   ],
   "source": [
    "top6 = compare_models(exclude=['catboost'],   #catboost不能 tune_model\n",
    "                      sort='Accuracy',   # or ['Accuracy', 'AUC', 'Recall', 'Precision', 'F1', 'Kappa', 'MCC']\n",
    "                      n_select=6,\n",
    "                      cross_validation=True,\n",
    "                      budget_time=10*60,   # in minutes\n",
    "                     )"
   ]
  },
  {
   "cell_type": "code",
   "execution_count": 24,
   "id": "267496cc",
   "metadata": {
    "collapsed": true
   },
   "outputs": [
    {
     "data": {
      "application/vnd.jupyter.widget-view+json": {
       "model_id": "c8f789dd21974e769c8a4c6855cb46fd",
       "version_major": 2,
       "version_minor": 0
      },
      "text/plain": [
       "IntProgress(value=0, description='Processing: ', max=7)"
      ]
     },
     "metadata": {},
     "output_type": "display_data"
    },
    {
     "data": {
      "text/html": [
       "<div>\n",
       "<style scoped>\n",
       "    .dataframe tbody tr th:only-of-type {\n",
       "        vertical-align: middle;\n",
       "    }\n",
       "\n",
       "    .dataframe tbody tr th {\n",
       "        vertical-align: top;\n",
       "    }\n",
       "\n",
       "    .dataframe thead th {\n",
       "        text-align: right;\n",
       "    }\n",
       "</style>\n",
       "<table border=\"1\" class=\"dataframe\">\n",
       "  <thead>\n",
       "    <tr style=\"text-align: right;\">\n",
       "      <th></th>\n",
       "      <th></th>\n",
       "      <th></th>\n",
       "    </tr>\n",
       "    <tr>\n",
       "      <th></th>\n",
       "      <th></th>\n",
       "      <th></th>\n",
       "    </tr>\n",
       "  </thead>\n",
       "  <tbody>\n",
       "    <tr>\n",
       "      <th>Initiated</th>\n",
       "      <td>. . . . . . . . . . . . . . . . . .</td>\n",
       "      <td>12:58:54</td>\n",
       "    </tr>\n",
       "    <tr>\n",
       "      <th>Status</th>\n",
       "      <td>. . . . . . . . . . . . . . . . . .</td>\n",
       "      <td>Searching Hyperparameters</td>\n",
       "    </tr>\n",
       "    <tr>\n",
       "      <th>Estimator</th>\n",
       "      <td>. . . . . . . . . . . . . . . . . .</td>\n",
       "      <td>Light Gradient Boosting Machine</td>\n",
       "    </tr>\n",
       "  </tbody>\n",
       "</table>\n",
       "</div>"
      ],
      "text/plain": [
       "                                                \\\n",
       "                                                 \n",
       "Initiated  . . . . . . . . . . . . . . . . . .   \n",
       "Status     . . . . . . . . . . . . . . . . . .   \n",
       "Estimator  . . . . . . . . . . . . . . . . . .   \n",
       "\n",
       "                                            \n",
       "                                            \n",
       "Initiated                         12:58:54  \n",
       "Status           Searching Hyperparameters  \n",
       "Estimator  Light Gradient Boosting Machine  "
      ]
     },
     "metadata": {},
     "output_type": "display_data"
    },
    {
     "data": {
      "text/html": [
       "<div>\n",
       "<style scoped>\n",
       "    .dataframe tbody tr th:only-of-type {\n",
       "        vertical-align: middle;\n",
       "    }\n",
       "\n",
       "    .dataframe tbody tr th {\n",
       "        vertical-align: top;\n",
       "    }\n",
       "\n",
       "    .dataframe thead th {\n",
       "        text-align: right;\n",
       "    }\n",
       "</style>\n",
       "<table border=\"1\" class=\"dataframe\">\n",
       "  <thead>\n",
       "    <tr style=\"text-align: right;\">\n",
       "      <th></th>\n",
       "      <th>Accuracy</th>\n",
       "      <th>AUC</th>\n",
       "      <th>Recall</th>\n",
       "      <th>Prec.</th>\n",
       "      <th>F1</th>\n",
       "      <th>Kappa</th>\n",
       "      <th>MCC</th>\n",
       "      <th>LogLoss</th>\n",
       "    </tr>\n",
       "  </thead>\n",
       "  <tbody>\n",
       "  </tbody>\n",
       "</table>\n",
       "</div>"
      ],
      "text/plain": [
       "Empty DataFrame\n",
       "Columns: [Accuracy, AUC, Recall, Prec., F1, Kappa, MCC, LogLoss]\n",
       "Index: []"
      ]
     },
     "metadata": {},
     "output_type": "display_data"
    },
    {
     "name": "stdout",
     "output_type": "stream",
     "text": [
      "Fitting 5 folds for each of 1 candidates, totalling 5 fits\n"
     ]
    },
    {
     "name": "stderr",
     "output_type": "stream",
     "text": [
      "[Parallel(n_jobs=1)]: Using backend SequentialBackend with 1 concurrent workers.\n"
     ]
    },
    {
     "name": "stdout",
     "output_type": "stream",
     "text": [
      "[LightGBM] [Warning] feature_fraction is set=0.9597207993087004, colsample_bytree=1.0 will be ignored. Current value: feature_fraction=0.9597207993087004\n",
      "[LightGBM] [Warning] bagging_fraction is set=0.6460623753119883, subsample=1.0 will be ignored. Current value: bagging_fraction=0.6460623753119883\n",
      "[LightGBM] [Warning] bagging_freq is set=5, subsample_freq=0 will be ignored. Current value: bagging_freq=5\n",
      "[LightGBM] [Warning] feature_fraction is set=0.9597207993087004, colsample_bytree=1.0 will be ignored. Current value: feature_fraction=0.9597207993087004\n",
      "[LightGBM] [Warning] bagging_fraction is set=0.6460623753119883, subsample=1.0 will be ignored. Current value: bagging_fraction=0.6460623753119883\n",
      "[LightGBM] [Warning] bagging_freq is set=5, subsample_freq=0 will be ignored. Current value: bagging_freq=5\n",
      "[LightGBM] [Warning] feature_fraction is set=0.9597207993087004, colsample_bytree=1.0 will be ignored. Current value: feature_fraction=0.9597207993087004\n",
      "[LightGBM] [Warning] bagging_fraction is set=0.6460623753119883, subsample=1.0 will be ignored. Current value: bagging_fraction=0.6460623753119883\n",
      "[LightGBM] [Warning] bagging_freq is set=5, subsample_freq=0 will be ignored. Current value: bagging_freq=5\n",
      "[LightGBM] [Warning] feature_fraction is set=0.9597207993087004, colsample_bytree=1.0 will be ignored. Current value: feature_fraction=0.9597207993087004\n",
      "[LightGBM] [Warning] bagging_fraction is set=0.6460623753119883, subsample=1.0 will be ignored. Current value: bagging_fraction=0.6460623753119883\n",
      "[LightGBM] [Warning] bagging_freq is set=5, subsample_freq=0 will be ignored. Current value: bagging_freq=5\n"
     ]
    },
    {
     "name": "stderr",
     "output_type": "stream",
     "text": [
      "[Parallel(n_jobs=1)]: Done   5 out of   5 | elapsed: 12.4min finished\n",
      "[Parallel(n_jobs=1)]: Using backend SequentialBackend with 1 concurrent workers.\n"
     ]
    },
    {
     "name": "stdout",
     "output_type": "stream",
     "text": [
      "Fitting 5 folds for each of 1 candidates, totalling 5 fits\n",
      "[LightGBM] [Warning] feature_fraction is set=0.582046065930505, colsample_bytree=1.0 will be ignored. Current value: feature_fraction=0.582046065930505\n",
      "[LightGBM] [Warning] bagging_fraction is set=0.9024330133319707, subsample=1.0 will be ignored. Current value: bagging_fraction=0.9024330133319707\n",
      "[LightGBM] [Warning] bagging_freq is set=6, subsample_freq=0 will be ignored. Current value: bagging_freq=6\n",
      "[LightGBM] [Warning] feature_fraction is set=0.582046065930505, colsample_bytree=1.0 will be ignored. Current value: feature_fraction=0.582046065930505\n",
      "[LightGBM] [Warning] bagging_fraction is set=0.9024330133319707, subsample=1.0 will be ignored. Current value: bagging_fraction=0.9024330133319707\n",
      "[LightGBM] [Warning] bagging_freq is set=6, subsample_freq=0 will be ignored. Current value: bagging_freq=6\n",
      "[LightGBM] [Warning] feature_fraction is set=0.582046065930505, colsample_bytree=1.0 will be ignored. Current value: feature_fraction=0.582046065930505\n",
      "[LightGBM] [Warning] bagging_fraction is set=0.9024330133319707, subsample=1.0 will be ignored. Current value: bagging_fraction=0.9024330133319707\n",
      "[LightGBM] [Warning] bagging_freq is set=6, subsample_freq=0 will be ignored. Current value: bagging_freq=6\n",
      "[LightGBM] [Warning] feature_fraction is set=0.582046065930505, colsample_bytree=1.0 will be ignored. Current value: feature_fraction=0.582046065930505\n",
      "[LightGBM] [Warning] bagging_fraction is set=0.9024330133319707, subsample=1.0 will be ignored. Current value: bagging_fraction=0.9024330133319707\n",
      "[LightGBM] [Warning] bagging_freq is set=6, subsample_freq=0 will be ignored. Current value: bagging_freq=6\n",
      "[LightGBM] [Warning] feature_fraction is set=0.582046065930505, colsample_bytree=1.0 will be ignored. Current value: feature_fraction=0.582046065930505\n",
      "[LightGBM] [Warning] bagging_fraction is set=0.9024330133319707, subsample=1.0 will be ignored. Current value: bagging_fraction=0.9024330133319707\n",
      "[LightGBM] [Warning] bagging_freq is set=6, subsample_freq=0 will be ignored. Current value: bagging_freq=6\n"
     ]
    },
    {
     "name": "stderr",
     "output_type": "stream",
     "text": [
      "[Parallel(n_jobs=1)]: Done   5 out of   5 | elapsed:  3.5min finished\n",
      "[Parallel(n_jobs=1)]: Using backend SequentialBackend with 1 concurrent workers.\n"
     ]
    },
    {
     "name": "stdout",
     "output_type": "stream",
     "text": [
      "Fitting 5 folds for each of 1 candidates, totalling 5 fits\n",
      "[LightGBM] [Warning] feature_fraction is set=0.46291549513162217, colsample_bytree=1.0 will be ignored. Current value: feature_fraction=0.46291549513162217\n",
      "[LightGBM] [Warning] bagging_fraction is set=0.6668995073806911, subsample=1.0 will be ignored. Current value: bagging_fraction=0.6668995073806911\n",
      "[LightGBM] [Warning] bagging_freq is set=6, subsample_freq=0 will be ignored. Current value: bagging_freq=6\n",
      "[LightGBM] [Warning] feature_fraction is set=0.46291549513162217, colsample_bytree=1.0 will be ignored. Current value: feature_fraction=0.46291549513162217\n",
      "[LightGBM] [Warning] bagging_fraction is set=0.6668995073806911, subsample=1.0 will be ignored. Current value: bagging_fraction=0.6668995073806911\n",
      "[LightGBM] [Warning] bagging_freq is set=6, subsample_freq=0 will be ignored. Current value: bagging_freq=6\n",
      "[LightGBM] [Warning] feature_fraction is set=0.46291549513162217, colsample_bytree=1.0 will be ignored. Current value: feature_fraction=0.46291549513162217\n",
      "[LightGBM] [Warning] bagging_fraction is set=0.6668995073806911, subsample=1.0 will be ignored. Current value: bagging_fraction=0.6668995073806911\n",
      "[LightGBM] [Warning] bagging_freq is set=6, subsample_freq=0 will be ignored. Current value: bagging_freq=6\n",
      "[LightGBM] [Warning] feature_fraction is set=0.46291549513162217, colsample_bytree=1.0 will be ignored. Current value: feature_fraction=0.46291549513162217\n",
      "[LightGBM] [Warning] bagging_fraction is set=0.6668995073806911, subsample=1.0 will be ignored. Current value: bagging_fraction=0.6668995073806911\n",
      "[LightGBM] [Warning] bagging_freq is set=6, subsample_freq=0 will be ignored. Current value: bagging_freq=6\n",
      "[LightGBM] [Warning] feature_fraction is set=0.46291549513162217, colsample_bytree=1.0 will be ignored. Current value: feature_fraction=0.46291549513162217\n",
      "[LightGBM] [Warning] bagging_fraction is set=0.6668995073806911, subsample=1.0 will be ignored. Current value: bagging_fraction=0.6668995073806911\n",
      "[LightGBM] [Warning] bagging_freq is set=6, subsample_freq=0 will be ignored. Current value: bagging_freq=6\n"
     ]
    },
    {
     "name": "stderr",
     "output_type": "stream",
     "text": [
      "[Parallel(n_jobs=1)]: Done   5 out of   5 | elapsed:  6.6min finished\n",
      "[Parallel(n_jobs=1)]: Using backend SequentialBackend with 1 concurrent workers.\n"
     ]
    },
    {
     "name": "stdout",
     "output_type": "stream",
     "text": [
      "Fitting 5 folds for each of 1 candidates, totalling 5 fits\n",
      "[LightGBM] [Warning] feature_fraction is set=0.7588282465072769, colsample_bytree=1.0 will be ignored. Current value: feature_fraction=0.7588282465072769\n",
      "[LightGBM] [Warning] bagging_fraction is set=0.887437593014418, subsample=1.0 will be ignored. Current value: bagging_fraction=0.887437593014418\n",
      "[LightGBM] [Warning] bagging_freq is set=1, subsample_freq=0 will be ignored. Current value: bagging_freq=1\n",
      "[LightGBM] [Warning] feature_fraction is set=0.7588282465072769, colsample_bytree=1.0 will be ignored. Current value: feature_fraction=0.7588282465072769\n",
      "[LightGBM] [Warning] bagging_fraction is set=0.887437593014418, subsample=1.0 will be ignored. Current value: bagging_fraction=0.887437593014418\n",
      "[LightGBM] [Warning] bagging_freq is set=1, subsample_freq=0 will be ignored. Current value: bagging_freq=1\n",
      "[LightGBM] [Warning] feature_fraction is set=0.7588282465072769, colsample_bytree=1.0 will be ignored. Current value: feature_fraction=0.7588282465072769\n",
      "[LightGBM] [Warning] bagging_fraction is set=0.887437593014418, subsample=1.0 will be ignored. Current value: bagging_fraction=0.887437593014418\n",
      "[LightGBM] [Warning] bagging_freq is set=1, subsample_freq=0 will be ignored. Current value: bagging_freq=1\n",
      "[LightGBM] [Warning] feature_fraction is set=0.7588282465072769, colsample_bytree=1.0 will be ignored. Current value: feature_fraction=0.7588282465072769\n",
      "[LightGBM] [Warning] bagging_fraction is set=0.887437593014418, subsample=1.0 will be ignored. Current value: bagging_fraction=0.887437593014418\n",
      "[LightGBM] [Warning] bagging_freq is set=1, subsample_freq=0 will be ignored. Current value: bagging_freq=1\n",
      "[LightGBM] [Warning] feature_fraction is set=0.7588282465072769, colsample_bytree=1.0 will be ignored. Current value: feature_fraction=0.7588282465072769\n",
      "[LightGBM] [Warning] bagging_fraction is set=0.887437593014418, subsample=1.0 will be ignored. Current value: bagging_fraction=0.887437593014418\n",
      "[LightGBM] [Warning] bagging_freq is set=1, subsample_freq=0 will be ignored. Current value: bagging_freq=1\n"
     ]
    },
    {
     "name": "stderr",
     "output_type": "stream",
     "text": [
      "[Parallel(n_jobs=1)]: Done   5 out of   5 | elapsed: 32.2min finished\n",
      "[Parallel(n_jobs=1)]: Using backend SequentialBackend with 1 concurrent workers.\n"
     ]
    },
    {
     "name": "stdout",
     "output_type": "stream",
     "text": [
      "Fitting 5 folds for each of 1 candidates, totalling 5 fits\n",
      "[LightGBM] [Warning] feature_fraction is set=0.7159721422766154, colsample_bytree=1.0 will be ignored. Current value: feature_fraction=0.7159721422766154\n",
      "[LightGBM] [Warning] bagging_fraction is set=0.8797320649643039, subsample=1.0 will be ignored. Current value: bagging_fraction=0.8797320649643039\n",
      "[LightGBM] [Warning] bagging_freq is set=3, subsample_freq=0 will be ignored. Current value: bagging_freq=3\n",
      "[LightGBM] [Warning] feature_fraction is set=0.7159721422766154, colsample_bytree=1.0 will be ignored. Current value: feature_fraction=0.7159721422766154\n",
      "[LightGBM] [Warning] bagging_fraction is set=0.8797320649643039, subsample=1.0 will be ignored. Current value: bagging_fraction=0.8797320649643039\n",
      "[LightGBM] [Warning] bagging_freq is set=3, subsample_freq=0 will be ignored. Current value: bagging_freq=3\n",
      "[LightGBM] [Warning] feature_fraction is set=0.7159721422766154, colsample_bytree=1.0 will be ignored. Current value: feature_fraction=0.7159721422766154\n",
      "[LightGBM] [Warning] bagging_fraction is set=0.8797320649643039, subsample=1.0 will be ignored. Current value: bagging_fraction=0.8797320649643039\n",
      "[LightGBM] [Warning] bagging_freq is set=3, subsample_freq=0 will be ignored. Current value: bagging_freq=3\n",
      "[LightGBM] [Warning] feature_fraction is set=0.7159721422766154, colsample_bytree=1.0 will be ignored. Current value: feature_fraction=0.7159721422766154\n",
      "[LightGBM] [Warning] bagging_fraction is set=0.8797320649643039, subsample=1.0 will be ignored. Current value: bagging_fraction=0.8797320649643039\n",
      "[LightGBM] [Warning] bagging_freq is set=3, subsample_freq=0 will be ignored. Current value: bagging_freq=3\n",
      "[LightGBM] [Warning] feature_fraction is set=0.7159721422766154, colsample_bytree=1.0 will be ignored. Current value: feature_fraction=0.7159721422766154\n",
      "[LightGBM] [Warning] bagging_fraction is set=0.8797320649643039, subsample=1.0 will be ignored. Current value: bagging_fraction=0.8797320649643039\n",
      "[LightGBM] [Warning] bagging_freq is set=3, subsample_freq=0 will be ignored. Current value: bagging_freq=3\n"
     ]
    },
    {
     "name": "stderr",
     "output_type": "stream",
     "text": [
      "[Parallel(n_jobs=1)]: Done   5 out of   5 | elapsed: 15.8min finished\n",
      "[Parallel(n_jobs=1)]: Using backend SequentialBackend with 1 concurrent workers.\n"
     ]
    },
    {
     "name": "stdout",
     "output_type": "stream",
     "text": [
      "Fitting 5 folds for each of 1 candidates, totalling 5 fits\n",
      "[LightGBM] [Warning] feature_fraction is set=0.4981643071831302, colsample_bytree=1.0 will be ignored. Current value: feature_fraction=0.4981643071831302\n",
      "[LightGBM] [Warning] bagging_fraction is set=0.840416810791341, subsample=1.0 will be ignored. Current value: bagging_fraction=0.840416810791341\n",
      "[LightGBM] [Warning] bagging_freq is set=7, subsample_freq=0 will be ignored. Current value: bagging_freq=7\n",
      "[LightGBM] [Warning] feature_fraction is set=0.4981643071831302, colsample_bytree=1.0 will be ignored. Current value: feature_fraction=0.4981643071831302\n",
      "[LightGBM] [Warning] bagging_fraction is set=0.840416810791341, subsample=1.0 will be ignored. Current value: bagging_fraction=0.840416810791341\n",
      "[LightGBM] [Warning] bagging_freq is set=7, subsample_freq=0 will be ignored. Current value: bagging_freq=7\n",
      "[LightGBM] [Warning] feature_fraction is set=0.4981643071831302, colsample_bytree=1.0 will be ignored. Current value: feature_fraction=0.4981643071831302\n",
      "[LightGBM] [Warning] bagging_fraction is set=0.840416810791341, subsample=1.0 will be ignored. Current value: bagging_fraction=0.840416810791341\n",
      "[LightGBM] [Warning] bagging_freq is set=7, subsample_freq=0 will be ignored. Current value: bagging_freq=7\n",
      "[LightGBM] [Warning] feature_fraction is set=0.4981643071831302, colsample_bytree=1.0 will be ignored. Current value: feature_fraction=0.4981643071831302\n",
      "[LightGBM] [Warning] bagging_fraction is set=0.840416810791341, subsample=1.0 will be ignored. Current value: bagging_fraction=0.840416810791341\n",
      "[LightGBM] [Warning] bagging_freq is set=7, subsample_freq=0 will be ignored. Current value: bagging_freq=7\n",
      "[LightGBM] [Warning] feature_fraction is set=0.4981643071831302, colsample_bytree=1.0 will be ignored. Current value: feature_fraction=0.4981643071831302\n",
      "[LightGBM] [Warning] bagging_fraction is set=0.840416810791341, subsample=1.0 will be ignored. Current value: bagging_fraction=0.840416810791341\n",
      "[LightGBM] [Warning] bagging_freq is set=7, subsample_freq=0 will be ignored. Current value: bagging_freq=7\n"
     ]
    },
    {
     "name": "stderr",
     "output_type": "stream",
     "text": [
      "[Parallel(n_jobs=1)]: Done   5 out of   5 | elapsed: 14.8min finished\n",
      "[Parallel(n_jobs=1)]: Using backend SequentialBackend with 1 concurrent workers.\n"
     ]
    },
    {
     "name": "stdout",
     "output_type": "stream",
     "text": [
      "Fitting 5 folds for each of 1 candidates, totalling 5 fits\n",
      "[LightGBM] [Warning] feature_fraction is set=0.6154137591528424, colsample_bytree=1.0 will be ignored. Current value: feature_fraction=0.6154137591528424\n",
      "[LightGBM] [Warning] bagging_fraction is set=0.7702476151013897, subsample=1.0 will be ignored. Current value: bagging_fraction=0.7702476151013897\n",
      "[LightGBM] [Warning] bagging_freq is set=5, subsample_freq=0 will be ignored. Current value: bagging_freq=5\n",
      "[LightGBM] [Warning] feature_fraction is set=0.6154137591528424, colsample_bytree=1.0 will be ignored. Current value: feature_fraction=0.6154137591528424\n",
      "[LightGBM] [Warning] bagging_fraction is set=0.7702476151013897, subsample=1.0 will be ignored. Current value: bagging_fraction=0.7702476151013897\n",
      "[LightGBM] [Warning] bagging_freq is set=5, subsample_freq=0 will be ignored. Current value: bagging_freq=5\n",
      "[LightGBM] [Warning] feature_fraction is set=0.6154137591528424, colsample_bytree=1.0 will be ignored. Current value: feature_fraction=0.6154137591528424\n",
      "[LightGBM] [Warning] bagging_fraction is set=0.7702476151013897, subsample=1.0 will be ignored. Current value: bagging_fraction=0.7702476151013897\n",
      "[LightGBM] [Warning] bagging_freq is set=5, subsample_freq=0 will be ignored. Current value: bagging_freq=5\n",
      "[LightGBM] [Warning] feature_fraction is set=0.6154137591528424, colsample_bytree=1.0 will be ignored. Current value: feature_fraction=0.6154137591528424\n",
      "[LightGBM] [Warning] bagging_fraction is set=0.7702476151013897, subsample=1.0 will be ignored. Current value: bagging_fraction=0.7702476151013897\n",
      "[LightGBM] [Warning] bagging_freq is set=5, subsample_freq=0 will be ignored. Current value: bagging_freq=5\n",
      "[LightGBM] [Warning] feature_fraction is set=0.6154137591528424, colsample_bytree=1.0 will be ignored. Current value: feature_fraction=0.6154137591528424\n",
      "[LightGBM] [Warning] bagging_fraction is set=0.7702476151013897, subsample=1.0 will be ignored. Current value: bagging_fraction=0.7702476151013897\n",
      "[LightGBM] [Warning] bagging_freq is set=5, subsample_freq=0 will be ignored. Current value: bagging_freq=5\n"
     ]
    },
    {
     "name": "stderr",
     "output_type": "stream",
     "text": [
      "[Parallel(n_jobs=1)]: Done   5 out of   5 | elapsed: 14.6min finished\n",
      "[Parallel(n_jobs=1)]: Using backend SequentialBackend with 1 concurrent workers.\n"
     ]
    },
    {
     "name": "stdout",
     "output_type": "stream",
     "text": [
      "Fitting 5 folds for each of 1 candidates, totalling 5 fits\n",
      "[LightGBM] [Warning] feature_fraction is set=0.6978800221580301, colsample_bytree=1.0 will be ignored. Current value: feature_fraction=0.6978800221580301\n",
      "[LightGBM] [Warning] bagging_fraction is set=0.7260418406141875, subsample=1.0 will be ignored. Current value: bagging_fraction=0.7260418406141875\n",
      "[LightGBM] [Warning] bagging_freq is set=6, subsample_freq=0 will be ignored. Current value: bagging_freq=6\n",
      "[LightGBM] [Warning] feature_fraction is set=0.6978800221580301, colsample_bytree=1.0 will be ignored. Current value: feature_fraction=0.6978800221580301\n",
      "[LightGBM] [Warning] bagging_fraction is set=0.7260418406141875, subsample=1.0 will be ignored. Current value: bagging_fraction=0.7260418406141875\n",
      "[LightGBM] [Warning] bagging_freq is set=6, subsample_freq=0 will be ignored. Current value: bagging_freq=6\n",
      "[LightGBM] [Warning] feature_fraction is set=0.6978800221580301, colsample_bytree=1.0 will be ignored. Current value: feature_fraction=0.6978800221580301\n",
      "[LightGBM] [Warning] bagging_fraction is set=0.7260418406141875, subsample=1.0 will be ignored. Current value: bagging_fraction=0.7260418406141875\n",
      "[LightGBM] [Warning] bagging_freq is set=6, subsample_freq=0 will be ignored. Current value: bagging_freq=6\n",
      "[LightGBM] [Warning] feature_fraction is set=0.6978800221580301, colsample_bytree=1.0 will be ignored. Current value: feature_fraction=0.6978800221580301\n",
      "[LightGBM] [Warning] bagging_fraction is set=0.7260418406141875, subsample=1.0 will be ignored. Current value: bagging_fraction=0.7260418406141875\n",
      "[LightGBM] [Warning] bagging_freq is set=6, subsample_freq=0 will be ignored. Current value: bagging_freq=6\n",
      "[LightGBM] [Warning] feature_fraction is set=0.6978800221580301, colsample_bytree=1.0 will be ignored. Current value: feature_fraction=0.6978800221580301\n",
      "[LightGBM] [Warning] bagging_fraction is set=0.7260418406141875, subsample=1.0 will be ignored. Current value: bagging_fraction=0.7260418406141875\n",
      "[LightGBM] [Warning] bagging_freq is set=6, subsample_freq=0 will be ignored. Current value: bagging_freq=6\n"
     ]
    },
    {
     "name": "stderr",
     "output_type": "stream",
     "text": [
      "[Parallel(n_jobs=1)]: Done   5 out of   5 | elapsed:  2.3min finished\n",
      "[Parallel(n_jobs=1)]: Using backend SequentialBackend with 1 concurrent workers.\n"
     ]
    },
    {
     "name": "stdout",
     "output_type": "stream",
     "text": [
      "Fitting 5 folds for each of 1 candidates, totalling 5 fits\n",
      "[LightGBM] [Warning] feature_fraction is set=0.922991157077929, colsample_bytree=1.0 will be ignored. Current value: feature_fraction=0.922991157077929\n",
      "[LightGBM] [Warning] bagging_fraction is set=0.973286791785957, subsample=1.0 will be ignored. Current value: bagging_fraction=0.973286791785957\n",
      "[LightGBM] [Warning] bagging_freq is set=5, subsample_freq=0 will be ignored. Current value: bagging_freq=5\n",
      "[LightGBM] [Warning] feature_fraction is set=0.922991157077929, colsample_bytree=1.0 will be ignored. Current value: feature_fraction=0.922991157077929\n",
      "[LightGBM] [Warning] bagging_fraction is set=0.973286791785957, subsample=1.0 will be ignored. Current value: bagging_fraction=0.973286791785957\n",
      "[LightGBM] [Warning] bagging_freq is set=5, subsample_freq=0 will be ignored. Current value: bagging_freq=5\n",
      "[LightGBM] [Warning] feature_fraction is set=0.922991157077929, colsample_bytree=1.0 will be ignored. Current value: feature_fraction=0.922991157077929\n",
      "[LightGBM] [Warning] bagging_fraction is set=0.973286791785957, subsample=1.0 will be ignored. Current value: bagging_fraction=0.973286791785957\n",
      "[LightGBM] [Warning] bagging_freq is set=5, subsample_freq=0 will be ignored. Current value: bagging_freq=5\n",
      "[LightGBM] [Warning] feature_fraction is set=0.922991157077929, colsample_bytree=1.0 will be ignored. Current value: feature_fraction=0.922991157077929\n",
      "[LightGBM] [Warning] bagging_fraction is set=0.973286791785957, subsample=1.0 will be ignored. Current value: bagging_fraction=0.973286791785957\n",
      "[LightGBM] [Warning] bagging_freq is set=5, subsample_freq=0 will be ignored. Current value: bagging_freq=5\n",
      "[LightGBM] [Warning] feature_fraction is set=0.922991157077929, colsample_bytree=1.0 will be ignored. Current value: feature_fraction=0.922991157077929\n",
      "[LightGBM] [Warning] bagging_fraction is set=0.973286791785957, subsample=1.0 will be ignored. Current value: bagging_fraction=0.973286791785957\n",
      "[LightGBM] [Warning] bagging_freq is set=5, subsample_freq=0 will be ignored. Current value: bagging_freq=5\n"
     ]
    },
    {
     "name": "stderr",
     "output_type": "stream",
     "text": [
      "[Parallel(n_jobs=1)]: Done   5 out of   5 | elapsed:   50.3s finished\n"
     ]
    },
    {
     "name": "stdout",
     "output_type": "stream",
     "text": [
      "Fitting 5 folds for each of 1 candidates, totalling 5 fits\n",
      "[LightGBM] [Warning] feature_fraction is set=0.8447696466208163, colsample_bytree=1.0 will be ignored. Current value: feature_fraction=0.8447696466208163\n",
      "[LightGBM] [Warning] bagging_fraction is set=0.40217818435284597, subsample=1.0 will be ignored. Current value: bagging_fraction=0.40217818435284597\n",
      "[LightGBM] [Warning] bagging_freq is set=6, subsample_freq=0 will be ignored. Current value: bagging_freq=6\n"
     ]
    },
    {
     "name": "stderr",
     "output_type": "stream",
     "text": [
      "[Parallel(n_jobs=1)]: Using backend SequentialBackend with 1 concurrent workers.\n"
     ]
    },
    {
     "name": "stdout",
     "output_type": "stream",
     "text": [
      "[LightGBM] [Warning] feature_fraction is set=0.8447696466208163, colsample_bytree=1.0 will be ignored. Current value: feature_fraction=0.8447696466208163\n",
      "[LightGBM] [Warning] bagging_fraction is set=0.40217818435284597, subsample=1.0 will be ignored. Current value: bagging_fraction=0.40217818435284597\n",
      "[LightGBM] [Warning] bagging_freq is set=6, subsample_freq=0 will be ignored. Current value: bagging_freq=6\n",
      "[LightGBM] [Warning] feature_fraction is set=0.8447696466208163, colsample_bytree=1.0 will be ignored. Current value: feature_fraction=0.8447696466208163\n",
      "[LightGBM] [Warning] bagging_fraction is set=0.40217818435284597, subsample=1.0 will be ignored. Current value: bagging_fraction=0.40217818435284597\n",
      "[LightGBM] [Warning] bagging_freq is set=6, subsample_freq=0 will be ignored. Current value: bagging_freq=6\n",
      "[LightGBM] [Warning] feature_fraction is set=0.8447696466208163, colsample_bytree=1.0 will be ignored. Current value: feature_fraction=0.8447696466208163\n",
      "[LightGBM] [Warning] bagging_fraction is set=0.40217818435284597, subsample=1.0 will be ignored. Current value: bagging_fraction=0.40217818435284597\n",
      "[LightGBM] [Warning] bagging_freq is set=6, subsample_freq=0 will be ignored. Current value: bagging_freq=6\n",
      "[LightGBM] [Warning] feature_fraction is set=0.8447696466208163, colsample_bytree=1.0 will be ignored. Current value: feature_fraction=0.8447696466208163\n",
      "[LightGBM] [Warning] bagging_fraction is set=0.40217818435284597, subsample=1.0 will be ignored. Current value: bagging_fraction=0.40217818435284597\n",
      "[LightGBM] [Warning] bagging_freq is set=6, subsample_freq=0 will be ignored. Current value: bagging_freq=6\n"
     ]
    },
    {
     "name": "stderr",
     "output_type": "stream",
     "text": [
      "[Parallel(n_jobs=1)]: Done   5 out of   5 | elapsed:  3.5min finished\n"
     ]
    },
    {
     "name": "stdout",
     "output_type": "stream",
     "text": [
      "Fitting 5 folds for each of 1 candidates, totalling 5 fits\n",
      "[LightGBM] [Warning] feature_fraction is set=0.6682898161614558, colsample_bytree=1.0 will be ignored. Current value: feature_fraction=0.6682898161614558\n",
      "[LightGBM] [Warning] bagging_fraction is set=0.4, subsample=1.0 will be ignored. Current value: bagging_fraction=0.4\n",
      "[LightGBM] [Warning] bagging_freq is set=2, subsample_freq=0 will be ignored. Current value: bagging_freq=2\n"
     ]
    },
    {
     "name": "stderr",
     "output_type": "stream",
     "text": [
      "[Parallel(n_jobs=1)]: Using backend SequentialBackend with 1 concurrent workers.\n"
     ]
    },
    {
     "name": "stdout",
     "output_type": "stream",
     "text": [
      "[LightGBM] [Warning] feature_fraction is set=0.6682898161614558, colsample_bytree=1.0 will be ignored. Current value: feature_fraction=0.6682898161614558\n",
      "[LightGBM] [Warning] bagging_fraction is set=0.4, subsample=1.0 will be ignored. Current value: bagging_fraction=0.4\n",
      "[LightGBM] [Warning] bagging_freq is set=2, subsample_freq=0 will be ignored. Current value: bagging_freq=2\n",
      "[LightGBM] [Warning] feature_fraction is set=0.6682898161614558, colsample_bytree=1.0 will be ignored. Current value: feature_fraction=0.6682898161614558\n",
      "[LightGBM] [Warning] bagging_fraction is set=0.4, subsample=1.0 will be ignored. Current value: bagging_fraction=0.4\n",
      "[LightGBM] [Warning] bagging_freq is set=2, subsample_freq=0 will be ignored. Current value: bagging_freq=2\n",
      "[LightGBM] [Warning] feature_fraction is set=0.6682898161614558, colsample_bytree=1.0 will be ignored. Current value: feature_fraction=0.6682898161614558\n",
      "[LightGBM] [Warning] bagging_fraction is set=0.4, subsample=1.0 will be ignored. Current value: bagging_fraction=0.4\n",
      "[LightGBM] [Warning] bagging_freq is set=2, subsample_freq=0 will be ignored. Current value: bagging_freq=2\n",
      "[LightGBM] [Warning] feature_fraction is set=0.6682898161614558, colsample_bytree=1.0 will be ignored. Current value: feature_fraction=0.6682898161614558\n",
      "[LightGBM] [Warning] bagging_fraction is set=0.4, subsample=1.0 will be ignored. Current value: bagging_fraction=0.4\n",
      "[LightGBM] [Warning] bagging_freq is set=2, subsample_freq=0 will be ignored. Current value: bagging_freq=2\n"
     ]
    },
    {
     "name": "stderr",
     "output_type": "stream",
     "text": [
      "[Parallel(n_jobs=1)]: Done   5 out of   5 | elapsed:  2.9min finished\n"
     ]
    },
    {
     "name": "stdout",
     "output_type": "stream",
     "text": [
      "Fitting 5 folds for each of 1 candidates, totalling 5 fits\n",
      "[LightGBM] [Warning] feature_fraction is set=0.7343366206528039, colsample_bytree=1.0 will be ignored. Current value: feature_fraction=0.7343366206528039\n",
      "[LightGBM] [Warning] bagging_fraction is set=1.0, subsample=1.0 will be ignored. Current value: bagging_fraction=1.0\n",
      "[LightGBM] [Warning] bagging_freq is set=0, subsample_freq=0 will be ignored. Current value: bagging_freq=0\n"
     ]
    },
    {
     "name": "stderr",
     "output_type": "stream",
     "text": [
      "[Parallel(n_jobs=1)]: Using backend SequentialBackend with 1 concurrent workers.\n"
     ]
    },
    {
     "name": "stdout",
     "output_type": "stream",
     "text": [
      "[LightGBM] [Warning] feature_fraction is set=0.7343366206528039, colsample_bytree=1.0 will be ignored. Current value: feature_fraction=0.7343366206528039\n",
      "[LightGBM] [Warning] bagging_fraction is set=1.0, subsample=1.0 will be ignored. Current value: bagging_fraction=1.0\n",
      "[LightGBM] [Warning] bagging_freq is set=0, subsample_freq=0 will be ignored. Current value: bagging_freq=0\n",
      "[LightGBM] [Warning] feature_fraction is set=0.7343366206528039, colsample_bytree=1.0 will be ignored. Current value: feature_fraction=0.7343366206528039\n",
      "[LightGBM] [Warning] bagging_fraction is set=1.0, subsample=1.0 will be ignored. Current value: bagging_fraction=1.0\n",
      "[LightGBM] [Warning] bagging_freq is set=0, subsample_freq=0 will be ignored. Current value: bagging_freq=0\n",
      "[LightGBM] [Warning] feature_fraction is set=0.7343366206528039, colsample_bytree=1.0 will be ignored. Current value: feature_fraction=0.7343366206528039\n",
      "[LightGBM] [Warning] bagging_fraction is set=1.0, subsample=1.0 will be ignored. Current value: bagging_fraction=1.0\n",
      "[LightGBM] [Warning] bagging_freq is set=0, subsample_freq=0 will be ignored. Current value: bagging_freq=0\n",
      "[LightGBM] [Warning] feature_fraction is set=0.7343366206528039, colsample_bytree=1.0 will be ignored. Current value: feature_fraction=0.7343366206528039\n",
      "[LightGBM] [Warning] bagging_fraction is set=1.0, subsample=1.0 will be ignored. Current value: bagging_fraction=1.0\n",
      "[LightGBM] [Warning] bagging_freq is set=0, subsample_freq=0 will be ignored. Current value: bagging_freq=0\n"
     ]
    },
    {
     "name": "stderr",
     "output_type": "stream",
     "text": [
      "[Parallel(n_jobs=1)]: Done   5 out of   5 | elapsed: 20.9min finished\n"
     ]
    },
    {
     "name": "stdout",
     "output_type": "stream",
     "text": [
      "Fitting 5 folds for each of 1 candidates, totalling 5 fits\n",
      "[LightGBM] [Warning] feature_fraction is set=0.9024742996422349, colsample_bytree=1.0 will be ignored. Current value: feature_fraction=0.9024742996422349\n",
      "[LightGBM] [Warning] bagging_fraction is set=0.4, subsample=1.0 will be ignored. Current value: bagging_fraction=0.4\n",
      "[LightGBM] [Warning] bagging_freq is set=4, subsample_freq=0 will be ignored. Current value: bagging_freq=4\n"
     ]
    },
    {
     "name": "stderr",
     "output_type": "stream",
     "text": [
      "[Parallel(n_jobs=1)]: Using backend SequentialBackend with 1 concurrent workers.\n"
     ]
    },
    {
     "name": "stdout",
     "output_type": "stream",
     "text": [
      "[LightGBM] [Warning] feature_fraction is set=0.9024742996422349, colsample_bytree=1.0 will be ignored. Current value: feature_fraction=0.9024742996422349\n",
      "[LightGBM] [Warning] bagging_fraction is set=0.4, subsample=1.0 will be ignored. Current value: bagging_fraction=0.4\n",
      "[LightGBM] [Warning] bagging_freq is set=4, subsample_freq=0 will be ignored. Current value: bagging_freq=4\n",
      "[LightGBM] [Warning] feature_fraction is set=0.9024742996422349, colsample_bytree=1.0 will be ignored. Current value: feature_fraction=0.9024742996422349\n",
      "[LightGBM] [Warning] bagging_fraction is set=0.4, subsample=1.0 will be ignored. Current value: bagging_fraction=0.4\n",
      "[LightGBM] [Warning] bagging_freq is set=4, subsample_freq=0 will be ignored. Current value: bagging_freq=4\n",
      "[LightGBM] [Warning] feature_fraction is set=0.9024742996422349, colsample_bytree=1.0 will be ignored. Current value: feature_fraction=0.9024742996422349\n",
      "[LightGBM] [Warning] bagging_fraction is set=0.4, subsample=1.0 will be ignored. Current value: bagging_fraction=0.4\n",
      "[LightGBM] [Warning] bagging_freq is set=4, subsample_freq=0 will be ignored. Current value: bagging_freq=4\n",
      "[LightGBM] [Warning] feature_fraction is set=0.9024742996422349, colsample_bytree=1.0 will be ignored. Current value: feature_fraction=0.9024742996422349\n",
      "[LightGBM] [Warning] bagging_fraction is set=0.4, subsample=1.0 will be ignored. Current value: bagging_fraction=0.4\n",
      "[LightGBM] [Warning] bagging_freq is set=4, subsample_freq=0 will be ignored. Current value: bagging_freq=4\n"
     ]
    },
    {
     "name": "stderr",
     "output_type": "stream",
     "text": [
      "[Parallel(n_jobs=1)]: Done   5 out of   5 | elapsed:   30.5s finished\n"
     ]
    },
    {
     "name": "stdout",
     "output_type": "stream",
     "text": [
      "Fitting 5 folds for each of 1 candidates, totalling 5 fits\n",
      "[LightGBM] [Warning] feature_fraction is set=0.6824055773218792, colsample_bytree=1.0 will be ignored. Current value: feature_fraction=0.6824055773218792\n",
      "[LightGBM] [Warning] bagging_fraction is set=0.7053228046579336, subsample=1.0 will be ignored. Current value: bagging_fraction=0.7053228046579336\n",
      "[LightGBM] [Warning] bagging_freq is set=4, subsample_freq=0 will be ignored. Current value: bagging_freq=4\n"
     ]
    },
    {
     "name": "stderr",
     "output_type": "stream",
     "text": [
      "[Parallel(n_jobs=1)]: Using backend SequentialBackend with 1 concurrent workers.\n"
     ]
    },
    {
     "name": "stdout",
     "output_type": "stream",
     "text": [
      "[LightGBM] [Warning] feature_fraction is set=0.6824055773218792, colsample_bytree=1.0 will be ignored. Current value: feature_fraction=0.6824055773218792\n",
      "[LightGBM] [Warning] bagging_fraction is set=0.7053228046579336, subsample=1.0 will be ignored. Current value: bagging_fraction=0.7053228046579336\n",
      "[LightGBM] [Warning] bagging_freq is set=4, subsample_freq=0 will be ignored. Current value: bagging_freq=4\n",
      "[LightGBM] [Warning] feature_fraction is set=0.6824055773218792, colsample_bytree=1.0 will be ignored. Current value: feature_fraction=0.6824055773218792\n",
      "[LightGBM] [Warning] bagging_fraction is set=0.7053228046579336, subsample=1.0 will be ignored. Current value: bagging_fraction=0.7053228046579336\n",
      "[LightGBM] [Warning] bagging_freq is set=4, subsample_freq=0 will be ignored. Current value: bagging_freq=4\n",
      "[LightGBM] [Warning] feature_fraction is set=0.6824055773218792, colsample_bytree=1.0 will be ignored. Current value: feature_fraction=0.6824055773218792\n",
      "[LightGBM] [Warning] bagging_fraction is set=0.7053228046579336, subsample=1.0 will be ignored. Current value: bagging_fraction=0.7053228046579336\n",
      "[LightGBM] [Warning] bagging_freq is set=4, subsample_freq=0 will be ignored. Current value: bagging_freq=4\n",
      "[LightGBM] [Warning] feature_fraction is set=0.6824055773218792, colsample_bytree=1.0 will be ignored. Current value: feature_fraction=0.6824055773218792\n",
      "[LightGBM] [Warning] bagging_fraction is set=0.7053228046579336, subsample=1.0 will be ignored. Current value: bagging_fraction=0.7053228046579336\n",
      "[LightGBM] [Warning] bagging_freq is set=4, subsample_freq=0 will be ignored. Current value: bagging_freq=4\n"
     ]
    },
    {
     "name": "stderr",
     "output_type": "stream",
     "text": [
      "[Parallel(n_jobs=1)]: Done   5 out of   5 | elapsed:  8.2min finished\n"
     ]
    },
    {
     "name": "stdout",
     "output_type": "stream",
     "text": [
      "Fitting 5 folds for each of 1 candidates, totalling 5 fits\n",
      "[LightGBM] [Warning] feature_fraction is set=0.5084602249254543, colsample_bytree=1.0 will be ignored. Current value: feature_fraction=0.5084602249254543\n",
      "[LightGBM] [Warning] bagging_fraction is set=0.4, subsample=1.0 will be ignored. Current value: bagging_fraction=0.4\n",
      "[LightGBM] [Warning] bagging_freq is set=7, subsample_freq=0 will be ignored. Current value: bagging_freq=7\n"
     ]
    },
    {
     "name": "stderr",
     "output_type": "stream",
     "text": [
      "[Parallel(n_jobs=1)]: Using backend SequentialBackend with 1 concurrent workers.\n"
     ]
    },
    {
     "name": "stdout",
     "output_type": "stream",
     "text": [
      "[LightGBM] [Warning] feature_fraction is set=0.5084602249254543, colsample_bytree=1.0 will be ignored. Current value: feature_fraction=0.5084602249254543\n",
      "[LightGBM] [Warning] bagging_fraction is set=0.4, subsample=1.0 will be ignored. Current value: bagging_fraction=0.4\n",
      "[LightGBM] [Warning] bagging_freq is set=7, subsample_freq=0 will be ignored. Current value: bagging_freq=7\n",
      "[LightGBM] [Warning] feature_fraction is set=0.5084602249254543, colsample_bytree=1.0 will be ignored. Current value: feature_fraction=0.5084602249254543\n",
      "[LightGBM] [Warning] bagging_fraction is set=0.4, subsample=1.0 will be ignored. Current value: bagging_fraction=0.4\n",
      "[LightGBM] [Warning] bagging_freq is set=7, subsample_freq=0 will be ignored. Current value: bagging_freq=7\n",
      "[LightGBM] [Warning] feature_fraction is set=0.5084602249254543, colsample_bytree=1.0 will be ignored. Current value: feature_fraction=0.5084602249254543\n",
      "[LightGBM] [Warning] bagging_fraction is set=0.4, subsample=1.0 will be ignored. Current value: bagging_fraction=0.4\n",
      "[LightGBM] [Warning] bagging_freq is set=7, subsample_freq=0 will be ignored. Current value: bagging_freq=7\n",
      "[LightGBM] [Warning] feature_fraction is set=0.5084602249254543, colsample_bytree=1.0 will be ignored. Current value: feature_fraction=0.5084602249254543\n",
      "[LightGBM] [Warning] bagging_fraction is set=0.4, subsample=1.0 will be ignored. Current value: bagging_fraction=0.4\n",
      "[LightGBM] [Warning] bagging_freq is set=7, subsample_freq=0 will be ignored. Current value: bagging_freq=7\n"
     ]
    },
    {
     "name": "stderr",
     "output_type": "stream",
     "text": [
      "[Parallel(n_jobs=1)]: Done   5 out of   5 | elapsed: 28.5min finished\n"
     ]
    },
    {
     "name": "stdout",
     "output_type": "stream",
     "text": [
      "Fitting 5 folds for each of 1 candidates, totalling 5 fits\n",
      "[LightGBM] [Warning] feature_fraction is set=0.4, colsample_bytree=1.0 will be ignored. Current value: feature_fraction=0.4\n",
      "[LightGBM] [Warning] bagging_fraction is set=1.0, subsample=1.0 will be ignored. Current value: bagging_fraction=1.0\n",
      "[LightGBM] [Warning] bagging_freq is set=2, subsample_freq=0 will be ignored. Current value: bagging_freq=2\n"
     ]
    },
    {
     "name": "stderr",
     "output_type": "stream",
     "text": [
      "[Parallel(n_jobs=1)]: Using backend SequentialBackend with 1 concurrent workers.\n"
     ]
    },
    {
     "name": "stdout",
     "output_type": "stream",
     "text": [
      "[LightGBM] [Warning] feature_fraction is set=0.4, colsample_bytree=1.0 will be ignored. Current value: feature_fraction=0.4\n",
      "[LightGBM] [Warning] bagging_fraction is set=1.0, subsample=1.0 will be ignored. Current value: bagging_fraction=1.0\n",
      "[LightGBM] [Warning] bagging_freq is set=2, subsample_freq=0 will be ignored. Current value: bagging_freq=2\n",
      "[LightGBM] [Warning] feature_fraction is set=0.4, colsample_bytree=1.0 will be ignored. Current value: feature_fraction=0.4\n",
      "[LightGBM] [Warning] bagging_fraction is set=1.0, subsample=1.0 will be ignored. Current value: bagging_fraction=1.0\n",
      "[LightGBM] [Warning] bagging_freq is set=2, subsample_freq=0 will be ignored. Current value: bagging_freq=2\n",
      "[LightGBM] [Warning] feature_fraction is set=0.4, colsample_bytree=1.0 will be ignored. Current value: feature_fraction=0.4\n",
      "[LightGBM] [Warning] bagging_fraction is set=1.0, subsample=1.0 will be ignored. Current value: bagging_fraction=1.0\n",
      "[LightGBM] [Warning] bagging_freq is set=2, subsample_freq=0 will be ignored. Current value: bagging_freq=2\n",
      "[LightGBM] [Warning] feature_fraction is set=0.4, colsample_bytree=1.0 will be ignored. Current value: feature_fraction=0.4\n",
      "[LightGBM] [Warning] bagging_fraction is set=1.0, subsample=1.0 will be ignored. Current value: bagging_fraction=1.0\n",
      "[LightGBM] [Warning] bagging_freq is set=2, subsample_freq=0 will be ignored. Current value: bagging_freq=2\n"
     ]
    },
    {
     "name": "stderr",
     "output_type": "stream",
     "text": [
      "[Parallel(n_jobs=1)]: Done   5 out of   5 | elapsed:  3.3min finished\n"
     ]
    },
    {
     "name": "stdout",
     "output_type": "stream",
     "text": [
      "Fitting 5 folds for each of 1 candidates, totalling 5 fits\n",
      "[LightGBM] [Warning] feature_fraction is set=0.5070702396410722, colsample_bytree=1.0 will be ignored. Current value: feature_fraction=0.5070702396410722\n",
      "[LightGBM] [Warning] bagging_fraction is set=0.4, subsample=1.0 will be ignored. Current value: bagging_fraction=0.4\n",
      "[LightGBM] [Warning] bagging_freq is set=0, subsample_freq=0 will be ignored. Current value: bagging_freq=0\n"
     ]
    },
    {
     "name": "stderr",
     "output_type": "stream",
     "text": [
      "[Parallel(n_jobs=1)]: Using backend SequentialBackend with 1 concurrent workers.\n"
     ]
    },
    {
     "name": "stdout",
     "output_type": "stream",
     "text": [
      "[LightGBM] [Warning] feature_fraction is set=0.5070702396410722, colsample_bytree=1.0 will be ignored. Current value: feature_fraction=0.5070702396410722\n",
      "[LightGBM] [Warning] bagging_fraction is set=0.4, subsample=1.0 will be ignored. Current value: bagging_fraction=0.4\n",
      "[LightGBM] [Warning] bagging_freq is set=0, subsample_freq=0 will be ignored. Current value: bagging_freq=0\n",
      "[LightGBM] [Warning] feature_fraction is set=0.5070702396410722, colsample_bytree=1.0 will be ignored. Current value: feature_fraction=0.5070702396410722\n",
      "[LightGBM] [Warning] bagging_fraction is set=0.4, subsample=1.0 will be ignored. Current value: bagging_fraction=0.4\n",
      "[LightGBM] [Warning] bagging_freq is set=0, subsample_freq=0 will be ignored. Current value: bagging_freq=0\n",
      "[LightGBM] [Warning] feature_fraction is set=0.5070702396410722, colsample_bytree=1.0 will be ignored. Current value: feature_fraction=0.5070702396410722\n",
      "[LightGBM] [Warning] bagging_fraction is set=0.4, subsample=1.0 will be ignored. Current value: bagging_fraction=0.4\n",
      "[LightGBM] [Warning] bagging_freq is set=0, subsample_freq=0 will be ignored. Current value: bagging_freq=0\n",
      "[LightGBM] [Warning] feature_fraction is set=0.5070702396410722, colsample_bytree=1.0 will be ignored. Current value: feature_fraction=0.5070702396410722\n",
      "[LightGBM] [Warning] bagging_fraction is set=0.4, subsample=1.0 will be ignored. Current value: bagging_fraction=0.4\n",
      "[LightGBM] [Warning] bagging_freq is set=0, subsample_freq=0 will be ignored. Current value: bagging_freq=0\n"
     ]
    },
    {
     "name": "stderr",
     "output_type": "stream",
     "text": [
      "[Parallel(n_jobs=1)]: Done   5 out of   5 | elapsed:  1.1min finished\n"
     ]
    },
    {
     "name": "stdout",
     "output_type": "stream",
     "text": [
      "Fitting 5 folds for each of 1 candidates, totalling 5 fits\n",
      "[LightGBM] [Warning] feature_fraction is set=0.5332775384032602, colsample_bytree=1.0 will be ignored. Current value: feature_fraction=0.5332775384032602\n",
      "[LightGBM] [Warning] bagging_fraction is set=0.9635521818598048, subsample=1.0 will be ignored. Current value: bagging_fraction=0.9635521818598048\n",
      "[LightGBM] [Warning] bagging_freq is set=6, subsample_freq=0 will be ignored. Current value: bagging_freq=6\n"
     ]
    },
    {
     "name": "stderr",
     "output_type": "stream",
     "text": [
      "[Parallel(n_jobs=1)]: Using backend SequentialBackend with 1 concurrent workers.\n"
     ]
    },
    {
     "name": "stdout",
     "output_type": "stream",
     "text": [
      "[LightGBM] [Warning] feature_fraction is set=0.5332775384032602, colsample_bytree=1.0 will be ignored. Current value: feature_fraction=0.5332775384032602\n",
      "[LightGBM] [Warning] bagging_fraction is set=0.9635521818598048, subsample=1.0 will be ignored. Current value: bagging_fraction=0.9635521818598048\n",
      "[LightGBM] [Warning] bagging_freq is set=6, subsample_freq=0 will be ignored. Current value: bagging_freq=6\n",
      "[LightGBM] [Warning] feature_fraction is set=0.5332775384032602, colsample_bytree=1.0 will be ignored. Current value: feature_fraction=0.5332775384032602\n",
      "[LightGBM] [Warning] bagging_fraction is set=0.9635521818598048, subsample=1.0 will be ignored. Current value: bagging_fraction=0.9635521818598048\n",
      "[LightGBM] [Warning] bagging_freq is set=6, subsample_freq=0 will be ignored. Current value: bagging_freq=6\n",
      "[LightGBM] [Warning] feature_fraction is set=0.5332775384032602, colsample_bytree=1.0 will be ignored. Current value: feature_fraction=0.5332775384032602\n",
      "[LightGBM] [Warning] bagging_fraction is set=0.9635521818598048, subsample=1.0 will be ignored. Current value: bagging_fraction=0.9635521818598048\n",
      "[LightGBM] [Warning] bagging_freq is set=6, subsample_freq=0 will be ignored. Current value: bagging_freq=6\n",
      "[LightGBM] [Warning] feature_fraction is set=0.5332775384032602, colsample_bytree=1.0 will be ignored. Current value: feature_fraction=0.5332775384032602\n",
      "[LightGBM] [Warning] bagging_fraction is set=0.9635521818598048, subsample=1.0 will be ignored. Current value: bagging_fraction=0.9635521818598048\n",
      "[LightGBM] [Warning] bagging_freq is set=6, subsample_freq=0 will be ignored. Current value: bagging_freq=6\n"
     ]
    },
    {
     "name": "stderr",
     "output_type": "stream",
     "text": [
      "[Parallel(n_jobs=1)]: Done   5 out of   5 | elapsed:  4.4min finished\n"
     ]
    },
    {
     "name": "stdout",
     "output_type": "stream",
     "text": [
      "Fitting 5 folds for each of 1 candidates, totalling 5 fits\n",
      "[LightGBM] [Warning] feature_fraction is set=0.5234944273877526, colsample_bytree=1.0 will be ignored. Current value: feature_fraction=0.5234944273877526\n",
      "[LightGBM] [Warning] bagging_fraction is set=1.0, subsample=1.0 will be ignored. Current value: bagging_fraction=1.0\n",
      "[LightGBM] [Warning] bagging_freq is set=7, subsample_freq=0 will be ignored. Current value: bagging_freq=7\n"
     ]
    },
    {
     "name": "stderr",
     "output_type": "stream",
     "text": [
      "[Parallel(n_jobs=1)]: Using backend SequentialBackend with 1 concurrent workers.\n"
     ]
    },
    {
     "name": "stdout",
     "output_type": "stream",
     "text": [
      "[LightGBM] [Warning] feature_fraction is set=0.5234944273877526, colsample_bytree=1.0 will be ignored. Current value: feature_fraction=0.5234944273877526\n",
      "[LightGBM] [Warning] bagging_fraction is set=1.0, subsample=1.0 will be ignored. Current value: bagging_fraction=1.0\n",
      "[LightGBM] [Warning] bagging_freq is set=7, subsample_freq=0 will be ignored. Current value: bagging_freq=7\n",
      "[LightGBM] [Warning] feature_fraction is set=0.5234944273877526, colsample_bytree=1.0 will be ignored. Current value: feature_fraction=0.5234944273877526\n",
      "[LightGBM] [Warning] bagging_fraction is set=1.0, subsample=1.0 will be ignored. Current value: bagging_fraction=1.0\n",
      "[LightGBM] [Warning] bagging_freq is set=7, subsample_freq=0 will be ignored. Current value: bagging_freq=7\n",
      "[LightGBM] [Warning] feature_fraction is set=0.5234944273877526, colsample_bytree=1.0 will be ignored. Current value: feature_fraction=0.5234944273877526\n",
      "[LightGBM] [Warning] bagging_fraction is set=1.0, subsample=1.0 will be ignored. Current value: bagging_fraction=1.0\n",
      "[LightGBM] [Warning] bagging_freq is set=7, subsample_freq=0 will be ignored. Current value: bagging_freq=7\n",
      "[LightGBM] [Warning] feature_fraction is set=0.5234944273877526, colsample_bytree=1.0 will be ignored. Current value: feature_fraction=0.5234944273877526\n",
      "[LightGBM] [Warning] bagging_fraction is set=1.0, subsample=1.0 will be ignored. Current value: bagging_fraction=1.0\n",
      "[LightGBM] [Warning] bagging_freq is set=7, subsample_freq=0 will be ignored. Current value: bagging_freq=7\n"
     ]
    },
    {
     "name": "stderr",
     "output_type": "stream",
     "text": [
      "[Parallel(n_jobs=1)]: Done   5 out of   5 | elapsed:  2.1min finished\n"
     ]
    },
    {
     "name": "stdout",
     "output_type": "stream",
     "text": [
      "Fitting 5 folds for each of 1 candidates, totalling 5 fits\n",
      "[LightGBM] [Warning] feature_fraction is set=0.6103761187749771, colsample_bytree=1.0 will be ignored. Current value: feature_fraction=0.6103761187749771\n",
      "[LightGBM] [Warning] bagging_fraction is set=0.6254524534685233, subsample=1.0 will be ignored. Current value: bagging_fraction=0.6254524534685233\n",
      "[LightGBM] [Warning] bagging_freq is set=7, subsample_freq=0 will be ignored. Current value: bagging_freq=7\n"
     ]
    },
    {
     "name": "stderr",
     "output_type": "stream",
     "text": [
      "[Parallel(n_jobs=1)]: Using backend SequentialBackend with 1 concurrent workers.\n"
     ]
    },
    {
     "name": "stdout",
     "output_type": "stream",
     "text": [
      "[LightGBM] [Warning] feature_fraction is set=0.6103761187749771, colsample_bytree=1.0 will be ignored. Current value: feature_fraction=0.6103761187749771\n",
      "[LightGBM] [Warning] bagging_fraction is set=0.6254524534685233, subsample=1.0 will be ignored. Current value: bagging_fraction=0.6254524534685233\n",
      "[LightGBM] [Warning] bagging_freq is set=7, subsample_freq=0 will be ignored. Current value: bagging_freq=7\n",
      "[LightGBM] [Warning] feature_fraction is set=0.6103761187749771, colsample_bytree=1.0 will be ignored. Current value: feature_fraction=0.6103761187749771\n",
      "[LightGBM] [Warning] bagging_fraction is set=0.6254524534685233, subsample=1.0 will be ignored. Current value: bagging_fraction=0.6254524534685233\n",
      "[LightGBM] [Warning] bagging_freq is set=7, subsample_freq=0 will be ignored. Current value: bagging_freq=7\n",
      "[LightGBM] [Warning] feature_fraction is set=0.6103761187749771, colsample_bytree=1.0 will be ignored. Current value: feature_fraction=0.6103761187749771\n",
      "[LightGBM] [Warning] bagging_fraction is set=0.6254524534685233, subsample=1.0 will be ignored. Current value: bagging_fraction=0.6254524534685233\n",
      "[LightGBM] [Warning] bagging_freq is set=7, subsample_freq=0 will be ignored. Current value: bagging_freq=7\n",
      "[LightGBM] [Warning] feature_fraction is set=0.6103761187749771, colsample_bytree=1.0 will be ignored. Current value: feature_fraction=0.6103761187749771\n",
      "[LightGBM] [Warning] bagging_fraction is set=0.6254524534685233, subsample=1.0 will be ignored. Current value: bagging_fraction=0.6254524534685233\n",
      "[LightGBM] [Warning] bagging_freq is set=7, subsample_freq=0 will be ignored. Current value: bagging_freq=7\n"
     ]
    },
    {
     "name": "stderr",
     "output_type": "stream",
     "text": [
      "[Parallel(n_jobs=1)]: Done   5 out of   5 | elapsed:  8.5min finished\n"
     ]
    },
    {
     "name": "stdout",
     "output_type": "stream",
     "text": [
      "Fitting 5 folds for each of 1 candidates, totalling 5 fits\n",
      "[LightGBM] [Warning] feature_fraction is set=1.0, colsample_bytree=1.0 will be ignored. Current value: feature_fraction=1.0\n",
      "[LightGBM] [Warning] bagging_fraction is set=0.7018752617378752, subsample=1.0 will be ignored. Current value: bagging_fraction=0.7018752617378752\n",
      "[LightGBM] [Warning] bagging_freq is set=6, subsample_freq=0 will be ignored. Current value: bagging_freq=6\n"
     ]
    },
    {
     "name": "stderr",
     "output_type": "stream",
     "text": [
      "[Parallel(n_jobs=1)]: Using backend SequentialBackend with 1 concurrent workers.\n"
     ]
    },
    {
     "name": "stdout",
     "output_type": "stream",
     "text": [
      "[LightGBM] [Warning] feature_fraction is set=1.0, colsample_bytree=1.0 will be ignored. Current value: feature_fraction=1.0\n",
      "[LightGBM] [Warning] bagging_fraction is set=0.7018752617378752, subsample=1.0 will be ignored. Current value: bagging_fraction=0.7018752617378752\n",
      "[LightGBM] [Warning] bagging_freq is set=6, subsample_freq=0 will be ignored. Current value: bagging_freq=6\n",
      "[LightGBM] [Warning] feature_fraction is set=1.0, colsample_bytree=1.0 will be ignored. Current value: feature_fraction=1.0\n",
      "[LightGBM] [Warning] bagging_fraction is set=0.7018752617378752, subsample=1.0 will be ignored. Current value: bagging_fraction=0.7018752617378752\n",
      "[LightGBM] [Warning] bagging_freq is set=6, subsample_freq=0 will be ignored. Current value: bagging_freq=6\n",
      "[LightGBM] [Warning] feature_fraction is set=1.0, colsample_bytree=1.0 will be ignored. Current value: feature_fraction=1.0\n",
      "[LightGBM] [Warning] bagging_fraction is set=0.7018752617378752, subsample=1.0 will be ignored. Current value: bagging_fraction=0.7018752617378752\n",
      "[LightGBM] [Warning] bagging_freq is set=6, subsample_freq=0 will be ignored. Current value: bagging_freq=6\n",
      "[LightGBM] [Warning] feature_fraction is set=1.0, colsample_bytree=1.0 will be ignored. Current value: feature_fraction=1.0\n",
      "[LightGBM] [Warning] bagging_fraction is set=0.7018752617378752, subsample=1.0 will be ignored. Current value: bagging_fraction=0.7018752617378752\n",
      "[LightGBM] [Warning] bagging_freq is set=6, subsample_freq=0 will be ignored. Current value: bagging_freq=6\n"
     ]
    },
    {
     "name": "stderr",
     "output_type": "stream",
     "text": [
      "[Parallel(n_jobs=1)]: Done   5 out of   5 | elapsed:    6.0s finished\n"
     ]
    },
    {
     "name": "stdout",
     "output_type": "stream",
     "text": [
      "Fitting 5 folds for each of 1 candidates, totalling 5 fits\n",
      "[LightGBM] [Warning] feature_fraction is set=0.6100163108521693, colsample_bytree=1.0 will be ignored. Current value: feature_fraction=0.6100163108521693\n",
      "[LightGBM] [Warning] bagging_fraction is set=0.7560692310587829, subsample=1.0 will be ignored. Current value: bagging_fraction=0.7560692310587829\n",
      "[LightGBM] [Warning] bagging_freq is set=7, subsample_freq=0 will be ignored. Current value: bagging_freq=7\n"
     ]
    },
    {
     "name": "stderr",
     "output_type": "stream",
     "text": [
      "[Parallel(n_jobs=1)]: Using backend SequentialBackend with 1 concurrent workers.\n"
     ]
    },
    {
     "name": "stdout",
     "output_type": "stream",
     "text": [
      "[LightGBM] [Warning] feature_fraction is set=0.6100163108521693, colsample_bytree=1.0 will be ignored. Current value: feature_fraction=0.6100163108521693\n",
      "[LightGBM] [Warning] bagging_fraction is set=0.7560692310587829, subsample=1.0 will be ignored. Current value: bagging_fraction=0.7560692310587829\n",
      "[LightGBM] [Warning] bagging_freq is set=7, subsample_freq=0 will be ignored. Current value: bagging_freq=7\n",
      "[LightGBM] [Warning] feature_fraction is set=0.6100163108521693, colsample_bytree=1.0 will be ignored. Current value: feature_fraction=0.6100163108521693\n",
      "[LightGBM] [Warning] bagging_fraction is set=0.7560692310587829, subsample=1.0 will be ignored. Current value: bagging_fraction=0.7560692310587829\n",
      "[LightGBM] [Warning] bagging_freq is set=7, subsample_freq=0 will be ignored. Current value: bagging_freq=7\n",
      "[LightGBM] [Warning] feature_fraction is set=0.6100163108521693, colsample_bytree=1.0 will be ignored. Current value: feature_fraction=0.6100163108521693\n",
      "[LightGBM] [Warning] bagging_fraction is set=0.7560692310587829, subsample=1.0 will be ignored. Current value: bagging_fraction=0.7560692310587829\n",
      "[LightGBM] [Warning] bagging_freq is set=7, subsample_freq=0 will be ignored. Current value: bagging_freq=7\n",
      "[LightGBM] [Warning] feature_fraction is set=0.6100163108521693, colsample_bytree=1.0 will be ignored. Current value: feature_fraction=0.6100163108521693\n",
      "[LightGBM] [Warning] bagging_fraction is set=0.7560692310587829, subsample=1.0 will be ignored. Current value: bagging_fraction=0.7560692310587829\n",
      "[LightGBM] [Warning] bagging_freq is set=7, subsample_freq=0 will be ignored. Current value: bagging_freq=7\n"
     ]
    },
    {
     "name": "stderr",
     "output_type": "stream",
     "text": [
      "[Parallel(n_jobs=1)]: Done   5 out of   5 | elapsed:    9.3s finished\n"
     ]
    },
    {
     "name": "stdout",
     "output_type": "stream",
     "text": [
      "Fitting 5 folds for each of 1 candidates, totalling 5 fits\n"
     ]
    },
    {
     "name": "stderr",
     "output_type": "stream",
     "text": [
      "[Parallel(n_jobs=1)]: Using backend SequentialBackend with 1 concurrent workers.\n"
     ]
    },
    {
     "name": "stdout",
     "output_type": "stream",
     "text": [
      "[LightGBM] [Warning] feature_fraction is set=0.5739067537555116, colsample_bytree=1.0 will be ignored. Current value: feature_fraction=0.5739067537555116\n",
      "[LightGBM] [Warning] bagging_fraction is set=1.0, subsample=1.0 will be ignored. Current value: bagging_fraction=1.0\n",
      "[LightGBM] [Warning] bagging_freq is set=6, subsample_freq=0 will be ignored. Current value: bagging_freq=6\n",
      "[LightGBM] [Warning] feature_fraction is set=0.5739067537555116, colsample_bytree=1.0 will be ignored. Current value: feature_fraction=0.5739067537555116\n",
      "[LightGBM] [Warning] bagging_fraction is set=1.0, subsample=1.0 will be ignored. Current value: bagging_fraction=1.0\n",
      "[LightGBM] [Warning] bagging_freq is set=6, subsample_freq=0 will be ignored. Current value: bagging_freq=6\n",
      "[LightGBM] [Warning] feature_fraction is set=0.5739067537555116, colsample_bytree=1.0 will be ignored. Current value: feature_fraction=0.5739067537555116\n",
      "[LightGBM] [Warning] bagging_fraction is set=1.0, subsample=1.0 will be ignored. Current value: bagging_fraction=1.0\n",
      "[LightGBM] [Warning] bagging_freq is set=6, subsample_freq=0 will be ignored. Current value: bagging_freq=6\n",
      "[LightGBM] [Warning] feature_fraction is set=0.5739067537555116, colsample_bytree=1.0 will be ignored. Current value: feature_fraction=0.5739067537555116\n",
      "[LightGBM] [Warning] bagging_fraction is set=1.0, subsample=1.0 will be ignored. Current value: bagging_fraction=1.0\n",
      "[LightGBM] [Warning] bagging_freq is set=6, subsample_freq=0 will be ignored. Current value: bagging_freq=6\n",
      "[LightGBM] [Warning] feature_fraction is set=0.5739067537555116, colsample_bytree=1.0 will be ignored. Current value: feature_fraction=0.5739067537555116\n",
      "[LightGBM] [Warning] bagging_fraction is set=1.0, subsample=1.0 will be ignored. Current value: bagging_fraction=1.0\n",
      "[LightGBM] [Warning] bagging_freq is set=6, subsample_freq=0 will be ignored. Current value: bagging_freq=6\n"
     ]
    },
    {
     "name": "stderr",
     "output_type": "stream",
     "text": [
      "[Parallel(n_jobs=1)]: Done   5 out of   5 | elapsed:  3.1min finished\n"
     ]
    },
    {
     "name": "stdout",
     "output_type": "stream",
     "text": [
      "Fitting 5 folds for each of 1 candidates, totalling 5 fits\n",
      "[LightGBM] [Warning] feature_fraction is set=0.43621974417250464, colsample_bytree=1.0 will be ignored. Current value: feature_fraction=0.43621974417250464\n",
      "[LightGBM] [Warning] bagging_fraction is set=0.45366219365105787, subsample=1.0 will be ignored. Current value: bagging_fraction=0.45366219365105787\n",
      "[LightGBM] [Warning] bagging_freq is set=1, subsample_freq=0 will be ignored. Current value: bagging_freq=1\n"
     ]
    },
    {
     "name": "stderr",
     "output_type": "stream",
     "text": [
      "[Parallel(n_jobs=1)]: Using backend SequentialBackend with 1 concurrent workers.\n"
     ]
    },
    {
     "name": "stdout",
     "output_type": "stream",
     "text": [
      "[LightGBM] [Warning] feature_fraction is set=0.43621974417250464, colsample_bytree=1.0 will be ignored. Current value: feature_fraction=0.43621974417250464\n",
      "[LightGBM] [Warning] bagging_fraction is set=0.45366219365105787, subsample=1.0 will be ignored. Current value: bagging_fraction=0.45366219365105787\n",
      "[LightGBM] [Warning] bagging_freq is set=1, subsample_freq=0 will be ignored. Current value: bagging_freq=1\n",
      "[LightGBM] [Warning] feature_fraction is set=0.43621974417250464, colsample_bytree=1.0 will be ignored. Current value: feature_fraction=0.43621974417250464\n",
      "[LightGBM] [Warning] bagging_fraction is set=0.45366219365105787, subsample=1.0 will be ignored. Current value: bagging_fraction=0.45366219365105787\n",
      "[LightGBM] [Warning] bagging_freq is set=1, subsample_freq=0 will be ignored. Current value: bagging_freq=1\n",
      "[LightGBM] [Warning] feature_fraction is set=0.43621974417250464, colsample_bytree=1.0 will be ignored. Current value: feature_fraction=0.43621974417250464\n",
      "[LightGBM] [Warning] bagging_fraction is set=0.45366219365105787, subsample=1.0 will be ignored. Current value: bagging_fraction=0.45366219365105787\n",
      "[LightGBM] [Warning] bagging_freq is set=1, subsample_freq=0 will be ignored. Current value: bagging_freq=1\n",
      "[LightGBM] [Warning] feature_fraction is set=0.43621974417250464, colsample_bytree=1.0 will be ignored. Current value: feature_fraction=0.43621974417250464\n",
      "[LightGBM] [Warning] bagging_fraction is set=0.45366219365105787, subsample=1.0 will be ignored. Current value: bagging_fraction=0.45366219365105787\n",
      "[LightGBM] [Warning] bagging_freq is set=1, subsample_freq=0 will be ignored. Current value: bagging_freq=1\n"
     ]
    },
    {
     "name": "stderr",
     "output_type": "stream",
     "text": [
      "[Parallel(n_jobs=1)]: Done   5 out of   5 | elapsed: 20.9min finished\n"
     ]
    },
    {
     "name": "stdout",
     "output_type": "stream",
     "text": [
      "Fitting 5 folds for each of 1 candidates, totalling 5 fits\n",
      "[LightGBM] [Warning] feature_fraction is set=0.7871832205678511, colsample_bytree=1.0 will be ignored. Current value: feature_fraction=0.7871832205678511\n",
      "[LightGBM] [Warning] bagging_fraction is set=1.0, subsample=1.0 will be ignored. Current value: bagging_fraction=1.0\n",
      "[LightGBM] [Warning] bagging_freq is set=5, subsample_freq=0 will be ignored. Current value: bagging_freq=5\n"
     ]
    },
    {
     "name": "stderr",
     "output_type": "stream",
     "text": [
      "[Parallel(n_jobs=1)]: Using backend SequentialBackend with 1 concurrent workers.\n"
     ]
    },
    {
     "name": "stdout",
     "output_type": "stream",
     "text": [
      "[LightGBM] [Warning] feature_fraction is set=0.7871832205678511, colsample_bytree=1.0 will be ignored. Current value: feature_fraction=0.7871832205678511\n",
      "[LightGBM] [Warning] bagging_fraction is set=1.0, subsample=1.0 will be ignored. Current value: bagging_fraction=1.0\n",
      "[LightGBM] [Warning] bagging_freq is set=5, subsample_freq=0 will be ignored. Current value: bagging_freq=5\n",
      "[LightGBM] [Warning] feature_fraction is set=0.7871832205678511, colsample_bytree=1.0 will be ignored. Current value: feature_fraction=0.7871832205678511\n",
      "[LightGBM] [Warning] bagging_fraction is set=1.0, subsample=1.0 will be ignored. Current value: bagging_fraction=1.0\n",
      "[LightGBM] [Warning] bagging_freq is set=5, subsample_freq=0 will be ignored. Current value: bagging_freq=5\n",
      "[LightGBM] [Warning] feature_fraction is set=0.7871832205678511, colsample_bytree=1.0 will be ignored. Current value: feature_fraction=0.7871832205678511\n",
      "[LightGBM] [Warning] bagging_fraction is set=1.0, subsample=1.0 will be ignored. Current value: bagging_fraction=1.0\n",
      "[LightGBM] [Warning] bagging_freq is set=5, subsample_freq=0 will be ignored. Current value: bagging_freq=5\n",
      "[LightGBM] [Warning] feature_fraction is set=0.7871832205678511, colsample_bytree=1.0 will be ignored. Current value: feature_fraction=0.7871832205678511\n",
      "[LightGBM] [Warning] bagging_fraction is set=1.0, subsample=1.0 will be ignored. Current value: bagging_fraction=1.0\n",
      "[LightGBM] [Warning] bagging_freq is set=5, subsample_freq=0 will be ignored. Current value: bagging_freq=5\n"
     ]
    },
    {
     "name": "stderr",
     "output_type": "stream",
     "text": [
      "[Parallel(n_jobs=1)]: Done   5 out of   5 | elapsed:  6.0min finished\n"
     ]
    },
    {
     "name": "stdout",
     "output_type": "stream",
     "text": [
      "Fitting 5 folds for each of 1 candidates, totalling 5 fits\n",
      "[LightGBM] [Warning] feature_fraction is set=1.0, colsample_bytree=1.0 will be ignored. Current value: feature_fraction=1.0\n",
      "[LightGBM] [Warning] bagging_fraction is set=0.7876646192825931, subsample=1.0 will be ignored. Current value: bagging_fraction=0.7876646192825931\n",
      "[LightGBM] [Warning] bagging_freq is set=0, subsample_freq=0 will be ignored. Current value: bagging_freq=0\n"
     ]
    },
    {
     "name": "stderr",
     "output_type": "stream",
     "text": [
      "[Parallel(n_jobs=1)]: Using backend SequentialBackend with 1 concurrent workers.\n"
     ]
    },
    {
     "name": "stdout",
     "output_type": "stream",
     "text": [
      "[LightGBM] [Warning] feature_fraction is set=1.0, colsample_bytree=1.0 will be ignored. Current value: feature_fraction=1.0\n",
      "[LightGBM] [Warning] bagging_fraction is set=0.7876646192825931, subsample=1.0 will be ignored. Current value: bagging_fraction=0.7876646192825931\n",
      "[LightGBM] [Warning] bagging_freq is set=0, subsample_freq=0 will be ignored. Current value: bagging_freq=0\n",
      "[LightGBM] [Warning] feature_fraction is set=1.0, colsample_bytree=1.0 will be ignored. Current value: feature_fraction=1.0\n",
      "[LightGBM] [Warning] bagging_fraction is set=0.7876646192825931, subsample=1.0 will be ignored. Current value: bagging_fraction=0.7876646192825931\n",
      "[LightGBM] [Warning] bagging_freq is set=0, subsample_freq=0 will be ignored. Current value: bagging_freq=0\n",
      "[LightGBM] [Warning] feature_fraction is set=1.0, colsample_bytree=1.0 will be ignored. Current value: feature_fraction=1.0\n",
      "[LightGBM] [Warning] bagging_fraction is set=0.7876646192825931, subsample=1.0 will be ignored. Current value: bagging_fraction=0.7876646192825931\n",
      "[LightGBM] [Warning] bagging_freq is set=0, subsample_freq=0 will be ignored. Current value: bagging_freq=0\n",
      "[LightGBM] [Warning] feature_fraction is set=1.0, colsample_bytree=1.0 will be ignored. Current value: feature_fraction=1.0\n",
      "[LightGBM] [Warning] bagging_fraction is set=0.7876646192825931, subsample=1.0 will be ignored. Current value: bagging_fraction=0.7876646192825931\n",
      "[LightGBM] [Warning] bagging_freq is set=0, subsample_freq=0 will be ignored. Current value: bagging_freq=0\n"
     ]
    },
    {
     "name": "stderr",
     "output_type": "stream",
     "text": [
      "[Parallel(n_jobs=1)]: Done   5 out of   5 | elapsed:  3.1min finished\n"
     ]
    },
    {
     "name": "stdout",
     "output_type": "stream",
     "text": [
      "Fitting 5 folds for each of 1 candidates, totalling 5 fits\n",
      "[LightGBM] [Warning] feature_fraction is set=0.6389997477847169, colsample_bytree=1.0 will be ignored. Current value: feature_fraction=0.6389997477847169\n",
      "[LightGBM] [Warning] bagging_fraction is set=0.659973168240835, subsample=1.0 will be ignored. Current value: bagging_fraction=0.659973168240835\n",
      "[LightGBM] [Warning] bagging_freq is set=7, subsample_freq=0 will be ignored. Current value: bagging_freq=7\n"
     ]
    },
    {
     "name": "stderr",
     "output_type": "stream",
     "text": [
      "[Parallel(n_jobs=1)]: Using backend SequentialBackend with 1 concurrent workers.\n"
     ]
    },
    {
     "name": "stdout",
     "output_type": "stream",
     "text": [
      "[LightGBM] [Warning] feature_fraction is set=0.6389997477847169, colsample_bytree=1.0 will be ignored. Current value: feature_fraction=0.6389997477847169\n",
      "[LightGBM] [Warning] bagging_fraction is set=0.659973168240835, subsample=1.0 will be ignored. Current value: bagging_fraction=0.659973168240835\n",
      "[LightGBM] [Warning] bagging_freq is set=7, subsample_freq=0 will be ignored. Current value: bagging_freq=7\n",
      "[LightGBM] [Warning] feature_fraction is set=0.6389997477847169, colsample_bytree=1.0 will be ignored. Current value: feature_fraction=0.6389997477847169\n",
      "[LightGBM] [Warning] bagging_fraction is set=0.659973168240835, subsample=1.0 will be ignored. Current value: bagging_fraction=0.659973168240835\n",
      "[LightGBM] [Warning] bagging_freq is set=7, subsample_freq=0 will be ignored. Current value: bagging_freq=7\n",
      "[LightGBM] [Warning] feature_fraction is set=0.6389997477847169, colsample_bytree=1.0 will be ignored. Current value: feature_fraction=0.6389997477847169\n",
      "[LightGBM] [Warning] bagging_fraction is set=0.659973168240835, subsample=1.0 will be ignored. Current value: bagging_fraction=0.659973168240835\n",
      "[LightGBM] [Warning] bagging_freq is set=7, subsample_freq=0 will be ignored. Current value: bagging_freq=7\n",
      "[LightGBM] [Warning] feature_fraction is set=0.6389997477847169, colsample_bytree=1.0 will be ignored. Current value: feature_fraction=0.6389997477847169\n",
      "[LightGBM] [Warning] bagging_fraction is set=0.659973168240835, subsample=1.0 will be ignored. Current value: bagging_fraction=0.659973168240835\n",
      "[LightGBM] [Warning] bagging_freq is set=7, subsample_freq=0 will be ignored. Current value: bagging_freq=7\n"
     ]
    },
    {
     "name": "stderr",
     "output_type": "stream",
     "text": [
      "[Parallel(n_jobs=1)]: Done   5 out of   5 | elapsed:  1.4min finished\n"
     ]
    },
    {
     "name": "stdout",
     "output_type": "stream",
     "text": [
      "Fitting 5 folds for each of 1 candidates, totalling 5 fits\n",
      "[LightGBM] [Warning] feature_fraction is set=0.9800779741611172, colsample_bytree=1.0 will be ignored. Current value: feature_fraction=0.9800779741611172\n",
      "[LightGBM] [Warning] bagging_fraction is set=0.4347742386843369, subsample=1.0 will be ignored. Current value: bagging_fraction=0.4347742386843369\n",
      "[LightGBM] [Warning] bagging_freq is set=6, subsample_freq=0 will be ignored. Current value: bagging_freq=6\n"
     ]
    },
    {
     "name": "stderr",
     "output_type": "stream",
     "text": [
      "[Parallel(n_jobs=1)]: Using backend SequentialBackend with 1 concurrent workers.\n"
     ]
    },
    {
     "name": "stdout",
     "output_type": "stream",
     "text": [
      "[LightGBM] [Warning] feature_fraction is set=0.9800779741611172, colsample_bytree=1.0 will be ignored. Current value: feature_fraction=0.9800779741611172\n",
      "[LightGBM] [Warning] bagging_fraction is set=0.4347742386843369, subsample=1.0 will be ignored. Current value: bagging_fraction=0.4347742386843369\n",
      "[LightGBM] [Warning] bagging_freq is set=6, subsample_freq=0 will be ignored. Current value: bagging_freq=6\n",
      "[LightGBM] [Warning] feature_fraction is set=0.9800779741611172, colsample_bytree=1.0 will be ignored. Current value: feature_fraction=0.9800779741611172\n",
      "[LightGBM] [Warning] bagging_fraction is set=0.4347742386843369, subsample=1.0 will be ignored. Current value: bagging_fraction=0.4347742386843369\n",
      "[LightGBM] [Warning] bagging_freq is set=6, subsample_freq=0 will be ignored. Current value: bagging_freq=6\n",
      "[LightGBM] [Warning] feature_fraction is set=0.9800779741611172, colsample_bytree=1.0 will be ignored. Current value: feature_fraction=0.9800779741611172\n",
      "[LightGBM] [Warning] bagging_fraction is set=0.4347742386843369, subsample=1.0 will be ignored. Current value: bagging_fraction=0.4347742386843369\n",
      "[LightGBM] [Warning] bagging_freq is set=6, subsample_freq=0 will be ignored. Current value: bagging_freq=6\n",
      "[LightGBM] [Warning] feature_fraction is set=0.9800779741611172, colsample_bytree=1.0 will be ignored. Current value: feature_fraction=0.9800779741611172\n",
      "[LightGBM] [Warning] bagging_fraction is set=0.4347742386843369, subsample=1.0 will be ignored. Current value: bagging_fraction=0.4347742386843369\n",
      "[LightGBM] [Warning] bagging_freq is set=6, subsample_freq=0 will be ignored. Current value: bagging_freq=6\n"
     ]
    },
    {
     "name": "stderr",
     "output_type": "stream",
     "text": [
      "[Parallel(n_jobs=1)]: Done   5 out of   5 | elapsed:  1.2min finished\n"
     ]
    },
    {
     "name": "stdout",
     "output_type": "stream",
     "text": [
      "Fitting 5 folds for each of 1 candidates, totalling 5 fits\n",
      "[LightGBM] [Warning] feature_fraction is set=0.6024931880706753, colsample_bytree=1.0 will be ignored. Current value: feature_fraction=0.6024931880706753\n",
      "[LightGBM] [Warning] bagging_fraction is set=0.7427303573510317, subsample=1.0 will be ignored. Current value: bagging_fraction=0.7427303573510317\n",
      "[LightGBM] [Warning] bagging_freq is set=6, subsample_freq=0 will be ignored. Current value: bagging_freq=6\n"
     ]
    },
    {
     "name": "stderr",
     "output_type": "stream",
     "text": [
      "[Parallel(n_jobs=1)]: Using backend SequentialBackend with 1 concurrent workers.\n"
     ]
    },
    {
     "name": "stdout",
     "output_type": "stream",
     "text": [
      "[LightGBM] [Warning] feature_fraction is set=0.6024931880706753, colsample_bytree=1.0 will be ignored. Current value: feature_fraction=0.6024931880706753\n",
      "[LightGBM] [Warning] bagging_fraction is set=0.7427303573510317, subsample=1.0 will be ignored. Current value: bagging_fraction=0.7427303573510317\n",
      "[LightGBM] [Warning] bagging_freq is set=6, subsample_freq=0 will be ignored. Current value: bagging_freq=6\n",
      "[LightGBM] [Warning] feature_fraction is set=0.6024931880706753, colsample_bytree=1.0 will be ignored. Current value: feature_fraction=0.6024931880706753\n",
      "[LightGBM] [Warning] bagging_fraction is set=0.7427303573510317, subsample=1.0 will be ignored. Current value: bagging_fraction=0.7427303573510317\n",
      "[LightGBM] [Warning] bagging_freq is set=6, subsample_freq=0 will be ignored. Current value: bagging_freq=6\n",
      "[LightGBM] [Warning] feature_fraction is set=0.6024931880706753, colsample_bytree=1.0 will be ignored. Current value: feature_fraction=0.6024931880706753\n",
      "[LightGBM] [Warning] bagging_fraction is set=0.7427303573510317, subsample=1.0 will be ignored. Current value: bagging_fraction=0.7427303573510317\n",
      "[LightGBM] [Warning] bagging_freq is set=6, subsample_freq=0 will be ignored. Current value: bagging_freq=6\n",
      "[LightGBM] [Warning] feature_fraction is set=0.6024931880706753, colsample_bytree=1.0 will be ignored. Current value: feature_fraction=0.6024931880706753\n",
      "[LightGBM] [Warning] bagging_fraction is set=0.7427303573510317, subsample=1.0 will be ignored. Current value: bagging_fraction=0.7427303573510317\n",
      "[LightGBM] [Warning] bagging_freq is set=6, subsample_freq=0 will be ignored. Current value: bagging_freq=6\n"
     ]
    },
    {
     "name": "stderr",
     "output_type": "stream",
     "text": [
      "[Parallel(n_jobs=1)]: Done   5 out of   5 | elapsed: 12.6min finished\n"
     ]
    },
    {
     "name": "stdout",
     "output_type": "stream",
     "text": [
      "Fitting 5 folds for each of 1 candidates, totalling 5 fits\n",
      "[LightGBM] [Warning] feature_fraction is set=0.7634864282061835, colsample_bytree=1.0 will be ignored. Current value: feature_fraction=0.7634864282061835\n",
      "[LightGBM] [Warning] bagging_fraction is set=0.6887554451854778, subsample=1.0 will be ignored. Current value: bagging_fraction=0.6887554451854778\n",
      "[LightGBM] [Warning] bagging_freq is set=5, subsample_freq=0 will be ignored. Current value: bagging_freq=5\n"
     ]
    },
    {
     "name": "stderr",
     "output_type": "stream",
     "text": [
      "[Parallel(n_jobs=1)]: Using backend SequentialBackend with 1 concurrent workers.\n"
     ]
    },
    {
     "name": "stdout",
     "output_type": "stream",
     "text": [
      "[LightGBM] [Warning] feature_fraction is set=0.7634864282061835, colsample_bytree=1.0 will be ignored. Current value: feature_fraction=0.7634864282061835\n",
      "[LightGBM] [Warning] bagging_fraction is set=0.6887554451854778, subsample=1.0 will be ignored. Current value: bagging_fraction=0.6887554451854778\n",
      "[LightGBM] [Warning] bagging_freq is set=5, subsample_freq=0 will be ignored. Current value: bagging_freq=5\n",
      "[LightGBM] [Warning] feature_fraction is set=0.7634864282061835, colsample_bytree=1.0 will be ignored. Current value: feature_fraction=0.7634864282061835\n",
      "[LightGBM] [Warning] bagging_fraction is set=0.6887554451854778, subsample=1.0 will be ignored. Current value: bagging_fraction=0.6887554451854778\n",
      "[LightGBM] [Warning] bagging_freq is set=5, subsample_freq=0 will be ignored. Current value: bagging_freq=5\n",
      "[LightGBM] [Warning] feature_fraction is set=0.7634864282061835, colsample_bytree=1.0 will be ignored. Current value: feature_fraction=0.7634864282061835\n",
      "[LightGBM] [Warning] bagging_fraction is set=0.6887554451854778, subsample=1.0 will be ignored. Current value: bagging_fraction=0.6887554451854778\n",
      "[LightGBM] [Warning] bagging_freq is set=5, subsample_freq=0 will be ignored. Current value: bagging_freq=5\n",
      "[LightGBM] [Warning] feature_fraction is set=0.7634864282061835, colsample_bytree=1.0 will be ignored. Current value: feature_fraction=0.7634864282061835\n",
      "[LightGBM] [Warning] bagging_fraction is set=0.6887554451854778, subsample=1.0 will be ignored. Current value: bagging_fraction=0.6887554451854778\n",
      "[LightGBM] [Warning] bagging_freq is set=5, subsample_freq=0 will be ignored. Current value: bagging_freq=5\n"
     ]
    },
    {
     "name": "stderr",
     "output_type": "stream",
     "text": [
      "[Parallel(n_jobs=1)]: Done   5 out of   5 | elapsed:  5.9min finished\n"
     ]
    },
    {
     "name": "stdout",
     "output_type": "stream",
     "text": [
      "Fitting 5 folds for each of 1 candidates, totalling 5 fits\n",
      "[LightGBM] [Warning] feature_fraction is set=0.4, colsample_bytree=1.0 will be ignored. Current value: feature_fraction=0.4\n",
      "[LightGBM] [Warning] bagging_fraction is set=1.0, subsample=1.0 will be ignored. Current value: bagging_fraction=1.0\n",
      "[LightGBM] [Warning] bagging_freq is set=7, subsample_freq=0 will be ignored. Current value: bagging_freq=7\n"
     ]
    },
    {
     "name": "stderr",
     "output_type": "stream",
     "text": [
      "[Parallel(n_jobs=1)]: Using backend SequentialBackend with 1 concurrent workers.\n"
     ]
    },
    {
     "name": "stdout",
     "output_type": "stream",
     "text": [
      "[LightGBM] [Warning] feature_fraction is set=0.4, colsample_bytree=1.0 will be ignored. Current value: feature_fraction=0.4\n",
      "[LightGBM] [Warning] bagging_fraction is set=1.0, subsample=1.0 will be ignored. Current value: bagging_fraction=1.0\n",
      "[LightGBM] [Warning] bagging_freq is set=7, subsample_freq=0 will be ignored. Current value: bagging_freq=7\n",
      "[LightGBM] [Warning] feature_fraction is set=0.4, colsample_bytree=1.0 will be ignored. Current value: feature_fraction=0.4\n",
      "[LightGBM] [Warning] bagging_fraction is set=1.0, subsample=1.0 will be ignored. Current value: bagging_fraction=1.0\n",
      "[LightGBM] [Warning] bagging_freq is set=7, subsample_freq=0 will be ignored. Current value: bagging_freq=7\n",
      "[LightGBM] [Warning] feature_fraction is set=0.4, colsample_bytree=1.0 will be ignored. Current value: feature_fraction=0.4\n",
      "[LightGBM] [Warning] bagging_fraction is set=1.0, subsample=1.0 will be ignored. Current value: bagging_fraction=1.0\n",
      "[LightGBM] [Warning] bagging_freq is set=7, subsample_freq=0 will be ignored. Current value: bagging_freq=7\n",
      "[LightGBM] [Warning] feature_fraction is set=0.4, colsample_bytree=1.0 will be ignored. Current value: feature_fraction=0.4\n",
      "[LightGBM] [Warning] bagging_fraction is set=1.0, subsample=1.0 will be ignored. Current value: bagging_fraction=1.0\n",
      "[LightGBM] [Warning] bagging_freq is set=7, subsample_freq=0 will be ignored. Current value: bagging_freq=7\n"
     ]
    },
    {
     "name": "stderr",
     "output_type": "stream",
     "text": [
      "[Parallel(n_jobs=1)]: Done   5 out of   5 | elapsed:   23.7s finished\n"
     ]
    },
    {
     "name": "stdout",
     "output_type": "stream",
     "text": [
      "Fitting 5 folds for each of 1 candidates, totalling 5 fits\n",
      "[LightGBM] [Warning] feature_fraction is set=0.4474290103797432, colsample_bytree=1.0 will be ignored. Current value: feature_fraction=0.4474290103797432\n",
      "[LightGBM] [Warning] bagging_fraction is set=0.6310998315757234, subsample=1.0 will be ignored. Current value: bagging_fraction=0.6310998315757234\n",
      "[LightGBM] [Warning] bagging_freq is set=1, subsample_freq=0 will be ignored. Current value: bagging_freq=1\n"
     ]
    },
    {
     "name": "stderr",
     "output_type": "stream",
     "text": [
      "[Parallel(n_jobs=1)]: Using backend SequentialBackend with 1 concurrent workers.\n"
     ]
    },
    {
     "name": "stdout",
     "output_type": "stream",
     "text": [
      "[LightGBM] [Warning] feature_fraction is set=0.4474290103797432, colsample_bytree=1.0 will be ignored. Current value: feature_fraction=0.4474290103797432\n",
      "[LightGBM] [Warning] bagging_fraction is set=0.6310998315757234, subsample=1.0 will be ignored. Current value: bagging_fraction=0.6310998315757234\n",
      "[LightGBM] [Warning] bagging_freq is set=1, subsample_freq=0 will be ignored. Current value: bagging_freq=1\n",
      "[LightGBM] [Warning] feature_fraction is set=0.4474290103797432, colsample_bytree=1.0 will be ignored. Current value: feature_fraction=0.4474290103797432\n",
      "[LightGBM] [Warning] bagging_fraction is set=0.6310998315757234, subsample=1.0 will be ignored. Current value: bagging_fraction=0.6310998315757234\n",
      "[LightGBM] [Warning] bagging_freq is set=1, subsample_freq=0 will be ignored. Current value: bagging_freq=1\n",
      "[LightGBM] [Warning] feature_fraction is set=0.4474290103797432, colsample_bytree=1.0 will be ignored. Current value: feature_fraction=0.4474290103797432\n",
      "[LightGBM] [Warning] bagging_fraction is set=0.6310998315757234, subsample=1.0 will be ignored. Current value: bagging_fraction=0.6310998315757234\n",
      "[LightGBM] [Warning] bagging_freq is set=1, subsample_freq=0 will be ignored. Current value: bagging_freq=1\n",
      "[LightGBM] [Warning] feature_fraction is set=0.4474290103797432, colsample_bytree=1.0 will be ignored. Current value: feature_fraction=0.4474290103797432\n",
      "[LightGBM] [Warning] bagging_fraction is set=0.6310998315757234, subsample=1.0 will be ignored. Current value: bagging_fraction=0.6310998315757234\n",
      "[LightGBM] [Warning] bagging_freq is set=1, subsample_freq=0 will be ignored. Current value: bagging_freq=1\n"
     ]
    },
    {
     "name": "stderr",
     "output_type": "stream",
     "text": [
      "[Parallel(n_jobs=1)]: Done   5 out of   5 | elapsed:  5.1min finished\n"
     ]
    },
    {
     "name": "stdout",
     "output_type": "stream",
     "text": [
      "Fitting 5 folds for each of 1 candidates, totalling 5 fits\n",
      "[LightGBM] [Warning] feature_fraction is set=0.45925292627848124, colsample_bytree=1.0 will be ignored. Current value: feature_fraction=0.45925292627848124\n",
      "[LightGBM] [Warning] bagging_fraction is set=0.8060180403432227, subsample=1.0 will be ignored. Current value: bagging_fraction=0.8060180403432227\n",
      "[LightGBM] [Warning] bagging_freq is set=6, subsample_freq=0 will be ignored. Current value: bagging_freq=6\n"
     ]
    },
    {
     "name": "stderr",
     "output_type": "stream",
     "text": [
      "[Parallel(n_jobs=1)]: Using backend SequentialBackend with 1 concurrent workers.\n"
     ]
    },
    {
     "name": "stdout",
     "output_type": "stream",
     "text": [
      "[LightGBM] [Warning] feature_fraction is set=0.45925292627848124, colsample_bytree=1.0 will be ignored. Current value: feature_fraction=0.45925292627848124\n",
      "[LightGBM] [Warning] bagging_fraction is set=0.8060180403432227, subsample=1.0 will be ignored. Current value: bagging_fraction=0.8060180403432227\n",
      "[LightGBM] [Warning] bagging_freq is set=6, subsample_freq=0 will be ignored. Current value: bagging_freq=6\n",
      "[LightGBM] [Warning] feature_fraction is set=0.45925292627848124, colsample_bytree=1.0 will be ignored. Current value: feature_fraction=0.45925292627848124\n",
      "[LightGBM] [Warning] bagging_fraction is set=0.8060180403432227, subsample=1.0 will be ignored. Current value: bagging_fraction=0.8060180403432227\n",
      "[LightGBM] [Warning] bagging_freq is set=6, subsample_freq=0 will be ignored. Current value: bagging_freq=6\n",
      "[LightGBM] [Warning] feature_fraction is set=0.45925292627848124, colsample_bytree=1.0 will be ignored. Current value: feature_fraction=0.45925292627848124\n",
      "[LightGBM] [Warning] bagging_fraction is set=0.8060180403432227, subsample=1.0 will be ignored. Current value: bagging_fraction=0.8060180403432227\n",
      "[LightGBM] [Warning] bagging_freq is set=6, subsample_freq=0 will be ignored. Current value: bagging_freq=6\n",
      "[LightGBM] [Warning] feature_fraction is set=0.45925292627848124, colsample_bytree=1.0 will be ignored. Current value: feature_fraction=0.45925292627848124\n",
      "[LightGBM] [Warning] bagging_fraction is set=0.8060180403432227, subsample=1.0 will be ignored. Current value: bagging_fraction=0.8060180403432227\n",
      "[LightGBM] [Warning] bagging_freq is set=6, subsample_freq=0 will be ignored. Current value: bagging_freq=6\n"
     ]
    },
    {
     "name": "stderr",
     "output_type": "stream",
     "text": [
      "[Parallel(n_jobs=1)]: Done   5 out of   5 | elapsed: 26.0min finished\n"
     ]
    },
    {
     "name": "stdout",
     "output_type": "stream",
     "text": [
      "Fitting 5 folds for each of 1 candidates, totalling 5 fits\n",
      "[LightGBM] [Warning] feature_fraction is set=0.5872252261627304, colsample_bytree=1.0 will be ignored. Current value: feature_fraction=0.5872252261627304\n",
      "[LightGBM] [Warning] bagging_fraction is set=0.5313136306976896, subsample=1.0 will be ignored. Current value: bagging_fraction=0.5313136306976896\n",
      "[LightGBM] [Warning] bagging_freq is set=7, subsample_freq=0 will be ignored. Current value: bagging_freq=7\n"
     ]
    },
    {
     "name": "stderr",
     "output_type": "stream",
     "text": [
      "[Parallel(n_jobs=1)]: Using backend SequentialBackend with 1 concurrent workers.\n"
     ]
    },
    {
     "name": "stdout",
     "output_type": "stream",
     "text": [
      "[LightGBM] [Warning] feature_fraction is set=0.5872252261627304, colsample_bytree=1.0 will be ignored. Current value: feature_fraction=0.5872252261627304\n",
      "[LightGBM] [Warning] bagging_fraction is set=0.5313136306976896, subsample=1.0 will be ignored. Current value: bagging_fraction=0.5313136306976896\n",
      "[LightGBM] [Warning] bagging_freq is set=7, subsample_freq=0 will be ignored. Current value: bagging_freq=7\n",
      "[LightGBM] [Warning] feature_fraction is set=0.5872252261627304, colsample_bytree=1.0 will be ignored. Current value: feature_fraction=0.5872252261627304\n",
      "[LightGBM] [Warning] bagging_fraction is set=0.5313136306976896, subsample=1.0 will be ignored. Current value: bagging_fraction=0.5313136306976896\n",
      "[LightGBM] [Warning] bagging_freq is set=7, subsample_freq=0 will be ignored. Current value: bagging_freq=7\n",
      "[LightGBM] [Warning] feature_fraction is set=0.5872252261627304, colsample_bytree=1.0 will be ignored. Current value: feature_fraction=0.5872252261627304\n",
      "[LightGBM] [Warning] bagging_fraction is set=0.5313136306976896, subsample=1.0 will be ignored. Current value: bagging_fraction=0.5313136306976896\n",
      "[LightGBM] [Warning] bagging_freq is set=7, subsample_freq=0 will be ignored. Current value: bagging_freq=7\n",
      "[LightGBM] [Warning] feature_fraction is set=0.5872252261627304, colsample_bytree=1.0 will be ignored. Current value: feature_fraction=0.5872252261627304\n",
      "[LightGBM] [Warning] bagging_fraction is set=0.5313136306976896, subsample=1.0 will be ignored. Current value: bagging_fraction=0.5313136306976896\n",
      "[LightGBM] [Warning] bagging_freq is set=7, subsample_freq=0 will be ignored. Current value: bagging_freq=7\n"
     ]
    },
    {
     "name": "stderr",
     "output_type": "stream",
     "text": [
      "[Parallel(n_jobs=1)]: Done   5 out of   5 | elapsed: 37.1min finished\n"
     ]
    },
    {
     "name": "stdout",
     "output_type": "stream",
     "text": [
      "Fitting 5 folds for each of 1 candidates, totalling 5 fits\n",
      "[LightGBM] [Warning] feature_fraction is set=0.6119791886944582, colsample_bytree=1.0 will be ignored. Current value: feature_fraction=0.6119791886944582\n",
      "[LightGBM] [Warning] bagging_fraction is set=0.7786671850202342, subsample=1.0 will be ignored. Current value: bagging_fraction=0.7786671850202342\n",
      "[LightGBM] [Warning] bagging_freq is set=3, subsample_freq=0 will be ignored. Current value: bagging_freq=3\n"
     ]
    },
    {
     "name": "stderr",
     "output_type": "stream",
     "text": [
      "[Parallel(n_jobs=1)]: Using backend SequentialBackend with 1 concurrent workers.\n"
     ]
    },
    {
     "name": "stdout",
     "output_type": "stream",
     "text": [
      "[LightGBM] [Warning] feature_fraction is set=0.6119791886944582, colsample_bytree=1.0 will be ignored. Current value: feature_fraction=0.6119791886944582\n",
      "[LightGBM] [Warning] bagging_fraction is set=0.7786671850202342, subsample=1.0 will be ignored. Current value: bagging_fraction=0.7786671850202342\n",
      "[LightGBM] [Warning] bagging_freq is set=3, subsample_freq=0 will be ignored. Current value: bagging_freq=3\n",
      "[LightGBM] [Warning] feature_fraction is set=0.6119791886944582, colsample_bytree=1.0 will be ignored. Current value: feature_fraction=0.6119791886944582\n",
      "[LightGBM] [Warning] bagging_fraction is set=0.7786671850202342, subsample=1.0 will be ignored. Current value: bagging_fraction=0.7786671850202342\n",
      "[LightGBM] [Warning] bagging_freq is set=3, subsample_freq=0 will be ignored. Current value: bagging_freq=3\n",
      "[LightGBM] [Warning] feature_fraction is set=0.6119791886944582, colsample_bytree=1.0 will be ignored. Current value: feature_fraction=0.6119791886944582\n",
      "[LightGBM] [Warning] bagging_fraction is set=0.7786671850202342, subsample=1.0 will be ignored. Current value: bagging_fraction=0.7786671850202342\n",
      "[LightGBM] [Warning] bagging_freq is set=3, subsample_freq=0 will be ignored. Current value: bagging_freq=3\n",
      "[LightGBM] [Warning] feature_fraction is set=0.6119791886944582, colsample_bytree=1.0 will be ignored. Current value: feature_fraction=0.6119791886944582\n",
      "[LightGBM] [Warning] bagging_fraction is set=0.7786671850202342, subsample=1.0 will be ignored. Current value: bagging_fraction=0.7786671850202342\n",
      "[LightGBM] [Warning] bagging_freq is set=3, subsample_freq=0 will be ignored. Current value: bagging_freq=3\n"
     ]
    },
    {
     "name": "stderr",
     "output_type": "stream",
     "text": [
      "[Parallel(n_jobs=1)]: Done   5 out of   5 | elapsed:  9.2min finished\n"
     ]
    },
    {
     "name": "stdout",
     "output_type": "stream",
     "text": [
      "Fitting 5 folds for each of 1 candidates, totalling 5 fits\n",
      "[LightGBM] [Warning] feature_fraction is set=0.42682524497824254, colsample_bytree=1.0 will be ignored. Current value: feature_fraction=0.42682524497824254\n",
      "[LightGBM] [Warning] bagging_fraction is set=0.6444115693580773, subsample=1.0 will be ignored. Current value: bagging_fraction=0.6444115693580773\n",
      "[LightGBM] [Warning] bagging_freq is set=2, subsample_freq=0 will be ignored. Current value: bagging_freq=2\n"
     ]
    },
    {
     "name": "stderr",
     "output_type": "stream",
     "text": [
      "[Parallel(n_jobs=1)]: Using backend SequentialBackend with 1 concurrent workers.\n"
     ]
    },
    {
     "name": "stdout",
     "output_type": "stream",
     "text": [
      "[LightGBM] [Warning] feature_fraction is set=0.42682524497824254, colsample_bytree=1.0 will be ignored. Current value: feature_fraction=0.42682524497824254\n",
      "[LightGBM] [Warning] bagging_fraction is set=0.6444115693580773, subsample=1.0 will be ignored. Current value: bagging_fraction=0.6444115693580773\n",
      "[LightGBM] [Warning] bagging_freq is set=2, subsample_freq=0 will be ignored. Current value: bagging_freq=2\n",
      "[LightGBM] [Warning] feature_fraction is set=0.42682524497824254, colsample_bytree=1.0 will be ignored. Current value: feature_fraction=0.42682524497824254\n",
      "[LightGBM] [Warning] bagging_fraction is set=0.6444115693580773, subsample=1.0 will be ignored. Current value: bagging_fraction=0.6444115693580773\n",
      "[LightGBM] [Warning] bagging_freq is set=2, subsample_freq=0 will be ignored. Current value: bagging_freq=2\n",
      "[LightGBM] [Warning] feature_fraction is set=0.42682524497824254, colsample_bytree=1.0 will be ignored. Current value: feature_fraction=0.42682524497824254\n",
      "[LightGBM] [Warning] bagging_fraction is set=0.6444115693580773, subsample=1.0 will be ignored. Current value: bagging_fraction=0.6444115693580773\n",
      "[LightGBM] [Warning] bagging_freq is set=2, subsample_freq=0 will be ignored. Current value: bagging_freq=2\n",
      "[LightGBM] [Warning] feature_fraction is set=0.42682524497824254, colsample_bytree=1.0 will be ignored. Current value: feature_fraction=0.42682524497824254\n",
      "[LightGBM] [Warning] bagging_fraction is set=0.6444115693580773, subsample=1.0 will be ignored. Current value: bagging_fraction=0.6444115693580773\n",
      "[LightGBM] [Warning] bagging_freq is set=2, subsample_freq=0 will be ignored. Current value: bagging_freq=2\n"
     ]
    },
    {
     "name": "stderr",
     "output_type": "stream",
     "text": [
      "[Parallel(n_jobs=1)]: Done   5 out of   5 | elapsed: 14.7min finished\n"
     ]
    },
    {
     "name": "stdout",
     "output_type": "stream",
     "text": [
      "Fitting 5 folds for each of 1 candidates, totalling 5 fits\n",
      "[LightGBM] [Warning] feature_fraction is set=0.4, colsample_bytree=1.0 will be ignored. Current value: feature_fraction=0.4\n",
      "[LightGBM] [Warning] bagging_fraction is set=0.8493276166333985, subsample=1.0 will be ignored. Current value: bagging_fraction=0.8493276166333985\n",
      "[LightGBM] [Warning] bagging_freq is set=7, subsample_freq=0 will be ignored. Current value: bagging_freq=7\n"
     ]
    },
    {
     "name": "stderr",
     "output_type": "stream",
     "text": [
      "[Parallel(n_jobs=1)]: Using backend SequentialBackend with 1 concurrent workers.\n"
     ]
    },
    {
     "name": "stdout",
     "output_type": "stream",
     "text": [
      "[LightGBM] [Warning] feature_fraction is set=0.4, colsample_bytree=1.0 will be ignored. Current value: feature_fraction=0.4\n",
      "[LightGBM] [Warning] bagging_fraction is set=0.8493276166333985, subsample=1.0 will be ignored. Current value: bagging_fraction=0.8493276166333985\n",
      "[LightGBM] [Warning] bagging_freq is set=7, subsample_freq=0 will be ignored. Current value: bagging_freq=7\n",
      "[LightGBM] [Warning] feature_fraction is set=0.4, colsample_bytree=1.0 will be ignored. Current value: feature_fraction=0.4\n",
      "[LightGBM] [Warning] bagging_fraction is set=0.8493276166333985, subsample=1.0 will be ignored. Current value: bagging_fraction=0.8493276166333985\n",
      "[LightGBM] [Warning] bagging_freq is set=7, subsample_freq=0 will be ignored. Current value: bagging_freq=7\n",
      "[LightGBM] [Warning] feature_fraction is set=0.4, colsample_bytree=1.0 will be ignored. Current value: feature_fraction=0.4\n",
      "[LightGBM] [Warning] bagging_fraction is set=0.8493276166333985, subsample=1.0 will be ignored. Current value: bagging_fraction=0.8493276166333985\n",
      "[LightGBM] [Warning] bagging_freq is set=7, subsample_freq=0 will be ignored. Current value: bagging_freq=7\n",
      "[LightGBM] [Warning] feature_fraction is set=0.4, colsample_bytree=1.0 will be ignored. Current value: feature_fraction=0.4\n",
      "[LightGBM] [Warning] bagging_fraction is set=0.8493276166333985, subsample=1.0 will be ignored. Current value: bagging_fraction=0.8493276166333985\n",
      "[LightGBM] [Warning] bagging_freq is set=7, subsample_freq=0 will be ignored. Current value: bagging_freq=7\n"
     ]
    },
    {
     "name": "stderr",
     "output_type": "stream",
     "text": [
      "[Parallel(n_jobs=1)]: Done   5 out of   5 | elapsed:  2.8min finished\n"
     ]
    },
    {
     "name": "stdout",
     "output_type": "stream",
     "text": [
      "Fitting 5 folds for each of 1 candidates, totalling 5 fits\n",
      "[LightGBM] [Warning] feature_fraction is set=0.9366552399439404, colsample_bytree=1.0 will be ignored. Current value: feature_fraction=0.9366552399439404\n",
      "[LightGBM] [Warning] bagging_fraction is set=0.743580178862584, subsample=1.0 will be ignored. Current value: bagging_fraction=0.743580178862584\n",
      "[LightGBM] [Warning] bagging_freq is set=1, subsample_freq=0 will be ignored. Current value: bagging_freq=1\n"
     ]
    },
    {
     "name": "stderr",
     "output_type": "stream",
     "text": [
      "[Parallel(n_jobs=1)]: Using backend SequentialBackend with 1 concurrent workers.\n"
     ]
    },
    {
     "name": "stdout",
     "output_type": "stream",
     "text": [
      "[LightGBM] [Warning] feature_fraction is set=0.9366552399439404, colsample_bytree=1.0 will be ignored. Current value: feature_fraction=0.9366552399439404\n",
      "[LightGBM] [Warning] bagging_fraction is set=0.743580178862584, subsample=1.0 will be ignored. Current value: bagging_fraction=0.743580178862584\n",
      "[LightGBM] [Warning] bagging_freq is set=1, subsample_freq=0 will be ignored. Current value: bagging_freq=1\n",
      "[LightGBM] [Warning] feature_fraction is set=0.9366552399439404, colsample_bytree=1.0 will be ignored. Current value: feature_fraction=0.9366552399439404\n",
      "[LightGBM] [Warning] bagging_fraction is set=0.743580178862584, subsample=1.0 will be ignored. Current value: bagging_fraction=0.743580178862584\n",
      "[LightGBM] [Warning] bagging_freq is set=1, subsample_freq=0 will be ignored. Current value: bagging_freq=1\n",
      "[LightGBM] [Warning] feature_fraction is set=0.9366552399439404, colsample_bytree=1.0 will be ignored. Current value: feature_fraction=0.9366552399439404\n",
      "[LightGBM] [Warning] bagging_fraction is set=0.743580178862584, subsample=1.0 will be ignored. Current value: bagging_fraction=0.743580178862584\n",
      "[LightGBM] [Warning] bagging_freq is set=1, subsample_freq=0 will be ignored. Current value: bagging_freq=1\n",
      "[LightGBM] [Warning] feature_fraction is set=0.9366552399439404, colsample_bytree=1.0 will be ignored. Current value: feature_fraction=0.9366552399439404\n",
      "[LightGBM] [Warning] bagging_fraction is set=0.743580178862584, subsample=1.0 will be ignored. Current value: bagging_fraction=0.743580178862584\n",
      "[LightGBM] [Warning] bagging_freq is set=1, subsample_freq=0 will be ignored. Current value: bagging_freq=1\n"
     ]
    },
    {
     "name": "stderr",
     "output_type": "stream",
     "text": [
      "[Parallel(n_jobs=1)]: Done   5 out of   5 | elapsed: 24.7min finished\n"
     ]
    },
    {
     "name": "stdout",
     "output_type": "stream",
     "text": [
      "Fitting 5 folds for each of 1 candidates, totalling 5 fits\n",
      "[LightGBM] [Warning] feature_fraction is set=0.4, colsample_bytree=1.0 will be ignored. Current value: feature_fraction=0.4\n",
      "[LightGBM] [Warning] bagging_fraction is set=0.7042392924574353, subsample=1.0 will be ignored. Current value: bagging_fraction=0.7042392924574353\n",
      "[LightGBM] [Warning] bagging_freq is set=1, subsample_freq=0 will be ignored. Current value: bagging_freq=1\n"
     ]
    },
    {
     "name": "stderr",
     "output_type": "stream",
     "text": [
      "[Parallel(n_jobs=1)]: Using backend SequentialBackend with 1 concurrent workers.\n"
     ]
    },
    {
     "name": "stdout",
     "output_type": "stream",
     "text": [
      "[LightGBM] [Warning] feature_fraction is set=0.4, colsample_bytree=1.0 will be ignored. Current value: feature_fraction=0.4\n",
      "[LightGBM] [Warning] bagging_fraction is set=0.7042392924574353, subsample=1.0 will be ignored. Current value: bagging_fraction=0.7042392924574353\n",
      "[LightGBM] [Warning] bagging_freq is set=1, subsample_freq=0 will be ignored. Current value: bagging_freq=1\n",
      "[LightGBM] [Warning] feature_fraction is set=0.4, colsample_bytree=1.0 will be ignored. Current value: feature_fraction=0.4\n",
      "[LightGBM] [Warning] bagging_fraction is set=0.7042392924574353, subsample=1.0 will be ignored. Current value: bagging_fraction=0.7042392924574353\n",
      "[LightGBM] [Warning] bagging_freq is set=1, subsample_freq=0 will be ignored. Current value: bagging_freq=1\n",
      "[LightGBM] [Warning] feature_fraction is set=0.4, colsample_bytree=1.0 will be ignored. Current value: feature_fraction=0.4\n",
      "[LightGBM] [Warning] bagging_fraction is set=0.7042392924574353, subsample=1.0 will be ignored. Current value: bagging_fraction=0.7042392924574353\n",
      "[LightGBM] [Warning] bagging_freq is set=1, subsample_freq=0 will be ignored. Current value: bagging_freq=1\n",
      "[LightGBM] [Warning] feature_fraction is set=0.4, colsample_bytree=1.0 will be ignored. Current value: feature_fraction=0.4\n",
      "[LightGBM] [Warning] bagging_fraction is set=0.7042392924574353, subsample=1.0 will be ignored. Current value: bagging_fraction=0.7042392924574353\n",
      "[LightGBM] [Warning] bagging_freq is set=1, subsample_freq=0 will be ignored. Current value: bagging_freq=1\n"
     ]
    },
    {
     "name": "stderr",
     "output_type": "stream",
     "text": [
      "[Parallel(n_jobs=1)]: Done   5 out of   5 | elapsed:  7.4min finished\n"
     ]
    },
    {
     "name": "stdout",
     "output_type": "stream",
     "text": [
      "Fitting 5 folds for each of 1 candidates, totalling 5 fits\n",
      "[LightGBM] [Warning] feature_fraction is set=0.8177555172580286, colsample_bytree=1.0 will be ignored. Current value: feature_fraction=0.8177555172580286\n",
      "[LightGBM] [Warning] bagging_fraction is set=0.7240748625762925, subsample=1.0 will be ignored. Current value: bagging_fraction=0.7240748625762925\n",
      "[LightGBM] [Warning] bagging_freq is set=7, subsample_freq=0 will be ignored. Current value: bagging_freq=7\n"
     ]
    },
    {
     "name": "stderr",
     "output_type": "stream",
     "text": [
      "[Parallel(n_jobs=1)]: Using backend SequentialBackend with 1 concurrent workers.\n"
     ]
    },
    {
     "name": "stdout",
     "output_type": "stream",
     "text": [
      "[LightGBM] [Warning] feature_fraction is set=0.8177555172580286, colsample_bytree=1.0 will be ignored. Current value: feature_fraction=0.8177555172580286\n",
      "[LightGBM] [Warning] bagging_fraction is set=0.7240748625762925, subsample=1.0 will be ignored. Current value: bagging_fraction=0.7240748625762925\n",
      "[LightGBM] [Warning] bagging_freq is set=7, subsample_freq=0 will be ignored. Current value: bagging_freq=7\n",
      "[LightGBM] [Warning] feature_fraction is set=0.8177555172580286, colsample_bytree=1.0 will be ignored. Current value: feature_fraction=0.8177555172580286\n",
      "[LightGBM] [Warning] bagging_fraction is set=0.7240748625762925, subsample=1.0 will be ignored. Current value: bagging_fraction=0.7240748625762925\n",
      "[LightGBM] [Warning] bagging_freq is set=7, subsample_freq=0 will be ignored. Current value: bagging_freq=7\n",
      "[LightGBM] [Warning] feature_fraction is set=0.8177555172580286, colsample_bytree=1.0 will be ignored. Current value: feature_fraction=0.8177555172580286\n",
      "[LightGBM] [Warning] bagging_fraction is set=0.7240748625762925, subsample=1.0 will be ignored. Current value: bagging_fraction=0.7240748625762925\n",
      "[LightGBM] [Warning] bagging_freq is set=7, subsample_freq=0 will be ignored. Current value: bagging_freq=7\n",
      "[LightGBM] [Warning] feature_fraction is set=0.8177555172580286, colsample_bytree=1.0 will be ignored. Current value: feature_fraction=0.8177555172580286\n",
      "[LightGBM] [Warning] bagging_fraction is set=0.7240748625762925, subsample=1.0 will be ignored. Current value: bagging_fraction=0.7240748625762925\n",
      "[LightGBM] [Warning] bagging_freq is set=7, subsample_freq=0 will be ignored. Current value: bagging_freq=7\n"
     ]
    },
    {
     "name": "stderr",
     "output_type": "stream",
     "text": [
      "[Parallel(n_jobs=1)]: Done   5 out of   5 | elapsed: 12.2min finished\n"
     ]
    },
    {
     "name": "stdout",
     "output_type": "stream",
     "text": [
      "Fitting 5 folds for each of 1 candidates, totalling 5 fits\n",
      "[LightGBM] [Warning] feature_fraction is set=0.8667075317559914, colsample_bytree=1.0 will be ignored. Current value: feature_fraction=0.8667075317559914\n",
      "[LightGBM] [Warning] bagging_fraction is set=0.6378493997824763, subsample=1.0 will be ignored. Current value: bagging_fraction=0.6378493997824763\n",
      "[LightGBM] [Warning] bagging_freq is set=7, subsample_freq=0 will be ignored. Current value: bagging_freq=7\n"
     ]
    },
    {
     "name": "stderr",
     "output_type": "stream",
     "text": [
      "[Parallel(n_jobs=1)]: Using backend SequentialBackend with 1 concurrent workers.\n"
     ]
    },
    {
     "name": "stdout",
     "output_type": "stream",
     "text": [
      "[LightGBM] [Warning] feature_fraction is set=0.8667075317559914, colsample_bytree=1.0 will be ignored. Current value: feature_fraction=0.8667075317559914\n",
      "[LightGBM] [Warning] bagging_fraction is set=0.6378493997824763, subsample=1.0 will be ignored. Current value: bagging_fraction=0.6378493997824763\n",
      "[LightGBM] [Warning] bagging_freq is set=7, subsample_freq=0 will be ignored. Current value: bagging_freq=7\n",
      "[LightGBM] [Warning] feature_fraction is set=0.8667075317559914, colsample_bytree=1.0 will be ignored. Current value: feature_fraction=0.8667075317559914\n",
      "[LightGBM] [Warning] bagging_fraction is set=0.6378493997824763, subsample=1.0 will be ignored. Current value: bagging_fraction=0.6378493997824763\n",
      "[LightGBM] [Warning] bagging_freq is set=7, subsample_freq=0 will be ignored. Current value: bagging_freq=7\n",
      "[LightGBM] [Warning] feature_fraction is set=0.8667075317559914, colsample_bytree=1.0 will be ignored. Current value: feature_fraction=0.8667075317559914\n",
      "[LightGBM] [Warning] bagging_fraction is set=0.6378493997824763, subsample=1.0 will be ignored. Current value: bagging_fraction=0.6378493997824763\n",
      "[LightGBM] [Warning] bagging_freq is set=7, subsample_freq=0 will be ignored. Current value: bagging_freq=7\n",
      "[LightGBM] [Warning] feature_fraction is set=0.8667075317559914, colsample_bytree=1.0 will be ignored. Current value: feature_fraction=0.8667075317559914\n",
      "[LightGBM] [Warning] bagging_fraction is set=0.6378493997824763, subsample=1.0 will be ignored. Current value: bagging_fraction=0.6378493997824763\n",
      "[LightGBM] [Warning] bagging_freq is set=7, subsample_freq=0 will be ignored. Current value: bagging_freq=7\n"
     ]
    },
    {
     "name": "stderr",
     "output_type": "stream",
     "text": [
      "[Parallel(n_jobs=1)]: Done   5 out of   5 | elapsed: 24.0min finished\n"
     ]
    },
    {
     "name": "stdout",
     "output_type": "stream",
     "text": [
      "Fitting 5 folds for each of 1 candidates, totalling 5 fits\n",
      "[LightGBM] [Warning] feature_fraction is set=0.9547727443695441, colsample_bytree=1.0 will be ignored. Current value: feature_fraction=0.9547727443695441\n",
      "[LightGBM] [Warning] bagging_fraction is set=0.5878287876064452, subsample=1.0 will be ignored. Current value: bagging_fraction=0.5878287876064452\n",
      "[LightGBM] [Warning] bagging_freq is set=5, subsample_freq=0 will be ignored. Current value: bagging_freq=5\n"
     ]
    },
    {
     "name": "stderr",
     "output_type": "stream",
     "text": [
      "[Parallel(n_jobs=1)]: Using backend SequentialBackend with 1 concurrent workers.\n"
     ]
    },
    {
     "name": "stdout",
     "output_type": "stream",
     "text": [
      "[LightGBM] [Warning] feature_fraction is set=0.9547727443695441, colsample_bytree=1.0 will be ignored. Current value: feature_fraction=0.9547727443695441\n",
      "[LightGBM] [Warning] bagging_fraction is set=0.5878287876064452, subsample=1.0 will be ignored. Current value: bagging_fraction=0.5878287876064452\n",
      "[LightGBM] [Warning] bagging_freq is set=5, subsample_freq=0 will be ignored. Current value: bagging_freq=5\n",
      "[LightGBM] [Warning] feature_fraction is set=0.9547727443695441, colsample_bytree=1.0 will be ignored. Current value: feature_fraction=0.9547727443695441\n",
      "[LightGBM] [Warning] bagging_fraction is set=0.5878287876064452, subsample=1.0 will be ignored. Current value: bagging_fraction=0.5878287876064452\n",
      "[LightGBM] [Warning] bagging_freq is set=5, subsample_freq=0 will be ignored. Current value: bagging_freq=5\n",
      "[LightGBM] [Warning] feature_fraction is set=0.9547727443695441, colsample_bytree=1.0 will be ignored. Current value: feature_fraction=0.9547727443695441\n",
      "[LightGBM] [Warning] bagging_fraction is set=0.5878287876064452, subsample=1.0 will be ignored. Current value: bagging_fraction=0.5878287876064452\n",
      "[LightGBM] [Warning] bagging_freq is set=5, subsample_freq=0 will be ignored. Current value: bagging_freq=5\n",
      "[LightGBM] [Warning] feature_fraction is set=0.9547727443695441, colsample_bytree=1.0 will be ignored. Current value: feature_fraction=0.9547727443695441\n",
      "[LightGBM] [Warning] bagging_fraction is set=0.5878287876064452, subsample=1.0 will be ignored. Current value: bagging_fraction=0.5878287876064452\n",
      "[LightGBM] [Warning] bagging_freq is set=5, subsample_freq=0 will be ignored. Current value: bagging_freq=5\n"
     ]
    },
    {
     "name": "stderr",
     "output_type": "stream",
     "text": [
      "[Parallel(n_jobs=1)]: Done   5 out of   5 | elapsed:  1.2min finished\n"
     ]
    },
    {
     "name": "stdout",
     "output_type": "stream",
     "text": [
      "Fitting 5 folds for each of 1 candidates, totalling 5 fits\n",
      "[LightGBM] [Warning] feature_fraction is set=0.639317390617356, colsample_bytree=1.0 will be ignored. Current value: feature_fraction=0.639317390617356\n",
      "[LightGBM] [Warning] bagging_fraction is set=0.6637429516009103, subsample=1.0 will be ignored. Current value: bagging_fraction=0.6637429516009103\n",
      "[LightGBM] [Warning] bagging_freq is set=5, subsample_freq=0 will be ignored. Current value: bagging_freq=5\n"
     ]
    },
    {
     "name": "stderr",
     "output_type": "stream",
     "text": [
      "[Parallel(n_jobs=1)]: Using backend SequentialBackend with 1 concurrent workers.\n"
     ]
    },
    {
     "name": "stdout",
     "output_type": "stream",
     "text": [
      "[LightGBM] [Warning] feature_fraction is set=0.639317390617356, colsample_bytree=1.0 will be ignored. Current value: feature_fraction=0.639317390617356\n",
      "[LightGBM] [Warning] bagging_fraction is set=0.6637429516009103, subsample=1.0 will be ignored. Current value: bagging_fraction=0.6637429516009103\n",
      "[LightGBM] [Warning] bagging_freq is set=5, subsample_freq=0 will be ignored. Current value: bagging_freq=5\n",
      "[LightGBM] [Warning] feature_fraction is set=0.639317390617356, colsample_bytree=1.0 will be ignored. Current value: feature_fraction=0.639317390617356\n",
      "[LightGBM] [Warning] bagging_fraction is set=0.6637429516009103, subsample=1.0 will be ignored. Current value: bagging_fraction=0.6637429516009103\n",
      "[LightGBM] [Warning] bagging_freq is set=5, subsample_freq=0 will be ignored. Current value: bagging_freq=5\n",
      "[LightGBM] [Warning] feature_fraction is set=0.639317390617356, colsample_bytree=1.0 will be ignored. Current value: feature_fraction=0.639317390617356\n",
      "[LightGBM] [Warning] bagging_fraction is set=0.6637429516009103, subsample=1.0 will be ignored. Current value: bagging_fraction=0.6637429516009103\n",
      "[LightGBM] [Warning] bagging_freq is set=5, subsample_freq=0 will be ignored. Current value: bagging_freq=5\n",
      "[LightGBM] [Warning] feature_fraction is set=0.639317390617356, colsample_bytree=1.0 will be ignored. Current value: feature_fraction=0.639317390617356\n",
      "[LightGBM] [Warning] bagging_fraction is set=0.6637429516009103, subsample=1.0 will be ignored. Current value: bagging_fraction=0.6637429516009103\n",
      "[LightGBM] [Warning] bagging_freq is set=5, subsample_freq=0 will be ignored. Current value: bagging_freq=5\n"
     ]
    },
    {
     "name": "stderr",
     "output_type": "stream",
     "text": [
      "[Parallel(n_jobs=1)]: Done   5 out of   5 | elapsed:  1.0min finished\n"
     ]
    },
    {
     "name": "stdout",
     "output_type": "stream",
     "text": [
      "Fitting 5 folds for each of 1 candidates, totalling 5 fits\n",
      "[LightGBM] [Warning] feature_fraction is set=0.8182987239201271, colsample_bytree=1.0 will be ignored. Current value: feature_fraction=0.8182987239201271\n",
      "[LightGBM] [Warning] bagging_fraction is set=1.0, subsample=1.0 will be ignored. Current value: bagging_fraction=1.0\n",
      "[LightGBM] [Warning] bagging_freq is set=0, subsample_freq=0 will be ignored. Current value: bagging_freq=0\n"
     ]
    },
    {
     "name": "stderr",
     "output_type": "stream",
     "text": [
      "[Parallel(n_jobs=1)]: Using backend SequentialBackend with 1 concurrent workers.\n"
     ]
    },
    {
     "name": "stdout",
     "output_type": "stream",
     "text": [
      "[LightGBM] [Warning] feature_fraction is set=0.8182987239201271, colsample_bytree=1.0 will be ignored. Current value: feature_fraction=0.8182987239201271\n",
      "[LightGBM] [Warning] bagging_fraction is set=1.0, subsample=1.0 will be ignored. Current value: bagging_fraction=1.0\n",
      "[LightGBM] [Warning] bagging_freq is set=0, subsample_freq=0 will be ignored. Current value: bagging_freq=0\n",
      "[LightGBM] [Warning] feature_fraction is set=0.8182987239201271, colsample_bytree=1.0 will be ignored. Current value: feature_fraction=0.8182987239201271\n",
      "[LightGBM] [Warning] bagging_fraction is set=1.0, subsample=1.0 will be ignored. Current value: bagging_fraction=1.0\n",
      "[LightGBM] [Warning] bagging_freq is set=0, subsample_freq=0 will be ignored. Current value: bagging_freq=0\n",
      "[LightGBM] [Warning] feature_fraction is set=0.8182987239201271, colsample_bytree=1.0 will be ignored. Current value: feature_fraction=0.8182987239201271\n",
      "[LightGBM] [Warning] bagging_fraction is set=1.0, subsample=1.0 will be ignored. Current value: bagging_fraction=1.0\n",
      "[LightGBM] [Warning] bagging_freq is set=0, subsample_freq=0 will be ignored. Current value: bagging_freq=0\n",
      "[LightGBM] [Warning] feature_fraction is set=0.8182987239201271, colsample_bytree=1.0 will be ignored. Current value: feature_fraction=0.8182987239201271\n",
      "[LightGBM] [Warning] bagging_fraction is set=1.0, subsample=1.0 will be ignored. Current value: bagging_fraction=1.0\n",
      "[LightGBM] [Warning] bagging_freq is set=0, subsample_freq=0 will be ignored. Current value: bagging_freq=0\n"
     ]
    },
    {
     "name": "stderr",
     "output_type": "stream",
     "text": [
      "[Parallel(n_jobs=1)]: Done   5 out of   5 | elapsed:  4.3min finished\n"
     ]
    },
    {
     "name": "stdout",
     "output_type": "stream",
     "text": [
      "Fitting 5 folds for each of 1 candidates, totalling 5 fits\n",
      "[LightGBM] [Warning] feature_fraction is set=0.807110355245569, colsample_bytree=1.0 will be ignored. Current value: feature_fraction=0.807110355245569\n",
      "[LightGBM] [Warning] bagging_fraction is set=0.6579307624326778, subsample=1.0 will be ignored. Current value: bagging_fraction=0.6579307624326778\n",
      "[LightGBM] [Warning] bagging_freq is set=7, subsample_freq=0 will be ignored. Current value: bagging_freq=7\n"
     ]
    },
    {
     "name": "stderr",
     "output_type": "stream",
     "text": [
      "[Parallel(n_jobs=1)]: Using backend SequentialBackend with 1 concurrent workers.\n"
     ]
    },
    {
     "name": "stdout",
     "output_type": "stream",
     "text": [
      "[LightGBM] [Warning] feature_fraction is set=0.807110355245569, colsample_bytree=1.0 will be ignored. Current value: feature_fraction=0.807110355245569\n",
      "[LightGBM] [Warning] bagging_fraction is set=0.6579307624326778, subsample=1.0 will be ignored. Current value: bagging_fraction=0.6579307624326778\n",
      "[LightGBM] [Warning] bagging_freq is set=7, subsample_freq=0 will be ignored. Current value: bagging_freq=7\n",
      "[LightGBM] [Warning] feature_fraction is set=0.807110355245569, colsample_bytree=1.0 will be ignored. Current value: feature_fraction=0.807110355245569\n",
      "[LightGBM] [Warning] bagging_fraction is set=0.6579307624326778, subsample=1.0 will be ignored. Current value: bagging_fraction=0.6579307624326778\n",
      "[LightGBM] [Warning] bagging_freq is set=7, subsample_freq=0 will be ignored. Current value: bagging_freq=7\n",
      "[LightGBM] [Warning] feature_fraction is set=0.807110355245569, colsample_bytree=1.0 will be ignored. Current value: feature_fraction=0.807110355245569\n",
      "[LightGBM] [Warning] bagging_fraction is set=0.6579307624326778, subsample=1.0 will be ignored. Current value: bagging_fraction=0.6579307624326778\n",
      "[LightGBM] [Warning] bagging_freq is set=7, subsample_freq=0 will be ignored. Current value: bagging_freq=7\n",
      "[LightGBM] [Warning] feature_fraction is set=0.807110355245569, colsample_bytree=1.0 will be ignored. Current value: feature_fraction=0.807110355245569\n",
      "[LightGBM] [Warning] bagging_fraction is set=0.6579307624326778, subsample=1.0 will be ignored. Current value: bagging_fraction=0.6579307624326778\n",
      "[LightGBM] [Warning] bagging_freq is set=7, subsample_freq=0 will be ignored. Current value: bagging_freq=7\n"
     ]
    },
    {
     "name": "stderr",
     "output_type": "stream",
     "text": [
      "[Parallel(n_jobs=1)]: Done   5 out of   5 | elapsed:   38.6s finished\n"
     ]
    },
    {
     "name": "stdout",
     "output_type": "stream",
     "text": [
      "Fitting 5 folds for each of 1 candidates, totalling 5 fits\n",
      "[LightGBM] [Warning] feature_fraction is set=0.9971100668753791, colsample_bytree=1.0 will be ignored. Current value: feature_fraction=0.9971100668753791\n",
      "[LightGBM] [Warning] bagging_fraction is set=0.9436467589187033, subsample=1.0 will be ignored. Current value: bagging_fraction=0.9436467589187033\n",
      "[LightGBM] [Warning] bagging_freq is set=1, subsample_freq=0 will be ignored. Current value: bagging_freq=1\n"
     ]
    },
    {
     "name": "stderr",
     "output_type": "stream",
     "text": [
      "[Parallel(n_jobs=1)]: Using backend SequentialBackend with 1 concurrent workers.\n"
     ]
    },
    {
     "name": "stdout",
     "output_type": "stream",
     "text": [
      "[LightGBM] [Warning] feature_fraction is set=0.9971100668753791, colsample_bytree=1.0 will be ignored. Current value: feature_fraction=0.9971100668753791\n",
      "[LightGBM] [Warning] bagging_fraction is set=0.9436467589187033, subsample=1.0 will be ignored. Current value: bagging_fraction=0.9436467589187033\n",
      "[LightGBM] [Warning] bagging_freq is set=1, subsample_freq=0 will be ignored. Current value: bagging_freq=1\n",
      "[LightGBM] [Warning] feature_fraction is set=0.9971100668753791, colsample_bytree=1.0 will be ignored. Current value: feature_fraction=0.9971100668753791\n",
      "[LightGBM] [Warning] bagging_fraction is set=0.9436467589187033, subsample=1.0 will be ignored. Current value: bagging_fraction=0.9436467589187033\n",
      "[LightGBM] [Warning] bagging_freq is set=1, subsample_freq=0 will be ignored. Current value: bagging_freq=1\n",
      "[LightGBM] [Warning] feature_fraction is set=0.9971100668753791, colsample_bytree=1.0 will be ignored. Current value: feature_fraction=0.9971100668753791\n",
      "[LightGBM] [Warning] bagging_fraction is set=0.9436467589187033, subsample=1.0 will be ignored. Current value: bagging_fraction=0.9436467589187033\n",
      "[LightGBM] [Warning] bagging_freq is set=1, subsample_freq=0 will be ignored. Current value: bagging_freq=1\n",
      "[LightGBM] [Warning] feature_fraction is set=0.9971100668753791, colsample_bytree=1.0 will be ignored. Current value: feature_fraction=0.9971100668753791\n",
      "[LightGBM] [Warning] bagging_fraction is set=0.9436467589187033, subsample=1.0 will be ignored. Current value: bagging_fraction=0.9436467589187033\n",
      "[LightGBM] [Warning] bagging_freq is set=1, subsample_freq=0 will be ignored. Current value: bagging_freq=1\n"
     ]
    },
    {
     "name": "stderr",
     "output_type": "stream",
     "text": [
      "[Parallel(n_jobs=1)]: Done   5 out of   5 | elapsed:  5.5min finished\n"
     ]
    },
    {
     "name": "stdout",
     "output_type": "stream",
     "text": [
      "Fitting 5 folds for each of 1 candidates, totalling 5 fits\n",
      "[LightGBM] [Warning] feature_fraction is set=0.4694139434628903, colsample_bytree=1.0 will be ignored. Current value: feature_fraction=0.4694139434628903\n",
      "[LightGBM] [Warning] bagging_fraction is set=0.9241903602890804, subsample=1.0 will be ignored. Current value: bagging_fraction=0.9241903602890804\n",
      "[LightGBM] [Warning] bagging_freq is set=4, subsample_freq=0 will be ignored. Current value: bagging_freq=4\n"
     ]
    },
    {
     "name": "stderr",
     "output_type": "stream",
     "text": [
      "[Parallel(n_jobs=1)]: Using backend SequentialBackend with 1 concurrent workers.\n"
     ]
    },
    {
     "name": "stdout",
     "output_type": "stream",
     "text": [
      "[LightGBM] [Warning] feature_fraction is set=0.4694139434628903, colsample_bytree=1.0 will be ignored. Current value: feature_fraction=0.4694139434628903\n",
      "[LightGBM] [Warning] bagging_fraction is set=0.9241903602890804, subsample=1.0 will be ignored. Current value: bagging_fraction=0.9241903602890804\n",
      "[LightGBM] [Warning] bagging_freq is set=4, subsample_freq=0 will be ignored. Current value: bagging_freq=4\n",
      "[LightGBM] [Warning] feature_fraction is set=0.4694139434628903, colsample_bytree=1.0 will be ignored. Current value: feature_fraction=0.4694139434628903\n",
      "[LightGBM] [Warning] bagging_fraction is set=0.9241903602890804, subsample=1.0 will be ignored. Current value: bagging_fraction=0.9241903602890804\n",
      "[LightGBM] [Warning] bagging_freq is set=4, subsample_freq=0 will be ignored. Current value: bagging_freq=4\n",
      "[LightGBM] [Warning] feature_fraction is set=0.4694139434628903, colsample_bytree=1.0 will be ignored. Current value: feature_fraction=0.4694139434628903\n",
      "[LightGBM] [Warning] bagging_fraction is set=0.9241903602890804, subsample=1.0 will be ignored. Current value: bagging_fraction=0.9241903602890804\n",
      "[LightGBM] [Warning] bagging_freq is set=4, subsample_freq=0 will be ignored. Current value: bagging_freq=4\n",
      "[LightGBM] [Warning] feature_fraction is set=0.4694139434628903, colsample_bytree=1.0 will be ignored. Current value: feature_fraction=0.4694139434628903\n",
      "[LightGBM] [Warning] bagging_fraction is set=0.9241903602890804, subsample=1.0 will be ignored. Current value: bagging_fraction=0.9241903602890804\n",
      "[LightGBM] [Warning] bagging_freq is set=4, subsample_freq=0 will be ignored. Current value: bagging_freq=4\n"
     ]
    },
    {
     "name": "stderr",
     "output_type": "stream",
     "text": [
      "[Parallel(n_jobs=1)]: Done   5 out of   5 | elapsed: 21.3min finished\n"
     ]
    },
    {
     "name": "stdout",
     "output_type": "stream",
     "text": [
      "Fitting 5 folds for each of 1 candidates, totalling 5 fits\n",
      "[LightGBM] [Warning] feature_fraction is set=0.7272322769607701, colsample_bytree=1.0 will be ignored. Current value: feature_fraction=0.7272322769607701\n",
      "[LightGBM] [Warning] bagging_fraction is set=0.6383824302942362, subsample=1.0 will be ignored. Current value: bagging_fraction=0.6383824302942362\n",
      "[LightGBM] [Warning] bagging_freq is set=5, subsample_freq=0 will be ignored. Current value: bagging_freq=5\n"
     ]
    },
    {
     "name": "stderr",
     "output_type": "stream",
     "text": [
      "[Parallel(n_jobs=1)]: Using backend SequentialBackend with 1 concurrent workers.\n"
     ]
    },
    {
     "name": "stdout",
     "output_type": "stream",
     "text": [
      "[LightGBM] [Warning] feature_fraction is set=0.7272322769607701, colsample_bytree=1.0 will be ignored. Current value: feature_fraction=0.7272322769607701\n",
      "[LightGBM] [Warning] bagging_fraction is set=0.6383824302942362, subsample=1.0 will be ignored. Current value: bagging_fraction=0.6383824302942362\n",
      "[LightGBM] [Warning] bagging_freq is set=5, subsample_freq=0 will be ignored. Current value: bagging_freq=5\n",
      "[LightGBM] [Warning] feature_fraction is set=0.7272322769607701, colsample_bytree=1.0 will be ignored. Current value: feature_fraction=0.7272322769607701\n",
      "[LightGBM] [Warning] bagging_fraction is set=0.6383824302942362, subsample=1.0 will be ignored. Current value: bagging_fraction=0.6383824302942362\n",
      "[LightGBM] [Warning] bagging_freq is set=5, subsample_freq=0 will be ignored. Current value: bagging_freq=5\n",
      "[LightGBM] [Warning] feature_fraction is set=0.7272322769607701, colsample_bytree=1.0 will be ignored. Current value: feature_fraction=0.7272322769607701\n",
      "[LightGBM] [Warning] bagging_fraction is set=0.6383824302942362, subsample=1.0 will be ignored. Current value: bagging_fraction=0.6383824302942362\n",
      "[LightGBM] [Warning] bagging_freq is set=5, subsample_freq=0 will be ignored. Current value: bagging_freq=5\n",
      "[LightGBM] [Warning] feature_fraction is set=0.7272322769607701, colsample_bytree=1.0 will be ignored. Current value: feature_fraction=0.7272322769607701\n",
      "[LightGBM] [Warning] bagging_fraction is set=0.6383824302942362, subsample=1.0 will be ignored. Current value: bagging_fraction=0.6383824302942362\n",
      "[LightGBM] [Warning] bagging_freq is set=5, subsample_freq=0 will be ignored. Current value: bagging_freq=5\n"
     ]
    },
    {
     "name": "stderr",
     "output_type": "stream",
     "text": [
      "[Parallel(n_jobs=1)]: Done   5 out of   5 | elapsed:  1.2min finished\n"
     ]
    },
    {
     "name": "stdout",
     "output_type": "stream",
     "text": [
      "Fitting 5 folds for each of 1 candidates, totalling 5 fits\n",
      "[LightGBM] [Warning] feature_fraction is set=0.7653795213435016, colsample_bytree=1.0 will be ignored. Current value: feature_fraction=0.7653795213435016\n",
      "[LightGBM] [Warning] bagging_fraction is set=0.4, subsample=1.0 will be ignored. Current value: bagging_fraction=0.4\n",
      "[LightGBM] [Warning] bagging_freq is set=7, subsample_freq=0 will be ignored. Current value: bagging_freq=7\n"
     ]
    },
    {
     "name": "stderr",
     "output_type": "stream",
     "text": [
      "[Parallel(n_jobs=1)]: Using backend SequentialBackend with 1 concurrent workers.\n"
     ]
    },
    {
     "name": "stdout",
     "output_type": "stream",
     "text": [
      "[LightGBM] [Warning] feature_fraction is set=0.7653795213435016, colsample_bytree=1.0 will be ignored. Current value: feature_fraction=0.7653795213435016\n",
      "[LightGBM] [Warning] bagging_fraction is set=0.4, subsample=1.0 will be ignored. Current value: bagging_fraction=0.4\n",
      "[LightGBM] [Warning] bagging_freq is set=7, subsample_freq=0 will be ignored. Current value: bagging_freq=7\n",
      "[LightGBM] [Warning] feature_fraction is set=0.7653795213435016, colsample_bytree=1.0 will be ignored. Current value: feature_fraction=0.7653795213435016\n",
      "[LightGBM] [Warning] bagging_fraction is set=0.4, subsample=1.0 will be ignored. Current value: bagging_fraction=0.4\n",
      "[LightGBM] [Warning] bagging_freq is set=7, subsample_freq=0 will be ignored. Current value: bagging_freq=7\n"
     ]
    },
    {
     "ename": "KeyboardInterrupt",
     "evalue": "",
     "output_type": "error",
     "traceback": [
      "\u001b[1;31m---------------------------------------------------------------------------\u001b[0m",
      "\u001b[1;31mKeyboardInterrupt\u001b[0m                         Traceback (most recent call last)",
      "\u001b[1;32m<ipython-input-24-4837919b6814>\u001b[0m in \u001b[0;36m<module>\u001b[1;34m\u001b[0m\n\u001b[0;32m      1\u001b[0m \u001b[1;31m# Tune Top 6 models\u001b[0m\u001b[1;33m\u001b[0m\u001b[1;33m\u001b[0m\u001b[1;33m\u001b[0m\u001b[0m\n\u001b[1;32m----> 2\u001b[1;33m \u001b[0mtuned_top6\u001b[0m \u001b[1;33m=\u001b[0m \u001b[1;33m[\u001b[0m\u001b[0mtune_model\u001b[0m\u001b[1;33m(\u001b[0m\u001b[0mi\u001b[0m\u001b[1;33m,\u001b[0m \u001b[0mn_iter\u001b[0m\u001b[1;33m=\u001b[0m\u001b[1;36m50\u001b[0m\u001b[1;33m,\u001b[0m \u001b[0msearch_library\u001b[0m\u001b[1;33m=\u001b[0m\u001b[1;34m\"scikit-optimize\"\u001b[0m\u001b[1;33m,\u001b[0m \u001b[0msearch_algorithm\u001b[0m\u001b[1;33m=\u001b[0m\u001b[1;34m\"bayesian\"\u001b[0m\u001b[1;33m)\u001b[0m \u001b[1;32mfor\u001b[0m \u001b[0mi\u001b[0m \u001b[1;32min\u001b[0m \u001b[0ma\u001b[0m\u001b[1;33m]\u001b[0m\u001b[1;33m\u001b[0m\u001b[1;33m\u001b[0m\u001b[0m\n\u001b[0m",
      "\u001b[1;32m<ipython-input-24-4837919b6814>\u001b[0m in \u001b[0;36m<listcomp>\u001b[1;34m(.0)\u001b[0m\n\u001b[0;32m      1\u001b[0m \u001b[1;31m# Tune Top 6 models\u001b[0m\u001b[1;33m\u001b[0m\u001b[1;33m\u001b[0m\u001b[1;33m\u001b[0m\u001b[0m\n\u001b[1;32m----> 2\u001b[1;33m \u001b[0mtuned_top6\u001b[0m \u001b[1;33m=\u001b[0m \u001b[1;33m[\u001b[0m\u001b[0mtune_model\u001b[0m\u001b[1;33m(\u001b[0m\u001b[0mi\u001b[0m\u001b[1;33m,\u001b[0m \u001b[0mn_iter\u001b[0m\u001b[1;33m=\u001b[0m\u001b[1;36m50\u001b[0m\u001b[1;33m,\u001b[0m \u001b[0msearch_library\u001b[0m\u001b[1;33m=\u001b[0m\u001b[1;34m\"scikit-optimize\"\u001b[0m\u001b[1;33m,\u001b[0m \u001b[0msearch_algorithm\u001b[0m\u001b[1;33m=\u001b[0m\u001b[1;34m\"bayesian\"\u001b[0m\u001b[1;33m)\u001b[0m \u001b[1;32mfor\u001b[0m \u001b[0mi\u001b[0m \u001b[1;32min\u001b[0m \u001b[0ma\u001b[0m\u001b[1;33m]\u001b[0m\u001b[1;33m\u001b[0m\u001b[1;33m\u001b[0m\u001b[0m\n\u001b[0m",
      "\u001b[1;32m~\\anaconda3\\envs\\ML\\lib\\site-packages\\pycaret\\classification.py\u001b[0m in \u001b[0;36mtune_model\u001b[1;34m(estimator, fold, round, n_iter, custom_grid, optimize, custom_scorer, search_library, search_algorithm, early_stopping, early_stopping_max_iters, choose_better, fit_kwargs, groups, return_tuner, verbose, tuner_verbose, **kwargs)\u001b[0m\n\u001b[0;32m   1100\u001b[0m         \u001b[0mverbose\u001b[0m\u001b[1;33m=\u001b[0m\u001b[0mverbose\u001b[0m\u001b[1;33m,\u001b[0m\u001b[1;33m\u001b[0m\u001b[1;33m\u001b[0m\u001b[0m\n\u001b[0;32m   1101\u001b[0m         \u001b[0mtuner_verbose\u001b[0m\u001b[1;33m=\u001b[0m\u001b[0mtuner_verbose\u001b[0m\u001b[1;33m,\u001b[0m\u001b[1;33m\u001b[0m\u001b[1;33m\u001b[0m\u001b[0m\n\u001b[1;32m-> 1102\u001b[1;33m         \u001b[1;33m**\u001b[0m\u001b[0mkwargs\u001b[0m\u001b[1;33m,\u001b[0m\u001b[1;33m\u001b[0m\u001b[1;33m\u001b[0m\u001b[0m\n\u001b[0m\u001b[0;32m   1103\u001b[0m     )\n\u001b[0;32m   1104\u001b[0m \u001b[1;33m\u001b[0m\u001b[0m\n",
      "\u001b[1;32m~\\anaconda3\\envs\\ML\\lib\\site-packages\\pycaret\\internal\\tabular.py\u001b[0m in \u001b[0;36mtune_model_supervised\u001b[1;34m(estimator, fold, round, n_iter, custom_grid, optimize, custom_scorer, search_library, search_algorithm, early_stopping, early_stopping_max_iters, choose_better, fit_kwargs, groups, return_tuner, verbose, tuner_verbose, display, **kwargs)\u001b[0m\n\u001b[0;32m   4480\u001b[0m                 \u001b[0mmodel_grid\u001b[0m\u001b[1;33m.\u001b[0m\u001b[0mfit\u001b[0m\u001b[1;33m(\u001b[0m\u001b[0mX_train\u001b[0m\u001b[1;33m,\u001b[0m \u001b[0my_train\u001b[0m\u001b[1;33m,\u001b[0m \u001b[0mgroups\u001b[0m\u001b[1;33m=\u001b[0m\u001b[0mgroups\u001b[0m\u001b[1;33m,\u001b[0m \u001b[1;33m**\u001b[0m\u001b[0mfit_kwargs\u001b[0m\u001b[1;33m)\u001b[0m\u001b[1;33m\u001b[0m\u001b[1;33m\u001b[0m\u001b[0m\n\u001b[0;32m   4481\u001b[0m         \u001b[1;32melse\u001b[0m\u001b[1;33m:\u001b[0m\u001b[1;33m\u001b[0m\u001b[1;33m\u001b[0m\u001b[0m\n\u001b[1;32m-> 4482\u001b[1;33m             \u001b[0mmodel_grid\u001b[0m\u001b[1;33m.\u001b[0m\u001b[0mfit\u001b[0m\u001b[1;33m(\u001b[0m\u001b[0mX_train\u001b[0m\u001b[1;33m,\u001b[0m \u001b[0my_train\u001b[0m\u001b[1;33m,\u001b[0m \u001b[0mgroups\u001b[0m\u001b[1;33m=\u001b[0m\u001b[0mgroups\u001b[0m\u001b[1;33m,\u001b[0m \u001b[1;33m**\u001b[0m\u001b[0mfit_kwargs\u001b[0m\u001b[1;33m)\u001b[0m\u001b[1;33m\u001b[0m\u001b[1;33m\u001b[0m\u001b[0m\n\u001b[0m\u001b[0;32m   4483\u001b[0m         \u001b[0mbest_params\u001b[0m \u001b[1;33m=\u001b[0m \u001b[0mmodel_grid\u001b[0m\u001b[1;33m.\u001b[0m\u001b[0mbest_params_\u001b[0m\u001b[1;33m\u001b[0m\u001b[1;33m\u001b[0m\u001b[0m\n\u001b[0;32m   4484\u001b[0m         \u001b[0mlogger\u001b[0m\u001b[1;33m.\u001b[0m\u001b[0minfo\u001b[0m\u001b[1;33m(\u001b[0m\u001b[1;34mf\"best_params: {best_params}\"\u001b[0m\u001b[1;33m)\u001b[0m\u001b[1;33m\u001b[0m\u001b[1;33m\u001b[0m\u001b[0m\n",
      "\u001b[1;32m~\\anaconda3\\envs\\ML\\lib\\site-packages\\skopt\\searchcv.py\u001b[0m in \u001b[0;36mfit\u001b[1;34m(self, X, y, groups, callback)\u001b[0m\n\u001b[0;32m    692\u001b[0m                 optim_result = self._step(\n\u001b[0;32m    693\u001b[0m                     \u001b[0mX\u001b[0m\u001b[1;33m,\u001b[0m \u001b[0my\u001b[0m\u001b[1;33m,\u001b[0m \u001b[0msearch_space\u001b[0m\u001b[1;33m,\u001b[0m \u001b[0moptimizer\u001b[0m\u001b[1;33m,\u001b[0m\u001b[1;33m\u001b[0m\u001b[1;33m\u001b[0m\u001b[0m\n\u001b[1;32m--> 694\u001b[1;33m                     \u001b[0mgroups\u001b[0m\u001b[1;33m=\u001b[0m\u001b[0mgroups\u001b[0m\u001b[1;33m,\u001b[0m \u001b[0mn_points\u001b[0m\u001b[1;33m=\u001b[0m\u001b[0mn_points_adjusted\u001b[0m\u001b[1;33m\u001b[0m\u001b[1;33m\u001b[0m\u001b[0m\n\u001b[0m\u001b[0;32m    695\u001b[0m                 )\n\u001b[0;32m    696\u001b[0m                 \u001b[0mn_iter\u001b[0m \u001b[1;33m-=\u001b[0m \u001b[0mn_points\u001b[0m\u001b[1;33m\u001b[0m\u001b[1;33m\u001b[0m\u001b[0m\n",
      "\u001b[1;32m~\\anaconda3\\envs\\ML\\lib\\site-packages\\skopt\\searchcv.py\u001b[0m in \u001b[0;36m_step\u001b[1;34m(self, X, y, search_space, optimizer, groups, n_points)\u001b[0m\n\u001b[0;32m    577\u001b[0m         \u001b[0mrefit\u001b[0m \u001b[1;33m=\u001b[0m \u001b[0mself\u001b[0m\u001b[1;33m.\u001b[0m\u001b[0mrefit\u001b[0m\u001b[1;33m\u001b[0m\u001b[1;33m\u001b[0m\u001b[0m\n\u001b[0;32m    578\u001b[0m         \u001b[0mself\u001b[0m\u001b[1;33m.\u001b[0m\u001b[0mrefit\u001b[0m \u001b[1;33m=\u001b[0m \u001b[1;32mFalse\u001b[0m\u001b[1;33m\u001b[0m\u001b[1;33m\u001b[0m\u001b[0m\n\u001b[1;32m--> 579\u001b[1;33m         \u001b[0mself\u001b[0m\u001b[1;33m.\u001b[0m\u001b[0m_fit\u001b[0m\u001b[1;33m(\u001b[0m\u001b[0mX\u001b[0m\u001b[1;33m,\u001b[0m \u001b[0my\u001b[0m\u001b[1;33m,\u001b[0m \u001b[0mgroups\u001b[0m\u001b[1;33m,\u001b[0m \u001b[0mparams_dict\u001b[0m\u001b[1;33m)\u001b[0m\u001b[1;33m\u001b[0m\u001b[1;33m\u001b[0m\u001b[0m\n\u001b[0m\u001b[0;32m    580\u001b[0m         \u001b[0mself\u001b[0m\u001b[1;33m.\u001b[0m\u001b[0mrefit\u001b[0m \u001b[1;33m=\u001b[0m \u001b[0mrefit\u001b[0m\u001b[1;33m\u001b[0m\u001b[1;33m\u001b[0m\u001b[0m\n\u001b[0;32m    581\u001b[0m \u001b[1;33m\u001b[0m\u001b[0m\n",
      "\u001b[1;32m~\\anaconda3\\envs\\ML\\lib\\site-packages\\skopt\\searchcv.py\u001b[0m in \u001b[0;36m_fit\u001b[1;34m(self, X, y, groups, parameter_iterable)\u001b[0m\n\u001b[0;32m    421\u001b[0m                 \u001b[0merror_score\u001b[0m\u001b[1;33m=\u001b[0m\u001b[0mself\u001b[0m\u001b[1;33m.\u001b[0m\u001b[0merror_score\u001b[0m\u001b[1;33m\u001b[0m\u001b[1;33m\u001b[0m\u001b[0m\n\u001b[0;32m    422\u001b[0m             )\n\u001b[1;32m--> 423\u001b[1;33m             \u001b[1;32mfor\u001b[0m \u001b[0mparameters\u001b[0m \u001b[1;32min\u001b[0m \u001b[0mparameter_iterable\u001b[0m\u001b[1;33m\u001b[0m\u001b[1;33m\u001b[0m\u001b[0m\n\u001b[0m\u001b[0;32m    424\u001b[0m             for train, test in cv_iter)\n\u001b[0;32m    425\u001b[0m \u001b[1;33m\u001b[0m\u001b[0m\n",
      "\u001b[1;32m~\\anaconda3\\envs\\ML\\lib\\site-packages\\joblib\\parallel.py\u001b[0m in \u001b[0;36m__call__\u001b[1;34m(self, iterable)\u001b[0m\n\u001b[0;32m   1042\u001b[0m                 \u001b[0mself\u001b[0m\u001b[1;33m.\u001b[0m\u001b[0m_iterating\u001b[0m \u001b[1;33m=\u001b[0m \u001b[0mself\u001b[0m\u001b[1;33m.\u001b[0m\u001b[0m_original_iterator\u001b[0m \u001b[1;32mis\u001b[0m \u001b[1;32mnot\u001b[0m \u001b[1;32mNone\u001b[0m\u001b[1;33m\u001b[0m\u001b[1;33m\u001b[0m\u001b[0m\n\u001b[0;32m   1043\u001b[0m \u001b[1;33m\u001b[0m\u001b[0m\n\u001b[1;32m-> 1044\u001b[1;33m             \u001b[1;32mwhile\u001b[0m \u001b[0mself\u001b[0m\u001b[1;33m.\u001b[0m\u001b[0mdispatch_one_batch\u001b[0m\u001b[1;33m(\u001b[0m\u001b[0miterator\u001b[0m\u001b[1;33m)\u001b[0m\u001b[1;33m:\u001b[0m\u001b[1;33m\u001b[0m\u001b[1;33m\u001b[0m\u001b[0m\n\u001b[0m\u001b[0;32m   1045\u001b[0m                 \u001b[1;32mpass\u001b[0m\u001b[1;33m\u001b[0m\u001b[1;33m\u001b[0m\u001b[0m\n\u001b[0;32m   1046\u001b[0m \u001b[1;33m\u001b[0m\u001b[0m\n",
      "\u001b[1;32m~\\anaconda3\\envs\\ML\\lib\\site-packages\\joblib\\parallel.py\u001b[0m in \u001b[0;36mdispatch_one_batch\u001b[1;34m(self, iterator)\u001b[0m\n\u001b[0;32m    857\u001b[0m                 \u001b[1;32mreturn\u001b[0m \u001b[1;32mFalse\u001b[0m\u001b[1;33m\u001b[0m\u001b[1;33m\u001b[0m\u001b[0m\n\u001b[0;32m    858\u001b[0m             \u001b[1;32melse\u001b[0m\u001b[1;33m:\u001b[0m\u001b[1;33m\u001b[0m\u001b[1;33m\u001b[0m\u001b[0m\n\u001b[1;32m--> 859\u001b[1;33m                 \u001b[0mself\u001b[0m\u001b[1;33m.\u001b[0m\u001b[0m_dispatch\u001b[0m\u001b[1;33m(\u001b[0m\u001b[0mtasks\u001b[0m\u001b[1;33m)\u001b[0m\u001b[1;33m\u001b[0m\u001b[1;33m\u001b[0m\u001b[0m\n\u001b[0m\u001b[0;32m    860\u001b[0m                 \u001b[1;32mreturn\u001b[0m \u001b[1;32mTrue\u001b[0m\u001b[1;33m\u001b[0m\u001b[1;33m\u001b[0m\u001b[0m\n\u001b[0;32m    861\u001b[0m \u001b[1;33m\u001b[0m\u001b[0m\n",
      "\u001b[1;32m~\\anaconda3\\envs\\ML\\lib\\site-packages\\joblib\\parallel.py\u001b[0m in \u001b[0;36m_dispatch\u001b[1;34m(self, batch)\u001b[0m\n\u001b[0;32m    775\u001b[0m         \u001b[1;32mwith\u001b[0m \u001b[0mself\u001b[0m\u001b[1;33m.\u001b[0m\u001b[0m_lock\u001b[0m\u001b[1;33m:\u001b[0m\u001b[1;33m\u001b[0m\u001b[1;33m\u001b[0m\u001b[0m\n\u001b[0;32m    776\u001b[0m             \u001b[0mjob_idx\u001b[0m \u001b[1;33m=\u001b[0m \u001b[0mlen\u001b[0m\u001b[1;33m(\u001b[0m\u001b[0mself\u001b[0m\u001b[1;33m.\u001b[0m\u001b[0m_jobs\u001b[0m\u001b[1;33m)\u001b[0m\u001b[1;33m\u001b[0m\u001b[1;33m\u001b[0m\u001b[0m\n\u001b[1;32m--> 777\u001b[1;33m             \u001b[0mjob\u001b[0m \u001b[1;33m=\u001b[0m \u001b[0mself\u001b[0m\u001b[1;33m.\u001b[0m\u001b[0m_backend\u001b[0m\u001b[1;33m.\u001b[0m\u001b[0mapply_async\u001b[0m\u001b[1;33m(\u001b[0m\u001b[0mbatch\u001b[0m\u001b[1;33m,\u001b[0m \u001b[0mcallback\u001b[0m\u001b[1;33m=\u001b[0m\u001b[0mcb\u001b[0m\u001b[1;33m)\u001b[0m\u001b[1;33m\u001b[0m\u001b[1;33m\u001b[0m\u001b[0m\n\u001b[0m\u001b[0;32m    778\u001b[0m             \u001b[1;31m# A job can complete so quickly than its callback is\u001b[0m\u001b[1;33m\u001b[0m\u001b[1;33m\u001b[0m\u001b[1;33m\u001b[0m\u001b[0m\n\u001b[0;32m    779\u001b[0m             \u001b[1;31m# called before we get here, causing self._jobs to\u001b[0m\u001b[1;33m\u001b[0m\u001b[1;33m\u001b[0m\u001b[1;33m\u001b[0m\u001b[0m\n",
      "\u001b[1;32m~\\anaconda3\\envs\\ML\\lib\\site-packages\\joblib\\_parallel_backends.py\u001b[0m in \u001b[0;36mapply_async\u001b[1;34m(self, func, callback)\u001b[0m\n\u001b[0;32m    206\u001b[0m     \u001b[1;32mdef\u001b[0m \u001b[0mapply_async\u001b[0m\u001b[1;33m(\u001b[0m\u001b[0mself\u001b[0m\u001b[1;33m,\u001b[0m \u001b[0mfunc\u001b[0m\u001b[1;33m,\u001b[0m \u001b[0mcallback\u001b[0m\u001b[1;33m=\u001b[0m\u001b[1;32mNone\u001b[0m\u001b[1;33m)\u001b[0m\u001b[1;33m:\u001b[0m\u001b[1;33m\u001b[0m\u001b[1;33m\u001b[0m\u001b[0m\n\u001b[0;32m    207\u001b[0m         \u001b[1;34m\"\"\"Schedule a func to be run\"\"\"\u001b[0m\u001b[1;33m\u001b[0m\u001b[1;33m\u001b[0m\u001b[0m\n\u001b[1;32m--> 208\u001b[1;33m         \u001b[0mresult\u001b[0m \u001b[1;33m=\u001b[0m \u001b[0mImmediateResult\u001b[0m\u001b[1;33m(\u001b[0m\u001b[0mfunc\u001b[0m\u001b[1;33m)\u001b[0m\u001b[1;33m\u001b[0m\u001b[1;33m\u001b[0m\u001b[0m\n\u001b[0m\u001b[0;32m    209\u001b[0m         \u001b[1;32mif\u001b[0m \u001b[0mcallback\u001b[0m\u001b[1;33m:\u001b[0m\u001b[1;33m\u001b[0m\u001b[1;33m\u001b[0m\u001b[0m\n\u001b[0;32m    210\u001b[0m             \u001b[0mcallback\u001b[0m\u001b[1;33m(\u001b[0m\u001b[0mresult\u001b[0m\u001b[1;33m)\u001b[0m\u001b[1;33m\u001b[0m\u001b[1;33m\u001b[0m\u001b[0m\n",
      "\u001b[1;32m~\\anaconda3\\envs\\ML\\lib\\site-packages\\joblib\\_parallel_backends.py\u001b[0m in \u001b[0;36m__init__\u001b[1;34m(self, batch)\u001b[0m\n\u001b[0;32m    570\u001b[0m         \u001b[1;31m# Don't delay the application, to avoid keeping the input\u001b[0m\u001b[1;33m\u001b[0m\u001b[1;33m\u001b[0m\u001b[1;33m\u001b[0m\u001b[0m\n\u001b[0;32m    571\u001b[0m         \u001b[1;31m# arguments in memory\u001b[0m\u001b[1;33m\u001b[0m\u001b[1;33m\u001b[0m\u001b[1;33m\u001b[0m\u001b[0m\n\u001b[1;32m--> 572\u001b[1;33m         \u001b[0mself\u001b[0m\u001b[1;33m.\u001b[0m\u001b[0mresults\u001b[0m \u001b[1;33m=\u001b[0m \u001b[0mbatch\u001b[0m\u001b[1;33m(\u001b[0m\u001b[1;33m)\u001b[0m\u001b[1;33m\u001b[0m\u001b[1;33m\u001b[0m\u001b[0m\n\u001b[0m\u001b[0;32m    573\u001b[0m \u001b[1;33m\u001b[0m\u001b[0m\n\u001b[0;32m    574\u001b[0m     \u001b[1;32mdef\u001b[0m \u001b[0mget\u001b[0m\u001b[1;33m(\u001b[0m\u001b[0mself\u001b[0m\u001b[1;33m)\u001b[0m\u001b[1;33m:\u001b[0m\u001b[1;33m\u001b[0m\u001b[1;33m\u001b[0m\u001b[0m\n",
      "\u001b[1;32m~\\anaconda3\\envs\\ML\\lib\\site-packages\\joblib\\parallel.py\u001b[0m in \u001b[0;36m__call__\u001b[1;34m(self)\u001b[0m\n\u001b[0;32m    261\u001b[0m         \u001b[1;32mwith\u001b[0m \u001b[0mparallel_backend\u001b[0m\u001b[1;33m(\u001b[0m\u001b[0mself\u001b[0m\u001b[1;33m.\u001b[0m\u001b[0m_backend\u001b[0m\u001b[1;33m,\u001b[0m \u001b[0mn_jobs\u001b[0m\u001b[1;33m=\u001b[0m\u001b[0mself\u001b[0m\u001b[1;33m.\u001b[0m\u001b[0m_n_jobs\u001b[0m\u001b[1;33m)\u001b[0m\u001b[1;33m:\u001b[0m\u001b[1;33m\u001b[0m\u001b[1;33m\u001b[0m\u001b[0m\n\u001b[0;32m    262\u001b[0m             return [func(*args, **kwargs)\n\u001b[1;32m--> 263\u001b[1;33m                     for func, args, kwargs in self.items]\n\u001b[0m\u001b[0;32m    264\u001b[0m \u001b[1;33m\u001b[0m\u001b[0m\n\u001b[0;32m    265\u001b[0m     \u001b[1;32mdef\u001b[0m \u001b[0m__reduce__\u001b[0m\u001b[1;33m(\u001b[0m\u001b[0mself\u001b[0m\u001b[1;33m)\u001b[0m\u001b[1;33m:\u001b[0m\u001b[1;33m\u001b[0m\u001b[1;33m\u001b[0m\u001b[0m\n",
      "\u001b[1;32m~\\anaconda3\\envs\\ML\\lib\\site-packages\\joblib\\parallel.py\u001b[0m in \u001b[0;36m<listcomp>\u001b[1;34m(.0)\u001b[0m\n\u001b[0;32m    261\u001b[0m         \u001b[1;32mwith\u001b[0m \u001b[0mparallel_backend\u001b[0m\u001b[1;33m(\u001b[0m\u001b[0mself\u001b[0m\u001b[1;33m.\u001b[0m\u001b[0m_backend\u001b[0m\u001b[1;33m,\u001b[0m \u001b[0mn_jobs\u001b[0m\u001b[1;33m=\u001b[0m\u001b[0mself\u001b[0m\u001b[1;33m.\u001b[0m\u001b[0m_n_jobs\u001b[0m\u001b[1;33m)\u001b[0m\u001b[1;33m:\u001b[0m\u001b[1;33m\u001b[0m\u001b[1;33m\u001b[0m\u001b[0m\n\u001b[0;32m    262\u001b[0m             return [func(*args, **kwargs)\n\u001b[1;32m--> 263\u001b[1;33m                     for func, args, kwargs in self.items]\n\u001b[0m\u001b[0;32m    264\u001b[0m \u001b[1;33m\u001b[0m\u001b[0m\n\u001b[0;32m    265\u001b[0m     \u001b[1;32mdef\u001b[0m \u001b[0m__reduce__\u001b[0m\u001b[1;33m(\u001b[0m\u001b[0mself\u001b[0m\u001b[1;33m)\u001b[0m\u001b[1;33m:\u001b[0m\u001b[1;33m\u001b[0m\u001b[1;33m\u001b[0m\u001b[0m\n",
      "\u001b[1;32m~\\anaconda3\\envs\\ML\\lib\\site-packages\\sklearn\\model_selection\\_validation.py\u001b[0m in \u001b[0;36m_fit_and_score\u001b[1;34m(estimator, X, y, scorer, train, test, verbose, parameters, fit_params, return_train_score, return_parameters, return_n_test_samples, return_times, return_estimator, error_score)\u001b[0m\n\u001b[0;32m    529\u001b[0m             \u001b[0mestimator\u001b[0m\u001b[1;33m.\u001b[0m\u001b[0mfit\u001b[0m\u001b[1;33m(\u001b[0m\u001b[0mX_train\u001b[0m\u001b[1;33m,\u001b[0m \u001b[1;33m**\u001b[0m\u001b[0mfit_params\u001b[0m\u001b[1;33m)\u001b[0m\u001b[1;33m\u001b[0m\u001b[1;33m\u001b[0m\u001b[0m\n\u001b[0;32m    530\u001b[0m         \u001b[1;32melse\u001b[0m\u001b[1;33m:\u001b[0m\u001b[1;33m\u001b[0m\u001b[1;33m\u001b[0m\u001b[0m\n\u001b[1;32m--> 531\u001b[1;33m             \u001b[0mestimator\u001b[0m\u001b[1;33m.\u001b[0m\u001b[0mfit\u001b[0m\u001b[1;33m(\u001b[0m\u001b[0mX_train\u001b[0m\u001b[1;33m,\u001b[0m \u001b[0my_train\u001b[0m\u001b[1;33m,\u001b[0m \u001b[1;33m**\u001b[0m\u001b[0mfit_params\u001b[0m\u001b[1;33m)\u001b[0m\u001b[1;33m\u001b[0m\u001b[1;33m\u001b[0m\u001b[0m\n\u001b[0m\u001b[0;32m    532\u001b[0m \u001b[1;33m\u001b[0m\u001b[0m\n\u001b[0;32m    533\u001b[0m     \u001b[1;32mexcept\u001b[0m \u001b[0mException\u001b[0m \u001b[1;32mas\u001b[0m \u001b[0me\u001b[0m\u001b[1;33m:\u001b[0m\u001b[1;33m\u001b[0m\u001b[1;33m\u001b[0m\u001b[0m\n",
      "\u001b[1;32m~\\anaconda3\\envs\\ML\\lib\\site-packages\\pycaret\\internal\\pipeline.py\u001b[0m in \u001b[0;36mfit\u001b[1;34m(self, X, y, **fit_kwargs)\u001b[0m\n\u001b[0;32m    116\u001b[0m \u001b[1;33m\u001b[0m\u001b[0m\n\u001b[0;32m    117\u001b[0m     \u001b[1;32mdef\u001b[0m \u001b[0mfit\u001b[0m\u001b[1;33m(\u001b[0m\u001b[0mself\u001b[0m\u001b[1;33m,\u001b[0m \u001b[0mX\u001b[0m\u001b[1;33m,\u001b[0m \u001b[0my\u001b[0m\u001b[1;33m=\u001b[0m\u001b[1;32mNone\u001b[0m\u001b[1;33m,\u001b[0m \u001b[1;33m**\u001b[0m\u001b[0mfit_kwargs\u001b[0m\u001b[1;33m)\u001b[0m\u001b[1;33m:\u001b[0m\u001b[1;33m\u001b[0m\u001b[1;33m\u001b[0m\u001b[0m\n\u001b[1;32m--> 118\u001b[1;33m         \u001b[0mresult\u001b[0m \u001b[1;33m=\u001b[0m \u001b[0msuper\u001b[0m\u001b[1;33m(\u001b[0m\u001b[1;33m)\u001b[0m\u001b[1;33m.\u001b[0m\u001b[0mfit\u001b[0m\u001b[1;33m(\u001b[0m\u001b[0mX\u001b[0m\u001b[1;33m,\u001b[0m \u001b[0my\u001b[0m\u001b[1;33m=\u001b[0m\u001b[0my\u001b[0m\u001b[1;33m,\u001b[0m \u001b[1;33m**\u001b[0m\u001b[0mfit_kwargs\u001b[0m\u001b[1;33m)\u001b[0m\u001b[1;33m\u001b[0m\u001b[1;33m\u001b[0m\u001b[0m\n\u001b[0m\u001b[0;32m    119\u001b[0m \u001b[1;33m\u001b[0m\u001b[0m\n\u001b[0;32m    120\u001b[0m         \u001b[0mself\u001b[0m\u001b[1;33m.\u001b[0m\u001b[0m_carry_over_final_estimator_fit_vars\u001b[0m\u001b[1;33m(\u001b[0m\u001b[1;33m)\u001b[0m\u001b[1;33m\u001b[0m\u001b[1;33m\u001b[0m\u001b[0m\n",
      "\u001b[1;32m~\\anaconda3\\envs\\ML\\lib\\site-packages\\imblearn\\pipeline.py\u001b[0m in \u001b[0;36mfit\u001b[1;34m(self, X, y, **fit_params)\u001b[0m\n\u001b[0;32m    279\u001b[0m                                  self._log_message(len(self.steps) - 1)):\n\u001b[0;32m    280\u001b[0m             \u001b[1;32mif\u001b[0m \u001b[0mself\u001b[0m\u001b[1;33m.\u001b[0m\u001b[0m_final_estimator\u001b[0m \u001b[1;33m!=\u001b[0m \u001b[1;34m\"passthrough\"\u001b[0m\u001b[1;33m:\u001b[0m\u001b[1;33m\u001b[0m\u001b[1;33m\u001b[0m\u001b[0m\n\u001b[1;32m--> 281\u001b[1;33m                 \u001b[0mself\u001b[0m\u001b[1;33m.\u001b[0m\u001b[0m_final_estimator\u001b[0m\u001b[1;33m.\u001b[0m\u001b[0mfit\u001b[0m\u001b[1;33m(\u001b[0m\u001b[0mXt\u001b[0m\u001b[1;33m,\u001b[0m \u001b[0myt\u001b[0m\u001b[1;33m,\u001b[0m \u001b[1;33m**\u001b[0m\u001b[0mfit_params\u001b[0m\u001b[1;33m)\u001b[0m\u001b[1;33m\u001b[0m\u001b[1;33m\u001b[0m\u001b[0m\n\u001b[0m\u001b[0;32m    282\u001b[0m         \u001b[1;32mreturn\u001b[0m \u001b[0mself\u001b[0m\u001b[1;33m\u001b[0m\u001b[1;33m\u001b[0m\u001b[0m\n\u001b[0;32m    283\u001b[0m \u001b[1;33m\u001b[0m\u001b[0m\n",
      "\u001b[1;32m~\\anaconda3\\envs\\ML\\lib\\site-packages\\lightgbm\\sklearn.py\u001b[0m in \u001b[0;36mfit\u001b[1;34m(self, X, y, sample_weight, init_score, eval_set, eval_names, eval_sample_weight, eval_class_weight, eval_init_score, eval_metric, early_stopping_rounds, verbose, feature_name, categorical_feature, callbacks, init_model)\u001b[0m\n\u001b[0;32m    893\u001b[0m                     \u001b[0meval_metric\u001b[0m\u001b[1;33m=\u001b[0m\u001b[0meval_metric\u001b[0m\u001b[1;33m,\u001b[0m \u001b[0mearly_stopping_rounds\u001b[0m\u001b[1;33m=\u001b[0m\u001b[0mearly_stopping_rounds\u001b[0m\u001b[1;33m,\u001b[0m\u001b[1;33m\u001b[0m\u001b[1;33m\u001b[0m\u001b[0m\n\u001b[0;32m    894\u001b[0m                     \u001b[0mverbose\u001b[0m\u001b[1;33m=\u001b[0m\u001b[0mverbose\u001b[0m\u001b[1;33m,\u001b[0m \u001b[0mfeature_name\u001b[0m\u001b[1;33m=\u001b[0m\u001b[0mfeature_name\u001b[0m\u001b[1;33m,\u001b[0m \u001b[0mcategorical_feature\u001b[0m\u001b[1;33m=\u001b[0m\u001b[0mcategorical_feature\u001b[0m\u001b[1;33m,\u001b[0m\u001b[1;33m\u001b[0m\u001b[1;33m\u001b[0m\u001b[0m\n\u001b[1;32m--> 895\u001b[1;33m                     callbacks=callbacks, init_model=init_model)\n\u001b[0m\u001b[0;32m    896\u001b[0m         \u001b[1;32mreturn\u001b[0m \u001b[0mself\u001b[0m\u001b[1;33m\u001b[0m\u001b[1;33m\u001b[0m\u001b[0m\n\u001b[0;32m    897\u001b[0m \u001b[1;33m\u001b[0m\u001b[0m\n",
      "\u001b[1;32m~\\anaconda3\\envs\\ML\\lib\\site-packages\\lightgbm\\sklearn.py\u001b[0m in \u001b[0;36mfit\u001b[1;34m(self, X, y, sample_weight, init_score, group, eval_set, eval_names, eval_sample_weight, eval_class_weight, eval_init_score, eval_group, eval_metric, early_stopping_rounds, verbose, feature_name, categorical_feature, callbacks, init_model)\u001b[0m\n\u001b[0;32m    686\u001b[0m                               \u001b[0mevals_result\u001b[0m\u001b[1;33m=\u001b[0m\u001b[0mevals_result\u001b[0m\u001b[1;33m,\u001b[0m \u001b[0mfobj\u001b[0m\u001b[1;33m=\u001b[0m\u001b[0mself\u001b[0m\u001b[1;33m.\u001b[0m\u001b[0m_fobj\u001b[0m\u001b[1;33m,\u001b[0m \u001b[0mfeval\u001b[0m\u001b[1;33m=\u001b[0m\u001b[0meval_metrics_callable\u001b[0m\u001b[1;33m,\u001b[0m\u001b[1;33m\u001b[0m\u001b[1;33m\u001b[0m\u001b[0m\n\u001b[0;32m    687\u001b[0m                               \u001b[0mverbose_eval\u001b[0m\u001b[1;33m=\u001b[0m\u001b[0mverbose\u001b[0m\u001b[1;33m,\u001b[0m \u001b[0mfeature_name\u001b[0m\u001b[1;33m=\u001b[0m\u001b[0mfeature_name\u001b[0m\u001b[1;33m,\u001b[0m\u001b[1;33m\u001b[0m\u001b[1;33m\u001b[0m\u001b[0m\n\u001b[1;32m--> 688\u001b[1;33m                               callbacks=callbacks, init_model=init_model)\n\u001b[0m\u001b[0;32m    689\u001b[0m \u001b[1;33m\u001b[0m\u001b[0m\n\u001b[0;32m    690\u001b[0m         \u001b[1;32mif\u001b[0m \u001b[0mevals_result\u001b[0m\u001b[1;33m:\u001b[0m\u001b[1;33m\u001b[0m\u001b[1;33m\u001b[0m\u001b[0m\n",
      "\u001b[1;32m~\\anaconda3\\envs\\ML\\lib\\site-packages\\lightgbm\\engine.py\u001b[0m in \u001b[0;36mtrain\u001b[1;34m(params, train_set, num_boost_round, valid_sets, valid_names, fobj, feval, init_model, feature_name, categorical_feature, early_stopping_rounds, evals_result, verbose_eval, learning_rates, keep_training_booster, callbacks)\u001b[0m\n\u001b[0;32m    247\u001b[0m                                     evaluation_result_list=None))\n\u001b[0;32m    248\u001b[0m \u001b[1;33m\u001b[0m\u001b[0m\n\u001b[1;32m--> 249\u001b[1;33m         \u001b[0mbooster\u001b[0m\u001b[1;33m.\u001b[0m\u001b[0mupdate\u001b[0m\u001b[1;33m(\u001b[0m\u001b[0mfobj\u001b[0m\u001b[1;33m=\u001b[0m\u001b[0mfobj\u001b[0m\u001b[1;33m)\u001b[0m\u001b[1;33m\u001b[0m\u001b[1;33m\u001b[0m\u001b[0m\n\u001b[0m\u001b[0;32m    250\u001b[0m \u001b[1;33m\u001b[0m\u001b[0m\n\u001b[0;32m    251\u001b[0m         \u001b[0mevaluation_result_list\u001b[0m \u001b[1;33m=\u001b[0m \u001b[1;33m[\u001b[0m\u001b[1;33m]\u001b[0m\u001b[1;33m\u001b[0m\u001b[1;33m\u001b[0m\u001b[0m\n",
      "\u001b[1;32m~\\anaconda3\\envs\\ML\\lib\\site-packages\\lightgbm\\basic.py\u001b[0m in \u001b[0;36mupdate\u001b[1;34m(self, train_set, fobj)\u001b[0m\n\u001b[0;32m   2643\u001b[0m             _safe_call(_LIB.LGBM_BoosterUpdateOneIter(\n\u001b[0;32m   2644\u001b[0m                 \u001b[0mself\u001b[0m\u001b[1;33m.\u001b[0m\u001b[0mhandle\u001b[0m\u001b[1;33m,\u001b[0m\u001b[1;33m\u001b[0m\u001b[1;33m\u001b[0m\u001b[0m\n\u001b[1;32m-> 2645\u001b[1;33m                 ctypes.byref(is_finished)))\n\u001b[0m\u001b[0;32m   2646\u001b[0m             \u001b[0mself\u001b[0m\u001b[1;33m.\u001b[0m\u001b[0m__is_predicted_cur_iter\u001b[0m \u001b[1;33m=\u001b[0m \u001b[1;33m[\u001b[0m\u001b[1;32mFalse\u001b[0m \u001b[1;32mfor\u001b[0m \u001b[0m_\u001b[0m \u001b[1;32min\u001b[0m \u001b[0mrange\u001b[0m\u001b[1;33m(\u001b[0m\u001b[0mself\u001b[0m\u001b[1;33m.\u001b[0m\u001b[0m__num_dataset\u001b[0m\u001b[1;33m)\u001b[0m\u001b[1;33m]\u001b[0m\u001b[1;33m\u001b[0m\u001b[1;33m\u001b[0m\u001b[0m\n\u001b[0;32m   2647\u001b[0m             \u001b[1;32mreturn\u001b[0m \u001b[0mis_finished\u001b[0m\u001b[1;33m.\u001b[0m\u001b[0mvalue\u001b[0m \u001b[1;33m==\u001b[0m \u001b[1;36m1\u001b[0m\u001b[1;33m\u001b[0m\u001b[1;33m\u001b[0m\u001b[0m\n",
      "\u001b[1;31mKeyboardInterrupt\u001b[0m: "
     ]
    }
   ],
   "source": [
    "# Tune Top 6 models\n",
    "tuned_top6 = [tune_model(i, n_iter=10, search_library=\"optuna\", search_algorithm=\"tpe\") for i in top6]"
   ]
  },
  {
   "cell_type": "code",
   "execution_count": 25,
   "id": "e71553cd",
   "metadata": {
    "collapsed": true
   },
   "outputs": [
    {
     "ename": "NameError",
     "evalue": "name 'tuned_top6' is not defined",
     "output_type": "error",
     "traceback": [
      "\u001b[1;31m---------------------------------------------------------------------------\u001b[0m",
      "\u001b[1;31mNameError\u001b[0m                                 Traceback (most recent call last)",
      "\u001b[1;32m<ipython-input-25-b534510e808b>\u001b[0m in \u001b[0;36m<module>\u001b[1;34m\u001b[0m\n\u001b[0;32m      1\u001b[0m \u001b[1;31m# stacking\u001b[0m\u001b[1;33m\u001b[0m\u001b[1;33m\u001b[0m\u001b[1;33m\u001b[0m\u001b[0m\n\u001b[1;32m----> 2\u001b[1;33m \u001b[0mstacker\u001b[0m \u001b[1;33m=\u001b[0m \u001b[0mstack_models\u001b[0m\u001b[1;33m(\u001b[0m\u001b[0mtuned_top6\u001b[0m\u001b[1;33m)\u001b[0m\u001b[1;33m\u001b[0m\u001b[1;33m\u001b[0m\u001b[0m\n\u001b[0m",
      "\u001b[1;31mNameError\u001b[0m: name 'tuned_top6' is not defined"
     ]
    }
   ],
   "source": [
    "# stacking\n",
    "stacker = stack_models(estimator_list = tuned_top6[1:], meta_model=tuned_top6[0])"
   ]
  },
  {
   "cell_type": "code",
   "execution_count": null,
   "id": "fe82d9a6",
   "metadata": {},
   "outputs": [],
   "source": [
    "# blending\n",
    "blender = blend_models(tuned_top6)"
   ]
  },
  {
   "cell_type": "code",
   "execution_count": 13,
   "id": "75301ddf",
   "metadata": {
    "collapsed": true
   },
   "outputs": [
    {
     "ename": "ValueError",
     "evalue": "max() arg is an empty sequence",
     "output_type": "error",
     "traceback": [
      "\u001b[1;31m---------------------------------------------------------------------------\u001b[0m",
      "\u001b[1;31mValueError\u001b[0m                                Traceback (most recent call last)",
      "\u001b[1;32m<ipython-input-13-f4420bb6fc44>\u001b[0m in \u001b[0;36m<module>\u001b[1;34m\u001b[0m\n\u001b[0;32m      1\u001b[0m \u001b[1;31m# select best model\u001b[0m\u001b[1;33m\u001b[0m\u001b[1;33m\u001b[0m\u001b[1;33m\u001b[0m\u001b[0m\n\u001b[1;32m----> 2\u001b[1;33m \u001b[0mbest\u001b[0m \u001b[1;33m=\u001b[0m \u001b[0mautoml\u001b[0m\u001b[1;33m(\u001b[0m\u001b[0moptimize\u001b[0m \u001b[1;33m=\u001b[0m \u001b[1;34m'AUC'\u001b[0m\u001b[1;33m)\u001b[0m\u001b[1;33m\u001b[0m\u001b[1;33m\u001b[0m\u001b[0m\n\u001b[0m",
      "\u001b[1;32m~\\anaconda3\\envs\\ML\\lib\\site-packages\\pycaret\\classification.py\u001b[0m in \u001b[0;36mautoml\u001b[1;34m(optimize, use_holdout)\u001b[0m\n\u001b[0;32m   2217\u001b[0m \u001b[1;33m\u001b[0m\u001b[0m\n\u001b[0;32m   2218\u001b[0m     \"\"\"\n\u001b[1;32m-> 2219\u001b[1;33m     \u001b[1;32mreturn\u001b[0m \u001b[0mpycaret\u001b[0m\u001b[1;33m.\u001b[0m\u001b[0minternal\u001b[0m\u001b[1;33m.\u001b[0m\u001b[0mtabular\u001b[0m\u001b[1;33m.\u001b[0m\u001b[0mautoml\u001b[0m\u001b[1;33m(\u001b[0m\u001b[0moptimize\u001b[0m\u001b[1;33m=\u001b[0m\u001b[0moptimize\u001b[0m\u001b[1;33m,\u001b[0m \u001b[0muse_holdout\u001b[0m\u001b[1;33m=\u001b[0m\u001b[0muse_holdout\u001b[0m\u001b[1;33m)\u001b[0m\u001b[1;33m\u001b[0m\u001b[1;33m\u001b[0m\u001b[0m\n\u001b[0m\u001b[0;32m   2220\u001b[0m \u001b[1;33m\u001b[0m\u001b[0m\n\u001b[0;32m   2221\u001b[0m \u001b[1;33m\u001b[0m\u001b[0m\n",
      "\u001b[1;32m~\\anaconda3\\envs\\ML\\lib\\site-packages\\pycaret\\internal\\tabular.py\u001b[0m in \u001b[0;36mautoml\u001b[1;34m(optimize, use_holdout)\u001b[0m\n\u001b[0;32m   9111\u001b[0m     \u001b[1;31m# returning better model\u001b[0m\u001b[1;33m\u001b[0m\u001b[1;33m\u001b[0m\u001b[1;33m\u001b[0m\u001b[0m\n\u001b[0;32m   9112\u001b[0m     \u001b[1;32mif\u001b[0m \u001b[0mgreater_is_better\u001b[0m\u001b[1;33m:\u001b[0m\u001b[1;33m\u001b[0m\u001b[1;33m\u001b[0m\u001b[0m\n\u001b[1;32m-> 9113\u001b[1;33m         \u001b[0mindex_scorer\u001b[0m \u001b[1;33m=\u001b[0m \u001b[0mscorer\u001b[0m\u001b[1;33m.\u001b[0m\u001b[0mindex\u001b[0m\u001b[1;33m(\u001b[0m\u001b[0mmax\u001b[0m\u001b[1;33m(\u001b[0m\u001b[0mscorer\u001b[0m\u001b[1;33m)\u001b[0m\u001b[1;33m)\u001b[0m\u001b[1;33m\u001b[0m\u001b[1;33m\u001b[0m\u001b[0m\n\u001b[0m\u001b[0;32m   9114\u001b[0m     \u001b[1;32melse\u001b[0m\u001b[1;33m:\u001b[0m\u001b[1;33m\u001b[0m\u001b[1;33m\u001b[0m\u001b[0m\n\u001b[0;32m   9115\u001b[0m         \u001b[0mindex_scorer\u001b[0m \u001b[1;33m=\u001b[0m \u001b[0mscorer\u001b[0m\u001b[1;33m.\u001b[0m\u001b[0mindex\u001b[0m\u001b[1;33m(\u001b[0m\u001b[0mmin\u001b[0m\u001b[1;33m(\u001b[0m\u001b[0mscorer\u001b[0m\u001b[1;33m)\u001b[0m\u001b[1;33m)\u001b[0m\u001b[1;33m\u001b[0m\u001b[1;33m\u001b[0m\u001b[0m\n",
      "\u001b[1;31mValueError\u001b[0m: max() arg is an empty sequence"
     ]
    }
   ],
   "source": [
    "# select best model \n",
    "best = automl(optimize = 'logloss')\n",
    "print(best)"
   ]
  },
  {
   "cell_type": "code",
   "execution_count": null,
   "id": "6eb13415",
   "metadata": {},
   "outputs": [],
   "source": [
    "# save best, stacking, blending and top6 model\n",
    "save_model(best, model_name=PROJECT_NAME)\n",
    "save_model(stacker, model_name=PROJECT_NAME + '_stacking')\n",
    "save_model(blender, model_name=PROJECT_NAME + '_blending')\n",
    "save_model(tuned_top6, model_name=PROJECT_NAME + '_top6')"
   ]
  },
  {
   "cell_type": "code",
   "execution_count": null,
   "id": "5906ac55",
   "metadata": {},
   "outputs": [],
   "source": [
    "# load best model\n",
    "best = load_model(PROJECT_NAME)"
   ]
  },
  {
   "cell_type": "code",
   "execution_count": null,
   "id": "c9a94a7a",
   "metadata": {},
   "outputs": [],
   "source": [
    "# predict probability\n",
    "result = predict_model(best, data=df_test, raw_score=True)"
   ]
  },
  {
   "cell_type": "code",
   "execution_count": null,
   "id": "ef61f9df",
   "metadata": {},
   "outputs": [],
   "source": [
    "# submission\n",
    "sub = pd.read_csv('sample_submission.csv')\n",
    "sub[sub.columns[1:]] = result.iloc[:, -4:]\n",
    "sub.to_csv(f'{PROJECT_NAME}.csv', index=False)"
   ]
  }
 ],
 "metadata": {
  "kernelspec": {
   "display_name": "Python 3",
   "language": "python",
   "name": "python3"
  },
  "language_info": {
   "codemirror_mode": {
    "name": "ipython",
    "version": 3
   },
   "file_extension": ".py",
   "mimetype": "text/x-python",
   "name": "python",
   "nbconvert_exporter": "python",
   "pygments_lexer": "ipython3",
   "version": "3.7.9"
  }
 },
 "nbformat": 4,
 "nbformat_minor": 5
}
