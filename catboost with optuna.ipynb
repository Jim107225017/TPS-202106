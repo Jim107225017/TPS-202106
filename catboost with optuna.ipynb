{
 "cells": [
  {
   "cell_type": "code",
   "execution_count": 1,
   "id": "bc312cb5",
   "metadata": {},
   "outputs": [
    {
     "name": "stdout",
     "output_type": "stream",
     "text": [
      "Mon Jun  7 21:42:12 2021       \n",
      "+-----------------------------------------------------------------------------+\n",
      "| NVIDIA-SMI 462.31       Driver Version: 462.31       CUDA Version: 11.2     |\n",
      "|-------------------------------+----------------------+----------------------+\n",
      "| GPU  Name            TCC/WDDM | Bus-Id        Disp.A | Volatile Uncorr. ECC |\n",
      "| Fan  Temp  Perf  Pwr:Usage/Cap|         Memory-Usage | GPU-Util  Compute M. |\n",
      "|                               |                      |               MIG M. |\n",
      "|===============================+======================+======================|\n",
      "|   0  GeForce MX250      WDDM  | 00000000:02:00.0 Off |                  N/A |\n",
      "| N/A   48C    P8    N/A /  N/A |     64MiB /  2048MiB |      0%      Default |\n",
      "|                               |                      |                  N/A |\n",
      "+-------------------------------+----------------------+----------------------+\n",
      "                                                                               \n",
      "+-----------------------------------------------------------------------------+\n",
      "| Processes:                                                                  |\n",
      "|  GPU   GI   CI        PID   Type   Process name                  GPU Memory |\n",
      "|        ID   ID                                                   Usage      |\n",
      "|=============================================================================|\n",
      "|    0   N/A  N/A      6080      C   ...conda3\\envs\\ML\\python.exe    N/A      |\n",
      "|    0   N/A  N/A     30012      C   ...conda3\\envs\\ML\\python.exe    N/A      |\n",
      "+-----------------------------------------------------------------------------+\n"
     ]
    }
   ],
   "source": [
    "# Check GPU version\n",
    "!nvidia-smi"
   ]
  },
  {
   "cell_type": "code",
   "execution_count": null,
   "id": "e88ef8d7",
   "metadata": {},
   "outputs": [],
   "source": [
    "# install packages\n",
    "!pip install catboost\n",
    "!pip install optuna\n",
    "!pip install wandb"
   ]
  },
  {
   "cell_type": "code",
   "execution_count": null,
   "id": "a11ea285",
   "metadata": {},
   "outputs": [],
   "source": [
    "# 即時監控colab資源\n",
    "import wandb\n",
    "\n",
    "# connect with jim107225017/colab/20210526\n",
    "run = wandb.init(project='colab', entity='jim107225017', name='CPU_GPU', id='20210526')"
   ]
  },
  {
   "cell_type": "code",
   "execution_count": 3,
   "id": "db592175",
   "metadata": {},
   "outputs": [],
   "source": [
    "# import packages\n",
    "import os\n",
    "import numpy as np\n",
    "import pandas as pd\n",
    "\n",
    "# Optuna\n",
    "import optuna\n",
    "from optuna.samplers import TPESampler   # TPE (Tree-structured Parzen Estimator) sampler\n",
    "from optuna.integration import SkoptSampler   # Scikit-Optimize sampler\n",
    "from optuna.pruners import SuccessiveHalvingPruner   # ASHA : 剪枝演算法，防止over-fitting\n",
    "\n",
    "import catboost\n",
    "from catboost import CatBoostClassifier\n",
    "\n",
    "from sklearn.metrics import log_loss\n",
    "from sklearn.model_selection import train_test_split, StratifiedKFold\n",
    "from sklearn.preprocessing import LabelEncoder, StandardScaler, MinMaxScaler\n",
    "from joblib import load, dump"
   ]
  },
  {
   "cell_type": "code",
   "execution_count": 4,
   "id": "bae34507",
   "metadata": {},
   "outputs": [],
   "source": [
    "# # connect with Google Cloud\n",
    "# from google.colab import drive\n",
    "# drive.mount('/content/drive')\n",
    "# path = \"/content/drive/My Drive/colab/TPS Jun\"\n",
    "path = r'C:\\Users\\Chen\\Desktop\\Kaggle\\Classifier\\Tabular Playground Series - Jun 2021'\n",
    "os.chdir(path)"
   ]
  },
  {
   "cell_type": "code",
   "execution_count": 5,
   "id": "2a33bd1a",
   "metadata": {},
   "outputs": [],
   "source": [
    "# load data\n",
    "df_train = pd.read_csv('train.csv')\n",
    "df_test = pd.read_csv('test.csv')"
   ]
  },
  {
   "cell_type": "code",
   "execution_count": 6,
   "id": "8993a5c2",
   "metadata": {},
   "outputs": [],
   "source": [
    "cat_col = [i for i in df_train.columns if i not in ['id', 'target']]\n",
    "target_col = 'target'\n",
    "\n",
    "x = df_train[cat_col]\n",
    "x_test = df_test[cat_col]\n",
    "\n",
    "# Label Y\n",
    "le = LabelEncoder()\n",
    "y = le.fit_transform(df_train[target_col])\n",
    "y = pd.DataFrame(y, columns = [target_col])"
   ]
  },
  {
   "cell_type": "code",
   "execution_count": 7,
   "id": "fa9a85be",
   "metadata": {},
   "outputs": [],
   "source": [
    "# Optuna\n",
    "PROJECT_NAME = 'catboost(optuna)-20210605'\n",
    "SEED = 20210605\n",
    "\n",
    "sampler = TPESampler(seed=SEED)\n",
    "# sampler = SkoptSampler()\n",
    "\n",
    "pruner = SuccessiveHalvingPruner()\n",
    "\n",
    "def objective(trial, kaggle_metrics='LogLoss', predic_proba=True):\n",
    "    train_x, valid_x, train_y, valid_y = train_test_split(x, y, test_size=0.2, random_state=SEED, shuffle=True, stratify=y)\n",
    "    \n",
    "    params = {'objective': 'MultiClass',\n",
    "              'eval_metric': 'MultiClass',\n",
    "              'n_estimators': trial.suggest_int(\"iterations\", 100, 20000),\n",
    "              'learning_rate': trial.suggest_uniform('learning_rate', 0.01, 1),\n",
    "              'random_state': SEED,\n",
    "              'reg_lambda': trial.suggest_uniform('reg_lambda', 1e-3, 10),\n",
    "              'bootstrap_type': 'Bernoulli',\n",
    "              'subsample': trial.suggest_uniform('subsample', 0, 1),\n",
    "              'random_strength': trial.suggest_uniform('random_strength', 1, 50),\n",
    "              'max_depth': trial.suggest_int('max_depth', 1, 15),\n",
    "              'min_child_samples': trial.suggest_int('min_child_samples', 1, 30),\n",
    "              # 'num_leaves': trial.suggest_int('num_leaves', 10, 200),\n",
    "              # 'colsample_bylevel': trial.suggest_uniform('colsample_bylevel', 0, 1),\n",
    "              'leaf_estimation_method': 'Newton',\n",
    "              'leaf_estimation_iterations': trial.suggest_int('leaf_estimation_iterations', 1, 5),\n",
    "              'task_type': \"GPU\",\n",
    "              'od_wait':trial.suggest_int('od_wait', 100, 1000),\n",
    "             }\n",
    "\n",
    "    clf = CatBoostClassifier(**params)\n",
    "    clf.fit(train_x, train_y,\n",
    "              eval_set=[(valid_x, valid_y)],\n",
    "              early_stopping_rounds=100,\n",
    "              verbose=False, cat_features=cat_col)\n",
    "    \n",
    "    if predic_proba:\n",
    "        preds = clf.predict_proba(valid_x)\n",
    "        preds = np.float64(preds)\n",
    "    else:\n",
    "        preds = clf.predict(valid_x)\n",
    "    \n",
    "    if kaggle_metrics == 'LogLoss':\n",
    "        result = log_loss(valid_y, preds)\n",
    "    elif kaggle_metrics == 'AUC':\n",
    "        result = roc_auc_score(valid_y, preds)\n",
    "    elif kaggle_metrics == 'Acc':\n",
    "        result = accuracy_score(valid_y, preds)\n",
    "    \n",
    "    return result\n"
   ]
  },
  {
   "cell_type": "code",
   "execution_count": null,
   "id": "325ea4d3",
   "metadata": {},
   "outputs": [],
   "source": [
    "OPTUNA_OPTIMIZATION = True\n",
    "\n",
    "study = optuna.create_study(direction='minimize', \n",
    "                            sampler=sampler, \n",
    "                            pruner=pruner, \n",
    "                            study_name=PROJECT_NAME,\n",
    "                           )\n",
    "\n",
    "study.optimize(objective, \n",
    "               n_trials=100, \n",
    "               timeout=3*60*60,   # in seconds\n",
    "              )\n",
    "\n",
    "print('Number of finished trials:', len(study.trials))\n",
    "print('Best trial: score {}, params {}'.format(study.best_trial.value, study.best_trial.params))"
   ]
  },
  {
   "cell_type": "code",
   "execution_count": 8,
   "id": "ee27226d",
   "metadata": {},
   "outputs": [],
   "source": [
    "# create best model\n",
    "# best_params = study.best_trial.params\n",
    "\n",
    "OPTUNA_OPTIMIZATION = True\n",
    "best_params = {}\n",
    "best_params['objective'] = 'MultiClass'\n",
    "best_params['eval_metric'] = 'MultiClass'\n",
    "best_params['n_estimators'] = 11270\n",
    "best_params['learning_rate'] = 0.012538702605499273\n",
    "best_params['random_state'] = SEED\n",
    "best_params['reg_lambda'] = 4.505572761446656\n",
    "best_params['bootstrap_type'] = 'Bernoulli'\n",
    "best_params['subsample'] = 0.3309772177208782\n",
    "best_params['random_strength'] = 33.35555891366271\n",
    "best_params['max_depth'] = 7\n",
    "best_params['min_child_samples'] = 16\n",
    "# best_params['num_leaves'] = int\n",
    "# best_params['colsample_bylevel']  = float\n",
    "best_params['leaf_estimation_method'] = 'Newton'\n",
    "best_params['leaf_estimation_iterations'] = 2\n",
    "best_params['task_type'] = 'GPU'\n",
    "best_params['od_wait'] = 620"
   ]
  },
  {
   "cell_type": "code",
   "execution_count": null,
   "id": "b62b7b79",
   "metadata": {},
   "outputs": [],
   "source": [
    "if OPTUNA_OPTIMIZATION:\n",
    "    display(optuna.visualization.plot_optimization_history(study))\n",
    "    display(optuna.visualization.plot_slice(study))\n",
    "    display(optuna.visualization.plot_parallel_coordinate(study))"
   ]
  },
  {
   "cell_type": "code",
   "execution_count": null,
   "id": "964552ca",
   "metadata": {},
   "outputs": [],
   "source": [
    "if OPTUNA_OPTIMIZATION:\n",
    "    display(study.trials_dataframe())"
   ]
  },
  {
   "cell_type": "code",
   "execution_count": 9,
   "id": "e4846c48",
   "metadata": {},
   "outputs": [],
   "source": [
    "if OPTUNA_OPTIMIZATION:\n",
    "    final_model = CatBoostClassifier(**best_params)\n",
    "else:\n",
    "    final_model = CatBoostClassifier(**trial)"
   ]
  },
  {
   "cell_type": "code",
   "execution_count": 10,
   "id": "f3bf1622",
   "metadata": {},
   "outputs": [
    {
     "name": "stdout",
     "output_type": "stream",
     "text": [
      "--------------------------------------------------\n",
      "Fold 1\n",
      "1.7446199763650154\n",
      "--------------------------------------------------\n",
      "Fold 2\n",
      "1.7455542354685971\n",
      "--------------------------------------------------\n",
      "Fold 3\n",
      "1.7432171049140557\n",
      "--------------------------------------------------\n",
      "Fold 4\n",
      "1.7414502095901634\n",
      "--------------------------------------------------\n",
      "Fold 5\n",
      "1.7507673705642925\n",
      "--------------------------------------------------\n",
      "Fold 6\n",
      "1.7422203750245349\n",
      "--------------------------------------------------\n",
      "Fold 7\n",
      "1.7482563245308804\n",
      "--------------------------------------------------\n",
      "Fold 8\n",
      "1.7509424811203258\n",
      "--------------------------------------------------\n",
      "Fold 9\n",
      "1.7484846351362244\n",
      "--------------------------------------------------\n",
      "Fold 10\n",
      "1.7525987872072306\n",
      "--------------------------------------------------\n"
     ]
    }
   ],
   "source": [
    "test_preds=None\n",
    "KFOLD = 10\n",
    "\n",
    "kf = StratifiedKFold(n_splits = KFOLD , shuffle = True , random_state = SEED)\n",
    "for fold, (tr_index , val_index) in enumerate(kf.split(x.values , y.values)):\n",
    "    \n",
    "    print(\"-\" * 50)\n",
    "    print(f\"Fold {fold + 1}\")\n",
    "    \n",
    "    x_train , x_val = x.values[tr_index] , x.values[val_index]\n",
    "    y_train , y_val = y.values[tr_index] , y.values[val_index]\n",
    "        \n",
    "    eval_set = [(x_val, y_val)]\n",
    "    \n",
    "    model = final_model\n",
    "    model.fit(x_train, y_train, eval_set = eval_set, early_stopping_rounds=100, verbose = False)\n",
    "    dump(model, f'{PROJECT_NAME}_{fold+1}.joblib', compress = 3)\n",
    "    \n",
    "    # train_preds = model.predict(x_train)    \n",
    "    val_preds = model.predict_proba(x_val)\n",
    "    \n",
    "    print(log_loss(y_val, val_preds))\n",
    "    \n",
    "    if test_preds is None:\n",
    "        test_preds = model.predict_proba(x_test.values)\n",
    "    else:\n",
    "        test_preds += model.predict_proba(x_test.values)\n",
    "\n",
    "print(\"-\" * 50)\n",
    "test_preds /= KFOLD"
   ]
  },
  {
   "cell_type": "code",
   "execution_count": 13,
   "id": "4dbde44a",
   "metadata": {},
   "outputs": [],
   "source": [
    "# submission\n",
    "sub = pd.read_csv('sample_submission.csv')\n",
    "sub[sub.columns[1:]] = test_preds\n",
    "sub.to_csv(f'{PROJECT_NAME}.csv', index=False)"
   ]
  },
  {
   "cell_type": "code",
   "execution_count": null,
   "id": "e6e9c62a",
   "metadata": {},
   "outputs": [],
   "source": [
    "run.finish()"
   ]
  }
 ],
 "metadata": {
  "kernelspec": {
   "display_name": "Python 3",
   "language": "python",
   "name": "python3"
  },
  "language_info": {
   "codemirror_mode": {
    "name": "ipython",
    "version": 3
   },
   "file_extension": ".py",
   "mimetype": "text/x-python",
   "name": "python",
   "nbconvert_exporter": "python",
   "pygments_lexer": "ipython3",
   "version": "3.7.9"
  }
 },
 "nbformat": 4,
 "nbformat_minor": 5
}
