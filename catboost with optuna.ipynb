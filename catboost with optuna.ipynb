{
 "cells": [
  {
   "cell_type": "code",
   "execution_count": null,
   "id": "85ceadc9",
   "metadata": {},
   "outputs": [],
   "source": [
    "# Check GPU version\n",
    "!nvidia-smi"
   ]
  },
  {
   "cell_type": "code",
   "execution_count": null,
   "id": "3616456b",
   "metadata": {},
   "outputs": [],
   "source": [
    "# install packages\n",
    "!pip install catboost\n",
    "!pip install optuna\n",
    "!pip install wandb"
   ]
  },
  {
   "cell_type": "code",
   "execution_count": null,
   "id": "2f8a6a7c",
   "metadata": {},
   "outputs": [],
   "source": [
    "# 即時監控colab資源\n",
    "import wandb\n",
    "\n",
    "# connect with jim107225017/colab/20210526\n",
    "wandb.init(project='colab', entity='jim107225017', name='CPU_GPU', id='20210526')"
   ]
  },
  {
   "cell_type": "code",
   "execution_count": null,
   "id": "ad13ddf3",
   "metadata": {},
   "outputs": [],
   "source": [
    "# import packages\n",
    "import os\n",
    "import numpy as np\n",
    "import pandas as pd\n",
    "\n",
    "# Optuna\n",
    "import optuna\n",
    "from optuna.samplers import TPESampler\n",
    "\n",
    "import catboost\n",
    "from catboost import CatBoostClassifier\n",
    "\n",
    "from sklearn.metrics import log_loss\n",
    "from sklearn.model_selection import train_test_split\n",
    "from sklearn.preprocessing import LabelEncoder, StandardScaler, MinMaxScaler\n",
    "from joblib import load, dump\n",
    "\n",
    "def check_gpu_support():\n",
    "    try:\n",
    "        data = np.random.rand(1000, 10)\n",
    "        label = np.random.randint(2, size=1000)\n",
    "        train_data = lightgbm.Dataset(data, label=label)\n",
    "        params = {'device': 'gpu'}\n",
    "        gbm = lightgbm.train(params, train_set=train_data)\n",
    "        return True\n",
    "    except Exception as e:\n",
    "        return False\n",
    "\n",
    "print(check_gpu_support())"
   ]
  },
  {
   "cell_type": "code",
   "execution_count": null,
   "id": "69b7cf92",
   "metadata": {},
   "outputs": [],
   "source": [
    "# connect with Google Cloud\n",
    "from google.colab import drive\n",
    "drive.mount('/content/drive')\n",
    "path = \"/content/drive/My Drive/colab/TPS Jun\"\n",
    "# path = r'C:\\Users\\Chen\\Desktop\\Kaggle\\Classifier\\Tabular Playground Series - Jun 2021'\n",
    "os.chdir(path)"
   ]
  },
  {
   "cell_type": "code",
   "execution_count": null,
   "id": "9a212a6c",
   "metadata": {},
   "outputs": [],
   "source": [
    "# load data\n",
    "df_train = pd.read_csv('train.csv')\n",
    "df_test = pd.read_csv('test.csv')"
   ]
  },
  {
   "cell_type": "code",
   "execution_count": null,
   "id": "e70e1105",
   "metadata": {},
   "outputs": [],
   "source": [
    "cat_col = [i for i in all_data.columns if i not in ['id', 'target']]\n",
    "target_col = 'target'\n",
    "\n",
    "x = df_train[cat_col]\n",
    "\n",
    "# Label Y\n",
    "le = LabelEncoder()\n",
    "y = le.fit_transform(df_train[target_col])"
   ]
  },
  {
   "cell_type": "code",
   "execution_count": null,
   "id": "b7b04a4a",
   "metadata": {},
   "outputs": [],
   "source": [
    "# Optuna\n",
    "SEED = 20210605\n",
    "sampler = TPESampler(seed=SEED)\n",
    "\n",
    "def objective(trial, kaggle_metrics='LogLoss', predic_proba=True):\n",
    "    train_x, valid_x, train_y, valid_y = train_test_split(x, y, test_size=0.2, random_state=SEED, shuffle=True, stratify=y)\n",
    "    \n",
    "    params = {'iterations':trial.suggest_int(\"iterations\", 4000, 25000),\n",
    "              'od_wait':trial.suggest_int('od_wait', 500, 2300),\n",
    "              'loss_function':'MultiClass',\n",
    "              'task_type':\"GPU\",\n",
    "              'eval_metric':'MultiClass',\n",
    "              'leaf_estimation_method':'Newton',\n",
    "              'bootstrap_type': 'Bernoulli',\n",
    "              'random_seed': SEED,\n",
    "              'learning_rate' : trial.suggest_uniform('learning_rate',0.005,1),\n",
    "              'reg_lambda': trial.suggest_uniform('reg_lambda',1e-5,100),\n",
    "              'subsample': trial.suggest_uniform('subsample',0,1),\n",
    "              'random_strength': trial.suggest_uniform('random_strength',10,50),\n",
    "              'depth': trial.suggest_int('depth',1,15),\n",
    "              'min_data_in_leaf': trial.suggest_int('min_data_in_leaf',1,30),\n",
    "              'leaf_estimation_iterations': trial.suggest_int('leaf_estimation_iterations',1,15),\n",
    "             }\n",
    "\n",
    "    clf = CatBoostClassifier(**param)\n",
    "    clf.fit(train_x, train_y,\n",
    "              eval_set=[(valid_x, valid_y)],\n",
    "              early_stopping_rounds=100,\n",
    "              verbose=False, cat_features=cat_col)\n",
    "    \n",
    "    if predic_proba:\n",
    "        preds = clf.predict_proba(valid_x)\n",
    "        preds = np.float64(preds)\n",
    "    else:\n",
    "        preds = clf.predict(valid_x)\n",
    "    \n",
    "    if kaggle_metrics == 'LogLoss':\n",
    "        result = log_loss(valid_y, preds)\n",
    "    elif kaggle_metrics == 'AUC':\n",
    "        result = roc_auc_score(valid_y, preds)\n",
    "    elif kaggle_metrics == 'Acc':\n",
    "        result = accuracy_score(valid_y, preds)\n",
    "    \n",
    "    return result\n"
   ]
  },
  {
   "cell_type": "code",
   "execution_count": null,
   "id": "a89b3a3a",
   "metadata": {},
   "outputs": [],
   "source": [
    "OPTUNA_OPTIMIZATION = True\n",
    "\n",
    "study = optuna.create_study(direction='minimize')\n",
    "study.optimize(objective, n_trials=100)\n",
    "print('Number of finished trials:', len(study.trials))\n",
    "print('Best trial: score {}, params {}'.format(study.best_trial.value, study.best_trial.params))"
   ]
  },
  {
   "cell_type": "code",
   "execution_count": null,
   "id": "dd1c1162",
   "metadata": {},
   "outputs": [],
   "source": [
    "if OPTUNA_OPTIMIZATION:\n",
    "    display(optuna.visualization.plot_optimization_history(study))\n",
    "    display(optuna.visualization.plot_slice(study))\n",
    "    display(optuna.visualization.plot_parallel_coordinate(study))"
   ]
  },
  {
   "cell_type": "code",
   "execution_count": null,
   "id": "9561acbe",
   "metadata": {},
   "outputs": [],
   "source": [
    "# create best model\n",
    "best_param = study.best_trial.params\n",
    "print(best_param)\n",
    "best_model = LGBMRegressor(**best_param)\n",
    "\n",
    "# save best model\n",
    "PROJECT_NAME = 'catboost(optuna)-20210605'\n",
    "dump(best_model, f'{PROJECT_NAME}.joblib')"
   ]
  },
  {
   "cell_type": "code",
   "execution_count": null,
   "id": "d6ca5a41",
   "metadata": {},
   "outputs": [],
   "source": [
    "test_preds=None\n",
    "\n",
    "kf = StratifiedKFold(n_splits = 10 , shuffle = True , random_state = 42)\n",
    "for fold, (tr_index , val_index) in enumerate(kf.split(X.values , Y.values)):\n",
    "    \n",
    "    print(\"-\" * 50)\n",
    "    print(f\"Fold {fold + 1}\")\n",
    "    \n",
    "    x_train,x_val = X.values[tr_index] , X.values[val_index]\n",
    "    y_train,y_val = Y.values[tr_index] , Y.values[val_index]\n",
    "        \n",
    "    eval_set = [(x_val, y_val)]\n",
    "    \n",
    "    model =CatBoostClassifier(**cat_params)\n",
    "    model.fit(x_train, y_train, eval_set = eval_set, verbose = False)\n",
    "    \n",
    "    train_preds = model.predict(x_train)    \n",
    "    val_preds = model.predict_proba(x_val)\n",
    "    \n",
    "    print(log_loss(y_val, val_preds))\n",
    "    \n",
    "    if test_preds is None:\n",
    "        test_preds = model.predict_proba(test[cols].values)\n",
    "    else:\n",
    "        test_preds += model.predict_proba(test[cols].values)\n",
    "\n",
    "print(\"-\" * 50)\n",
    "test_preds /= 10"
   ]
  },
  {
   "cell_type": "code",
   "execution_count": null,
   "id": "c002f5ad",
   "metadata": {},
   "outputs": [],
   "source": [
    "# load best model\n",
    "best_model = load(f'{PROJECT_NAME}.joblib')"
   ]
  },
  {
   "cell_type": "code",
   "execution_count": null,
   "id": "badd07f7",
   "metadata": {},
   "outputs": [],
   "source": [
    "# predict probability\n",
    "x_test = df_test.drop('id', axis=1)\n",
    "result = best_model.predict_proba(x_test)"
   ]
  },
  {
   "cell_type": "code",
   "execution_count": null,
   "id": "0c09854d",
   "metadata": {},
   "outputs": [],
   "source": [
    "# submission\n",
    "sub = pd.read_csv('sample_submission.csv')\n",
    "sub[sub.columns[1:]] = result\n",
    "sub.to_csv(f'{PROJECT_NAME}.csv', index=False)"
   ]
  }
 ],
 "metadata": {
  "kernelspec": {
   "display_name": "Python 3",
   "language": "python",
   "name": "python3"
  },
  "language_info": {
   "codemirror_mode": {
    "name": "ipython",
    "version": 3
   },
   "file_extension": ".py",
   "mimetype": "text/x-python",
   "name": "python",
   "nbconvert_exporter": "python",
   "pygments_lexer": "ipython3",
   "version": "3.7.9"
  }
 },
 "nbformat": 4,
 "nbformat_minor": 5
}
