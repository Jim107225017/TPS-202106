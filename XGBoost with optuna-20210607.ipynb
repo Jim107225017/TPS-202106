{
 "cells": [
  {
   "cell_type": "code",
   "execution_count": 8,
   "id": "6c295364",
   "metadata": {},
   "outputs": [
    {
     "name": "stdout",
     "output_type": "stream",
     "text": [
      "Tue Jun  8 11:10:05 2021       \n",
      "+-----------------------------------------------------------------------------+\n",
      "| NVIDIA-SMI 462.31       Driver Version: 462.31       CUDA Version: 11.2     |\n",
      "|-------------------------------+----------------------+----------------------+\n",
      "| GPU  Name            TCC/WDDM | Bus-Id        Disp.A | Volatile Uncorr. ECC |\n",
      "| Fan  Temp  Perf  Pwr:Usage/Cap|         Memory-Usage | GPU-Util  Compute M. |\n",
      "|                               |                      |               MIG M. |\n",
      "|===============================+======================+======================|\n",
      "|   0  GeForce MX250      WDDM  | 00000000:02:00.0 Off |                  N/A |\n",
      "| N/A   44C    P8    N/A /  N/A |     64MiB /  2048MiB |      0%      Default |\n",
      "|                               |                      |                  N/A |\n",
      "+-------------------------------+----------------------+----------------------+\n",
      "                                                                               \n",
      "+-----------------------------------------------------------------------------+\n",
      "| Processes:                                                                  |\n",
      "|  GPU   GI   CI        PID   Type   Process name                  GPU Memory |\n",
      "|        ID   ID                                                   Usage      |\n",
      "|=============================================================================|\n",
      "|    0   N/A  N/A      6080      C   ...conda3\\envs\\ML\\python.exe    N/A      |\n",
      "|    0   N/A  N/A     33920      C   ...conda3\\envs\\ML\\python.exe    N/A      |\n",
      "+-----------------------------------------------------------------------------+\n"
     ]
    }
   ],
   "source": [
    "# Check GPU version\n",
    "!nvidia-smi"
   ]
  },
  {
   "cell_type": "code",
   "execution_count": 9,
   "id": "faf9df78",
   "metadata": {},
   "outputs": [
    {
     "name": "stdout",
     "output_type": "stream",
     "text": [
      "nvcc: NVIDIA (R) Cuda compiler driver\n",
      "Copyright (c) 2005-2018 NVIDIA Corporation\n",
      "Built on Sat_Aug_25_21:08:04_Central_Daylight_Time_2018\n",
      "Cuda compilation tools, release 10.0, V10.0.130\n"
     ]
    }
   ],
   "source": [
    "# Check CUDA/cuDNN Version\n",
    "!nvcc -V"
   ]
  },
  {
   "cell_type": "code",
   "execution_count": null,
   "id": "f41d3218",
   "metadata": {},
   "outputs": [],
   "source": [
    "# install packages\n",
    "!pip install xgboost\n",
    "!pip install optuna\n",
    "!pip install category_encoders\n",
    "!pip install wandb"
   ]
  },
  {
   "cell_type": "code",
   "execution_count": null,
   "id": "997ee356",
   "metadata": {},
   "outputs": [],
   "source": [
    "# 即時監控colab資源\n",
    "import wandb\n",
    "\n",
    "# connect with jim107225017/colab/20210526\n",
    "wandb.init(project='colab', entity='jim107225017', name='CPU_GPU', id='20210526')"
   ]
  },
  {
   "cell_type": "code",
   "execution_count": 10,
   "id": "1ba3ec97",
   "metadata": {},
   "outputs": [
    {
     "name": "stdout",
     "output_type": "stream",
     "text": [
      "[0]\ttrain-rmse:0.49744\n",
      "[1]\ttrain-rmse:0.49564\n",
      "[2]\ttrain-rmse:0.49301\n",
      "[3]\ttrain-rmse:0.49085\n",
      "[4]\ttrain-rmse:0.48928\n",
      "[5]\ttrain-rmse:0.48782\n",
      "[6]\ttrain-rmse:0.48626\n",
      "[7]\ttrain-rmse:0.48430\n",
      "[8]\ttrain-rmse:0.48253\n",
      "[9]\ttrain-rmse:0.48144\n",
      "True\n"
     ]
    }
   ],
   "source": [
    "# import packages\n",
    "import os\n",
    "import numpy as np\n",
    "import pandas as pd\n",
    "import warnings\n",
    "warnings.filterwarnings(\"ignore\")\n",
    "\n",
    "# Optuna\n",
    "import optuna\n",
    "from optuna.samplers import TPESampler   # TPE (Tree-structured Parzen Estimator) sampler\n",
    "from optuna.integration import SkoptSampler   # Scikit-Optimize sampler\n",
    "from optuna.pruners import SuccessiveHalvingPruner   # ASHA : 剪枝演算法，防止over-fitting\n",
    "\n",
    "import xgboost as xgb\n",
    "from xgboost import XGBClassifier\n",
    "\n",
    "from sklearn.metrics import log_loss\n",
    "from sklearn.model_selection import train_test_split, StratifiedKFold\n",
    "from sklearn.preprocessing import LabelEncoder, StandardScaler, MinMaxScaler\n",
    "\n",
    "from category_encoders.cat_boost import CatBoostEncoder\n",
    "\n",
    "from joblib import load, dump\n",
    "\n",
    "def check_gpu_support():\n",
    "    try:\n",
    "        data = np.random.rand(1000, 10)\n",
    "        label = np.random.randint(2, size=1000)\n",
    "        train_data = xgb.DMatrix(data, label = label)\n",
    "        params = {'tree_method': 'gpu_hist', 'max_depth': 3, 'learning_rate': 0.1}\n",
    "        gbm = xgb.train(params, train_data, evals=[(train_data, \"train\")])\n",
    "        return True\n",
    "    except Exception as e:\n",
    "        return False\n",
    "\n",
    "print(check_gpu_support())"
   ]
  },
  {
   "cell_type": "code",
   "execution_count": 11,
   "id": "98da66ea",
   "metadata": {},
   "outputs": [],
   "source": [
    "# # connect with Google Cloud\n",
    "# from google.colab import drive\n",
    "# drive.mount('/content/drive')\n",
    "# path = \"/content/drive/My Drive/colab/TPS Jun\"\n",
    "path = r'C:\\Users\\Chen\\Desktop\\Kaggle\\Classifier\\Tabular Playground Series - Jun 2021'\n",
    "os.chdir(path)"
   ]
  },
  {
   "cell_type": "code",
   "execution_count": 12,
   "id": "eac58004",
   "metadata": {},
   "outputs": [],
   "source": [
    "# load data\n",
    "df_train = pd.read_csv('train.csv')\n",
    "df_test = pd.read_csv('test.csv')\n",
    "\n",
    "all_data = pd.concat([df_train, df_test]).reset_index(drop=True)\n",
    "all_data.drop(['id'], axis=1, inplace=True)"
   ]
  },
  {
   "cell_type": "code",
   "execution_count": 13,
   "id": "eb77e460",
   "metadata": {},
   "outputs": [],
   "source": [
    "num_col = []\n",
    "cat_col = [i for i in all_data.columns if i not in ['id', 'target']]\n",
    "target_col = 'target'\n",
    "comb = num_col + cat_col + [target_col]\n",
    "\n",
    "# Label Y\n",
    "le = LabelEncoder()\n",
    "y = le.fit_transform(df_train[target_col])\n",
    "\n",
    "#  Catboost Target Encoder\n",
    "ce = CatBoostEncoder(cols=cat_col, random_state=42)\n",
    "x = df_train[cat_col]\n",
    "ce.fit(x, y)\n",
    "\n",
    "all_data[cat_col] = pd.DataFrame(ce.transform(all_data[cat_col]), columns=cat_col)"
   ]
  },
  {
   "cell_type": "code",
   "execution_count": 14,
   "id": "26aae1fe",
   "metadata": {},
   "outputs": [],
   "source": [
    "# split train and test\n",
    "df_train = all_data[:len(df_train)]\n",
    "df_train[target_col] = y.astype('int64')\n",
    "x = df_train[cat_col]\n",
    "y = pd.DataFrame(df_train[target_col])\n",
    "\n",
    "df_test = all_data[len(df_train):]\n",
    "df_test.drop(target_col, axis=1, inplace=True)\n",
    "x_test = df_test[cat_col]"
   ]
  },
  {
   "cell_type": "code",
   "execution_count": 15,
   "id": "ef3f62d5",
   "metadata": {},
   "outputs": [],
   "source": [
    "# Optuna\n",
    "PROJECT_NAME = 'xgboost(optuna)-20210607'\n",
    "SEED = 20210607\n",
    "\n",
    "sampler = TPESampler(seed=SEED)\n",
    "# sampler = SkoptSampler()\n",
    "\n",
    "pruner = SuccessiveHalvingPruner()\n",
    "\n",
    "def objective(trial, kaggle_metrics='LogLoss', predic_proba=True):\n",
    "    train_x, valid_x, train_y, valid_y = train_test_split(x, y, test_size=0.2, random_state=SEED, shuffle=True, stratify=y)\n",
    "    \n",
    "    params = {'n_estimators': trial.suggest_int(\"n_estimators\", 100, 20000),\n",
    "              'max_depth': trial.suggest_int('max_depth', 1, 25),\n",
    "              'learning_rate': trial.suggest_uniform('learning_rate', 0.01, 1),\n",
    "              'objective': 'multi:softmax',\n",
    "              'booster': 'gbtree',\n",
    "              'n_jobs': -1,\n",
    "              'gamma': trial.suggest_uniform('gamma', 0, 1),\n",
    "              'min_child_weight': trial.suggest_uniform('min_child_weight', 0.001, 10),\n",
    "              'subsample': trial.suggest_uniform('subsample', 0, 1),\n",
    "              'colsample_bytree': trial.suggest_uniform('colsample_bytree', 0, 1),\n",
    "              'reg_alpha': trial.suggest_uniform('reg_alpha', 1e-3, 10),\n",
    "              'reg_lambda': trial.suggest_uniform('reg_lambda', 1e-3, 10),\n",
    "              'random_state': SEED,\n",
    "              'tree_method': 'gpu_hist',\n",
    "              'predictor': \"gpu_predictor\",\n",
    "              'eval_metric': 'mlogloss',\n",
    "              'num_class': len(y.value_counts()),\n",
    "             }\n",
    "\n",
    "    clf = XGBClassifier(**params)\n",
    "    clf.fit(train_x, train_y,\n",
    "            eval_set=[(valid_x, valid_y)],\n",
    "            early_stopping_rounds=100,\n",
    "            verbose=False)\n",
    "    \n",
    "    if predic_proba:\n",
    "        preds = clf.predict_proba(valid_x)\n",
    "        preds = np.float64(preds)\n",
    "    else:\n",
    "        preds = clf.predict(valid_x)\n",
    "    \n",
    "    if kaggle_metrics == 'LogLoss':\n",
    "        result = log_loss(valid_y, preds)\n",
    "    elif kaggle_metrics == 'AUC':\n",
    "        result = roc_auc_score(valid_y, preds)\n",
    "    elif kaggle_metrics == 'Acc':\n",
    "        result = accuracy_score(valid_y, preds)\n",
    "    \n",
    "    return result\n"
   ]
  },
  {
   "cell_type": "code",
   "execution_count": null,
   "id": "adc473c0",
   "metadata": {},
   "outputs": [],
   "source": [
    "OPTUNA_OPTIMIZATION = True\n",
    "\n",
    "study = optuna.create_study(direction='minimize', \n",
    "                            sampler=sampler, \n",
    "                            pruner=pruner, \n",
    "                            study_name=PROJECT_NAME,\n",
    "                           )\n",
    "\n",
    "study.optimize(objective, \n",
    "               n_trials=100, \n",
    "               timeout=3*60*60,   # in seconds\n",
    "              )\n",
    "\n",
    "print('Number of finished trials:', len(study.trials))\n",
    "print('Best trial: score {}, params {}'.format(study.best_trial.value, study.best_trial.params))"
   ]
  },
  {
   "cell_type": "code",
   "execution_count": 16,
   "id": "7b13ee53",
   "metadata": {},
   "outputs": [],
   "source": [
    "# create best model\n",
    "# best_params = study.best_trial.params\n",
    "\n",
    "OPTUNA_OPTIMIZATION = True\n",
    "best_params = {}\n",
    "best_params['n_estimators'] = 13901\n",
    "best_params['max_depth'] = 25\n",
    "best_params['learning_rate'] = 0.02063032057412173\n",
    "best_params['objective'] = 'multi:softmax'\n",
    "best_params['booster'] = 'gbtree'\n",
    "best_params['n_jobs']  = -1\n",
    "best_params['gamma'] = 0.7892861960740625\n",
    "best_params['min_child_weight'] = 7.0254636458448525\n",
    "best_params['subsample'] = 0.6167324770652026\n",
    "best_params['colsample_bytree'] = 0.030431658659036964\n",
    "best_params['reg_alpha'] = 7.245923834298281\n",
    "best_params['reg_lambda'] = 7.758285811972932\n",
    "best_params['random_state'] = SEED\n",
    "best_params['tree_method'] = 'gpu_hist'\n",
    "best_params['predictor'] = \"gpu_predictor\"\n",
    "best_params['eval_metric'] = 'mlogloss'\n",
    "best_params['num_class'] = len(y.value_counts())"
   ]
  },
  {
   "cell_type": "code",
   "execution_count": null,
   "id": "fef531b7",
   "metadata": {},
   "outputs": [],
   "source": [
    "if OPTUNA_OPTIMIZATION:\n",
    "    display(optuna.visualization.plot_optimization_history(study))\n",
    "    display(optuna.visualization.plot_slice(study))\n",
    "    display(optuna.visualization.plot_parallel_coordinate(study))"
   ]
  },
  {
   "cell_type": "code",
   "execution_count": null,
   "id": "4097756b",
   "metadata": {},
   "outputs": [],
   "source": [
    "if OPTUNA_OPTIMIZATION:\n",
    "    display(study.trials_dataframe())"
   ]
  },
  {
   "cell_type": "code",
   "execution_count": 17,
   "id": "967ce38e",
   "metadata": {},
   "outputs": [],
   "source": [
    "if OPTUNA_OPTIMIZATION:\n",
    "    final_model = XGBClassifier(**best_params)\n",
    "else:\n",
    "    final_model = XGBClassifier(**trial)"
   ]
  },
  {
   "cell_type": "code",
   "execution_count": 18,
   "id": "cf6d2c76",
   "metadata": {},
   "outputs": [
    {
     "name": "stdout",
     "output_type": "stream",
     "text": [
      "--------------------------------------------------\n",
      "Fold 1\n",
      "1.7481942215166986\n",
      "--------------------------------------------------\n",
      "Fold 2\n",
      "1.7445724634477868\n",
      "--------------------------------------------------\n",
      "Fold 3\n",
      "1.7463170833535493\n",
      "--------------------------------------------------\n",
      "Fold 4\n",
      "1.7493261484146119\n",
      "--------------------------------------------------\n",
      "Fold 5\n",
      "1.7479210376460106\n",
      "--------------------------------------------------\n",
      "Fold 6\n",
      "1.7492149265835062\n",
      "--------------------------------------------------\n",
      "Fold 7\n",
      "1.7463703367885202\n",
      "--------------------------------------------------\n",
      "Fold 8\n",
      "1.7473817618731409\n",
      "--------------------------------------------------\n",
      "Fold 9\n",
      "1.7455244385108353\n",
      "--------------------------------------------------\n",
      "Fold 10\n",
      "1.7447263811446727\n",
      "--------------------------------------------------\n"
     ]
    }
   ],
   "source": [
    "test_preds=None\n",
    "KFOLD = 10\n",
    "\n",
    "kf = StratifiedKFold(n_splits = KFOLD , shuffle = True , random_state = SEED)\n",
    "for fold, (tr_index , val_index) in enumerate(kf.split(x.values , y.values)):\n",
    "    \n",
    "    print(\"-\" * 50)\n",
    "    print(f\"Fold {fold + 1}\")\n",
    "    \n",
    "    x_train , x_val = x.values[tr_index] , x.values[val_index]\n",
    "    y_train , y_val = y.values[tr_index] , y.values[val_index]\n",
    "        \n",
    "    eval_set = [(x_val, y_val)]\n",
    "    \n",
    "    model = final_model\n",
    "    model.fit(x_train, y_train, eval_set = eval_set, early_stopping_rounds=100, verbose = False)\n",
    "    dump(model, f'{PROJECT_NAME}_{fold+1}.joblib', compress = 3)\n",
    "    \n",
    "    # train_preds = model.predict(x_train)    \n",
    "    val_preds = model.predict_proba(x_val)\n",
    "    \n",
    "    print(log_loss(y_val, val_preds))\n",
    "    \n",
    "    if test_preds is None:\n",
    "        test_preds = model.predict_proba(x_test.values)\n",
    "    else:\n",
    "        test_preds += model.predict_proba(x_test.values)\n",
    "\n",
    "print(\"-\" * 50)\n",
    "test_preds /= KFOLD"
   ]
  },
  {
   "cell_type": "code",
   "execution_count": 21,
   "id": "31e37988",
   "metadata": {},
   "outputs": [],
   "source": [
    "# submission\n",
    "sub = pd.read_csv('sample_submission.csv')\n",
    "sub[sub.columns[1:]] = test_preds\n",
    "sub.to_csv(f'{PROJECT_NAME}.csv', index=False)"
   ]
  },
  {
   "cell_type": "code",
   "execution_count": null,
   "id": "0e340f25",
   "metadata": {},
   "outputs": [],
   "source": [
    "run.finish()"
   ]
  }
 ],
 "metadata": {
  "kernelspec": {
   "display_name": "Python 3",
   "language": "python",
   "name": "python3"
  },
  "language_info": {
   "codemirror_mode": {
    "name": "ipython",
    "version": 3
   },
   "file_extension": ".py",
   "mimetype": "text/x-python",
   "name": "python",
   "nbconvert_exporter": "python",
   "pygments_lexer": "ipython3",
   "version": "3.7.9"
  }
 },
 "nbformat": 4,
 "nbformat_minor": 5
}
