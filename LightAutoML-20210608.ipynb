{
 "cells": [
  {
   "cell_type": "code",
   "execution_count": null,
   "id": "f41d3218",
   "metadata": {},
   "outputs": [],
   "source": [
    "# install packages\n",
    "!pip install catboost\n",
    "!pip install xgboost\n",
    "!pip install lightgbm\n",
    "!pip install lightautoml"
   ]
  },
  {
   "cell_type": "code",
   "execution_count": null,
   "id": "1ba3ec97",
   "metadata": {},
   "outputs": [],
   "source": [
    "# import packages\n",
    "import os\n",
    "import numpy as np\n",
    "import pandas as pd\n",
    "\n",
    "# lightautoml\n",
    "from lightautoml.automl.presets.tabular_presets import TabularAutoML, TabularUtilizedAutoML\n",
    "from lightautoml.tasks import Task\n",
    "from lightautoml.dataset.roles import NumericRole\n",
    "\n",
    "import catboost\n",
    "import lightgbm\n",
    "import xgboost\n",
    "\n",
    "from sklearn.preprocessing import LabelEncoder\n",
    "from sklearn.metrics import log_loss\n",
    "from sklearn.model_selection import train_test_split\n",
    "\n",
    "from joblib import load, dump"
   ]
  },
  {
   "cell_type": "code",
   "execution_count": null,
   "id": "98da66ea",
   "metadata": {},
   "outputs": [],
   "source": [
    "# # connect with Google Cloud\n",
    "# from google.colab import drive\n",
    "# drive.mount('/content/drive')\n",
    "# path = \"/content/drive/My Drive/colab/TPS Jun\"\n",
    "path = r'C:\\Users\\Chen\\Desktop\\Kaggle\\Classifier\\Tabular Playground Series - Jun 2021'\n",
    "os.chdir(path)"
   ]
  },
  {
   "cell_type": "code",
   "execution_count": null,
   "id": "eac58004",
   "metadata": {},
   "outputs": [],
   "source": [
    "# load data\n",
    "df_train = pd.read_csv('train.csv')\n",
    "df_test = pd.read_csv('test.csv')"
   ]
  },
  {
   "cell_type": "code",
   "execution_count": null,
   "id": "915e2e86",
   "metadata": {},
   "outputs": [],
   "source": [
    "# target labelling\n",
    "f = LabelEncoder()\n",
    "f.fit(df_train['target'])\n",
    "y = f.transform(df_train['target'])\n",
    "y = pd.DataFrame(y).astype('int64')\n",
    "\n",
    "col = [i for i in df_train.columns if i not in ['id', 'target']]\n",
    "x = df_train[col]\n",
    "x = x.astype('int64')"
   ]
  },
  {
   "cell_type": "code",
   "execution_count": null,
   "id": "eab546be",
   "metadata": {},
   "outputs": [],
   "source": [
    "PROJECT_NAME = 'lightautoml-20210608'\n",
    "N_THREADS = 4\n",
    "N_FOLDS = 5\n",
    "RANDOM_STATE = 20210608\n",
    "TEST_SIZE = 0.2\n",
    "TIMEOUT = 8*60*60   # in seconds\n",
    "TARGET_NAME = 'target'"
   ]
  },
  {
   "cell_type": "code",
   "execution_count": null,
   "id": "6bbb1e0c",
   "metadata": {},
   "outputs": [],
   "source": [
    "# create task\n",
    "task = Task('multiclass', loss = 'crossentropy', metric = 'crossentropy')\n",
    "\n",
    "# setup columns\n",
    "roles = {\n",
    "    'target': TARGET_NAME,\n",
    "    'drop': ['id'],\n",
    "}"
   ]
  },
  {
   "cell_type": "code",
   "execution_count": null,
   "id": "2249f96e",
   "metadata": {},
   "outputs": [],
   "source": [
    "# train on full data\n",
    "\n",
    "\n",
    "automl = TabularAutoML(task = task, \n",
    "                       timeout = TIMEOUT,\n",
    "                       cpu_limit = N_THREADS,\n",
    "                       general_params = {\n",
    "                           'use_algos': [['linear_l2', 'lgb', 'lgb_tuned', 'cb', 'cb_tuned']],\n",
    "                           'return_all_predictions': True,\n",
    "                           'weighted_blender_max_nonzero_coef': 0.0\n",
    "                       },\n",
    "                       tuning_params = {'max_tuning_time': 60*60},\n",
    "                       reader_params = {'n_jobs': N_THREADS, 'random_state': RANDOM_STATE},\n",
    "                       config_path = f'lightautoml-configs\\{PROJECT_NAME}.yml'\n",
    "                       )\n",
    "\n",
    "oof_pred = automl.fit_predict(train_data, roles = roles)\n",
    "print('oof_pred:\\n{}\\nShape = {}'.format(oof_pred[:10], oof_pred.shape))"
   ]
  },
  {
   "cell_type": "code",
   "execution_count": null,
   "id": "85f7cc2d",
   "metadata": {},
   "outputs": [],
   "source": [
    "# predict for test data\n",
    "test_pred = automl.predict(test_data)\n",
    "\n",
    "first_pred = pd.DataFrame(test_pred)\n",
    "print(first_pred.head())\n",
    "print(first_pred.shape)\n",
    "first_pred.to_csv(f'{PROJECT_NAME}_1st_pred.csv')\n",
    "\n",
    "# print('Prediction for test data:\\n{}\\nShape = {}'.format(test_pred[:10], test_pred.shape))\n",
    "\n",
    "# print('Check scores...')\n",
    "# print('OOF score: {}'.format(log_loss(train_data[TARGET_NAME].values, oof_pred.data)))"
   ]
  },
  {
   "cell_type": "code",
   "execution_count": null,
   "id": "3bcb3b41",
   "metadata": {},
   "outputs": [],
   "source": [
    "# submission\n",
    "sub = pd.read_csv('sample_submission.csv')\n",
    "sub[sub.columns[1:]] = result\n",
    "sub.to_csv(f'{RESULTS_PATH}.csv', index=False)"
   ]
  }
 ],
 "metadata": {
  "kernelspec": {
   "display_name": "Python 3",
   "language": "python",
   "name": "python3"
  },
  "language_info": {
   "codemirror_mode": {
    "name": "ipython",
    "version": 3
   },
   "file_extension": ".py",
   "mimetype": "text/x-python",
   "name": "python",
   "nbconvert_exporter": "python",
   "pygments_lexer": "ipython3",
   "version": "3.7.9"
  }
 },
 "nbformat": 4,
 "nbformat_minor": 5
}
