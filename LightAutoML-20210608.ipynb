{
 "cells": [
  {
   "cell_type": "code",
   "execution_count": null,
   "id": "d7a00e74",
   "metadata": {},
   "outputs": [],
   "source": [
    "# Check GPU version\n",
    "!nvidia-smi"
   ]
  },
  {
   "cell_type": "code",
   "execution_count": null,
   "id": "f41d3218",
   "metadata": {},
   "outputs": [],
   "source": [
    "# install packages\n",
    "!pip install catboost\n",
    "!pip install xgboost\n",
    "!pip install lightgbm\n",
    "!pip install lightautoml"
   ]
  },
  {
   "cell_type": "code",
   "execution_count": 2,
   "id": "1ba3ec97",
   "metadata": {},
   "outputs": [],
   "source": [
    "# import packages\n",
    "import os\n",
    "import numpy as np\n",
    "import pandas as pd\n",
    "\n",
    "# lightautoml\n",
    "from lightautoml.automl.presets.tabular_presets import TabularAutoML, TabularUtilizedAutoML\n",
    "from lightautoml.tasks import Task\n",
    "from lightautoml.dataset.roles import NumericRole\n",
    "\n",
    "import catboost\n",
    "import lightgbm\n",
    "import xgboost\n",
    "\n",
    "from sklearn.preprocessing import LabelEncoder\n",
    "from sklearn.metrics import log_loss\n",
    "from sklearn.model_selection import train_test_split\n",
    "\n",
    "from joblib import load, dump"
   ]
  },
  {
   "cell_type": "code",
   "execution_count": 3,
   "id": "98da66ea",
   "metadata": {},
   "outputs": [],
   "source": [
    "# # connect with Google Cloud\n",
    "# from google.colab import drive\n",
    "# drive.mount('/content/drive')\n",
    "# path = \"/content/drive/My Drive/colab/TPS Jun\"\n",
    "path = r'C:\\Users\\Chen\\Desktop\\Kaggle\\Classifier\\Tabular Playground Series - Jun 2021'\n",
    "os.chdir(path)"
   ]
  },
  {
   "cell_type": "code",
   "execution_count": 4,
   "id": "eac58004",
   "metadata": {},
   "outputs": [],
   "source": [
    "# load data\n",
    "df_train = pd.read_csv('train.csv')\n",
    "df_test = pd.read_csv('test.csv')"
   ]
  },
  {
   "cell_type": "code",
   "execution_count": 5,
   "id": "915e2e86",
   "metadata": {},
   "outputs": [],
   "source": [
    "# target labelling\n",
    "f = LabelEncoder()\n",
    "f.fit(df_train['target'])\n",
    "y = f.transform(df_train['target'])\n",
    "y = pd.DataFrame(y).astype('int64')\n",
    "\n",
    "col = [i for i in df_train.columns if i not in ['id', 'target']]\n",
    "x = df_train[col]\n",
    "x = x.astype('int64')"
   ]
  },
  {
   "cell_type": "code",
   "execution_count": 38,
   "id": "98798477",
   "metadata": {},
   "outputs": [],
   "source": [
    "PROJECT_NAME = 'lightautoml-20210608'\n",
    "N_THREADS = 4\n",
    "N_FOLDS = 5\n",
    "RANDOM_STATE = 20210608\n",
    "TEST_SIZE = 0.2\n",
    "TIMEOUT = 8*60*60   # in seconds\n",
    "TARGET_NAME = 'target'\n",
    "NUM_CLASS = len(df_train['target'].value_counts())"
   ]
  },
  {
   "cell_type": "code",
   "execution_count": 7,
   "id": "4b78dc7c",
   "metadata": {},
   "outputs": [],
   "source": [
    "# first step\n",
    "# create task\n",
    "task = Task('multiclass', loss = 'crossentropy', metric = 'crossentropy')\n",
    "\n",
    "# setup columns\n",
    "roles = {\n",
    "    'target': TARGET_NAME,\n",
    "    'drop': ['id'],\n",
    "}\n",
    "\n",
    "automl = TabularAutoML(task = task, \n",
    "                       timeout = TIMEOUT,\n",
    "                       cpu_limit = N_THREADS,\n",
    "                       general_params = {\n",
    "                           'use_algos': [['linear_l2', 'lgb', 'lgb_tuned', 'cb', 'cb_tuned']],\n",
    "                           'return_all_predictions': True,\n",
    "                           'weighted_blender_max_nonzero_coef': 0.0\n",
    "                       },\n",
    "                       tuning_params = {'max_tuning_time': 60*60},\n",
    "                       reader_params = {'n_jobs': N_THREADS, 'random_state': RANDOM_STATE},\n",
    "                       # config_path = f'{PROJECT_NAME}.yml',\n",
    "                       )"
   ]
  },
  {
   "cell_type": "code",
   "execution_count": null,
   "id": "49cc4526",
   "metadata": {},
   "outputs": [],
   "source": [
    "# train on full data\n",
    "oof_pred = automl.fit_predict(train_data, roles = roles)\n",
    "print('oof_pred:\\n{}\\nShape = {}'.format(oof_pred[:10], oof_pred.shape))"
   ]
  },
  {
   "cell_type": "code",
   "execution_count": 39,
   "id": "b10ef067",
   "metadata": {},
   "outputs": [],
   "source": [
    "columns = ['PREDS_Linear' + str(i) for i in range(1, NUM_CLASS+1)]\n",
    "columns += ['PREDS_LGB' + str(i) for i in range(1, NUM_CLASS+1)]\n",
    "columns += ['PREDS_LGB_tuned' + str(i) for i in range(1, NUM_CLASS+1)]\n",
    "columns += ['PREDS_CB_' + str(i) for i in range(1, NUM_CLASS+1)]\n",
    "columns += ['PREDS_CB_tuned' + str(i) for i in range(1, NUM_CLASS+1)]"
   ]
  },
  {
   "cell_type": "code",
   "execution_count": null,
   "id": "e5e34270",
   "metadata": {},
   "outputs": [],
   "source": [
    "OOF_pred = pd.DataFrame(oof_pred.data, columns = columns)\n",
    "OOF_pred = pd.concat([pd.DataFrame(df_train['id']), OOF_pred, pd.DataFrame(df_train[TARGET_NAME])], axis=1)\n",
    "\n",
    "OOF_pred.to_csv(f'{PROJECT_NAME}_1st_oof.csv', index = False)"
   ]
  },
  {
   "cell_type": "code",
   "execution_count": null,
   "id": "0627317e",
   "metadata": {},
   "outputs": [],
   "source": [
    "# predict for test data\n",
    "test_pred = automl.predict(df_test)\n",
    "\n",
    "TEST_pred = pd.DataFrame(test_pred.data, columns = columns)\n",
    "TEST_pred = pd.concat([pd.DataFrame(df_test['id']), TEST_pred], axis=1)\n",
    "\n",
    "TEST_pred.to_csv(f'{PROJECT_NAME}_1st_test.csv', index = False)"
   ]
  },
  {
   "cell_type": "code",
   "execution_count": 30,
   "id": "0784fb69",
   "metadata": {},
   "outputs": [],
   "source": [
    "# load first step files\n",
    "OOF_pred = pd.read_csv(f'{PROJECT_NAME}_1st_oof.csv')\n",
    "TEST_pred = pd.read_csv(f'{PROJECT_NAME}_1st_test.csv')"
   ]
  },
  {
   "cell_type": "code",
   "execution_count": 41,
   "id": "1e14df5a",
   "metadata": {},
   "outputs": [],
   "source": [
    "# combine data and first step predictions\n",
    "for col in columns:\n",
    "    df_train[col] = OOF_pred[col]\n",
    "    df_test[col] = TEST_pred[col]"
   ]
  },
  {
   "cell_type": "code",
   "execution_count": null,
   "id": "e21df047",
   "metadata": {},
   "outputs": [],
   "source": [
    "# second step\n",
    "roles = {\n",
    "    'target': TARGET_NAME,\n",
    "    'drop': ['id'],\n",
    "    NumericRole(np.float32, prob = True): columns\n",
    "}\n",
    "\n",
    "automl = TabularUtilizedAutoML(task = task, \n",
    "                       timeout = TIMEOUT,\n",
    "                       cpu_limit = N_THREADS,\n",
    "                       general_params = {\n",
    "                           'use_algos': [['lgb_tuned', 'cb_tuned']],\n",
    "                       },\n",
    "                       tuning_params = {'max_tuning_time': 60*60},\n",
    "                       reader_params = {'n_jobs': N_THREADS},\n",
    "                       # configs_list = ['../input/lightautoml-configs/conf_1_sel_type_1.yml'],\n",
    "                       max_runs_per_config=1\n",
    "                       )"
   ]
  },
  {
   "cell_type": "code",
   "execution_count": null,
   "id": "4553b98b",
   "metadata": {},
   "outputs": [],
   "source": [
    "# train on dataset with predictions\n",
    "oof_pred = automl.fit_predict(df_train, roles = roles)\n",
    "print('oof_pred:\\n{}\\nShape = {}'.format(oof_pred[:10], oof_pred.shape))"
   ]
  },
  {
   "cell_type": "code",
   "execution_count": null,
   "id": "dbcc2d2c",
   "metadata": {},
   "outputs": [],
   "source": [
    "# Predict for test data and check score\n",
    "test_pred = automl.predict(df_test)\n",
    "print('Prediction for test data:\\n{}\\nShape = {}'.format(test_pred[:10], test_pred.shape))\n",
    "\n",
    "print('Check scores...')\n",
    "print('OOF score: {}'.format(log_loss(train_data[TARGET_NAME].values, oof_pred.data)))"
   ]
  },
  {
   "cell_type": "code",
   "execution_count": null,
   "id": "3bcb3b41",
   "metadata": {},
   "outputs": [],
   "source": [
    "# submission\n",
    "sub = pd.read_csv('sample_submission.csv')\n",
    "sub[sub.columns[1:]] = test_pred.data\n",
    "sub.to_csv(f'{RESULTS_PATH}.csv', index=False)"
   ]
  }
 ],
 "metadata": {
  "kernelspec": {
   "display_name": "Python 3",
   "language": "python",
   "name": "python3"
  },
  "language_info": {
   "codemirror_mode": {
    "name": "ipython",
    "version": 3
   },
   "file_extension": ".py",
   "mimetype": "text/x-python",
   "name": "python",
   "nbconvert_exporter": "python",
   "pygments_lexer": "ipython3",
   "version": "3.7.9"
  }
 },
 "nbformat": 4,
 "nbformat_minor": 5
}
