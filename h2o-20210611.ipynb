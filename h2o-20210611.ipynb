{
 "cells": [
  {
   "cell_type": "code",
   "execution_count": null,
   "id": "f41d3218",
   "metadata": {},
   "outputs": [],
   "source": [
    "# install packages\n",
    "!pip install catboost\n",
    "!pip install xgboost\n",
    "!pip install lightgbm\n",
    "!pip install h2o"
   ]
  },
  {
   "cell_type": "code",
   "execution_count": null,
   "id": "1ba3ec97",
   "metadata": {},
   "outputs": [],
   "source": [
    "# import packages\n",
    "import os\n",
    "import numpy as np\n",
    "import pandas as pd\n",
    "\n",
    "# H2O\n",
    "import h2o\n",
    "from h2o.automl import H2OAutoML\n",
    "\n",
    "import catboost\n",
    "import lightgbm\n",
    "import xgboost\n",
    "\n",
    "from sklearn.preprocessing import LabelEncoder\n",
    "from joblib import load, dump"
   ]
  },
  {
   "cell_type": "code",
   "execution_count": null,
   "id": "98da66ea",
   "metadata": {},
   "outputs": [],
   "source": [
    "# connect with Google Cloud\n",
    "from google.colab import drive\n",
    "drive.mount('/content/drive')\n",
    "path = \"/content/drive/My Drive/colab/TPS Jun\"\n",
    "# path = r'C:\\Users\\Chen\\Desktop\\Kaggle\\Classifier\\Tabular Playground Series - Jun 2021'\n",
    "os.chdir(path)"
   ]
  },
  {
   "cell_type": "code",
   "execution_count": null,
   "id": "eac58004",
   "metadata": {},
   "outputs": [],
   "source": [
    "# load data\n",
    "df_train = pd.read_csv('train.csv')\n",
    "df_test = pd.read_csv('test.csv')"
   ]
  },
  {
   "cell_type": "code",
   "execution_count": null,
   "id": "eb77e460",
   "metadata": {},
   "outputs": [],
   "source": [
    "# Initialize and Connect to H2O\n",
    "h2o.init()\n",
    "\n",
    "hof_train = h2o.H2OFrame(df_train.copy())\n",
    "hof_test = h2o.H2OFrame(df_test.copy())\n",
    "\n",
    "feature_col = [i for i in df_train.columns if i not in ['id', 'target']]\n",
    "target_col = 'target'\n",
    "\n",
    "# for binary or multiclass\n",
    "hof_train[target_column] = hof_train[target_column].asfactor()\n",
    "\n",
    "# Warnings : Xgboost is not supported on windows\n",
    "h2o.estimators.xgboost.H2OXGBoostEstimator.available()"
   ]
  },
  {
   "cell_type": "code",
   "execution_count": null,
   "id": "8a771fa9",
   "metadata": {},
   "outputs": [],
   "source": [
    "# construct model\n",
    "PROJECT_NAME = 'h2o-20210611'\n",
    "SEED = 20210611\n",
    "\n",
    "automl = H2OAutoML(project_name = PROJECT_NAME,\n",
    "                   seed=SEED,\n",
    "                   max_runtime_secs=6*60*60,\n",
    "                   nfolds = 5,\n",
    "                   # include_algos = ['DRF', 'GLM', 'XGBoost', 'GBM', \"DeepLearning\", 'StackedEnsemble'],\n",
    "                   exclude_algos = [\"DeepLearning\"],\n",
    "                   )"
   ]
  },
  {
   "cell_type": "code",
   "execution_count": null,
   "id": "b27311b0",
   "metadata": {},
   "outputs": [],
   "source": [
    "# training model\n",
    "automl.train(x=feature_col, \n",
    "             y=target_col, \n",
    "             training_frame=hof_train,\n",
    "            )"
   ]
  },
  {
   "cell_type": "code",
   "execution_count": null,
   "id": "f3b872cc",
   "metadata": {},
   "outputs": [],
   "source": [
    "# detail\n",
    "lb = automl.leaderboard \n",
    "print(lb.as_data_frame())"
   ]
  },
  {
   "cell_type": "code",
   "execution_count": null,
   "id": "2c8f0102",
   "metadata": {},
   "outputs": [],
   "source": [
    "# save best model\n",
    "h2o.save_model(model=automl.leader, path=PROJECT_NAME, force=True)"
   ]
  },
  {
   "cell_type": "code",
   "execution_count": null,
   "id": "105b951a",
   "metadata": {},
   "outputs": [],
   "source": [
    "# load model\n",
    "best_model = h2o.load_model(f\"{PROJECT_NAME}/\")"
   ]
  },
  {
   "cell_type": "code",
   "execution_count": null,
   "id": "494cef50",
   "metadata": {},
   "outputs": [],
   "source": [
    "# predict probability\n",
    "result = best_model.predict(hof_test).as_data_frame()"
   ]
  },
  {
   "cell_type": "code",
   "execution_count": null,
   "id": "3dc2b437",
   "metadata": {},
   "outputs": [],
   "source": [
    "# submission\n",
    "sub = pd.read_csv('sample_submission.csv')\n",
    "sub[sub.columns[1:]] = \n",
    "sub.to_csv('h2o0522.csv', index=False)"
   ]
  }
 ],
 "metadata": {
  "kernelspec": {
   "display_name": "Python 3",
   "language": "python",
   "name": "python3"
  },
  "language_info": {
   "codemirror_mode": {
    "name": "ipython",
    "version": 3
   },
   "file_extension": ".py",
   "mimetype": "text/x-python",
   "name": "python",
   "nbconvert_exporter": "python",
   "pygments_lexer": "ipython3",
   "version": "3.7.9"
  }
 },
 "nbformat": 4,
 "nbformat_minor": 5
}
