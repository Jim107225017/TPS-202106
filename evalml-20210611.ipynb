{
 "cells": [
  {
   "cell_type": "code",
   "execution_count": null,
   "id": "f41d3218",
   "metadata": {},
   "outputs": [],
   "source": [
    "# install packages\n",
    "!pip install catboost\n",
    "!pip install xgboost\n",
    "!pip install lightgbm\n",
    "!pip install evalml"
   ]
  },
  {
   "cell_type": "code",
   "execution_count": null,
   "id": "1ba3ec97",
   "metadata": {},
   "outputs": [],
   "source": [
    "# import packages\n",
    "import os\n",
    "import numpy as np\n",
    "import pandas as pd\n",
    "\n",
    "# evalml\n",
    "import evalml\n",
    "from evalml import AutoMLSearch\n",
    "from evalml.automl import make_data_splitter\n",
    "\n",
    "import catboost\n",
    "import lightgbm\n",
    "import xgboost\n",
    "\n",
    "from sklearn.preprocessing import LabelEncoder\n",
    "from joblib import load, dump"
   ]
  },
  {
   "cell_type": "code",
   "execution_count": 3,
   "id": "98da66ea",
   "metadata": {},
   "outputs": [],
   "source": [
    "# # connect with Google Cloud\n",
    "# from google.colab import drive\n",
    "# drive.mount('/content/drive')\n",
    "# path = \"/content/drive/My Drive/colab/TPS Jun\"\n",
    "path = r'C:\\Users\\Chen\\Desktop\\Kaggle\\Classifier\\Tabular Playground Series - Jun 2021'\n",
    "os.chdir(path)"
   ]
  },
  {
   "cell_type": "code",
   "execution_count": 9,
   "id": "eac58004",
   "metadata": {},
   "outputs": [],
   "source": [
    "# load data\n",
    "df_train = pd.read_csv('train.csv')\n",
    "df_test = pd.read_csv('test.csv')"
   ]
  },
  {
   "cell_type": "code",
   "execution_count": 10,
   "id": "915e2e86",
   "metadata": {},
   "outputs": [],
   "source": [
    "# target labelling\n",
    "f = LabelEncoder()\n",
    "f.fit(df_train['target'])\n",
    "y = f.transform(df_train['target'])\n",
    "y = pd.DataFrame(y).astype('int64')\n",
    "\n",
    "col = [i for i in df_train.columns if i not in ['id', 'target']]\n",
    "x = df_train[col]\n",
    "x = x.astype('int64')"
   ]
  },
  {
   "cell_type": "code",
   "execution_count": 8,
   "id": "f987a80b",
   "metadata": {},
   "outputs": [],
   "source": [
    "# # 可處理的問題\n",
    "# evalml.problem_types.ProblemTypes.all_problem_types\n",
    "\n",
    "# # 可使用的模型\n",
    "# evalml.pipelines.components.utils.allowed_model_families(\"multiclass\")\n",
    "\n",
    "# # 可使用的目標函數\n",
    "# evalml.objectives.get_all_objective_names()"
   ]
  },
  {
   "cell_type": "code",
   "execution_count": null,
   "id": "eb77e460",
   "metadata": {},
   "outputs": [],
   "source": [
    "# construct model\n",
    "# AutoML : evalml\n",
    "PROJECT_NAME = 'evalml-20210611'\n",
    "SEED = 202106011\n",
    "\n",
    "# X_train, X_test, y_train, y_test = evalml.preprocessing.split_data(x, y.squeeze(), problem_type='multiclass')\n",
    "cv = make_data_splitter(x, y, problem_type='multiclass', n_splits=5, shuffle=True, random_seed=SEED)\n",
    "\n",
    "automl = AutoMLSearch(X_train=x, \n",
    "                      y_train=y.squeeze(), \n",
    "                      problem_type=\"multiclass\",   # or 'binary', 'regression', 'time series regression', 'time series binary', 'time series multiclass'\n",
    "                      objective=\"log loss multiclass\", \n",
    "                      allowed_model_families=['DECISION_TREE', 'CATBOOST', 'RANDOM_FOREST' , 'XGBOOST', 'LINEAR_MODEL', 'LIGHTGBM', 'EXTRA_TREES'],\n",
    "                      data_splitter=cv,\n",
    "                      random_seed=SEED,\n",
    "                      n_jobs=-1,\n",
    "                      max_batches=5)"
   ]
  },
  {
   "cell_type": "code",
   "execution_count": null,
   "id": "b27311b0",
   "metadata": {},
   "outputs": [],
   "source": [
    "# training model\n",
    "automl.search()"
   ]
  },
  {
   "cell_type": "code",
   "execution_count": null,
   "id": "d52ceae0",
   "metadata": {},
   "outputs": [],
   "source": [
    "# save\n",
    "automl.save(f'{PROJECT_NAME}.pkl')"
   ]
  },
  {
   "cell_type": "code",
   "execution_count": null,
   "id": "f3b872cc",
   "metadata": {},
   "outputs": [],
   "source": [
    "# load well-trained model\n",
    "automl = AutoMLSearch.load(f'{PROJECT_NAME}.pkl')"
   ]
  },
  {
   "cell_type": "code",
   "execution_count": null,
   "id": "f8deedf0",
   "metadata": {},
   "outputs": [],
   "source": [
    "# # 全部pipeline表現的排序\n",
    "# automl.full_rankings\n",
    "\n",
    "# # 前九名pipeline表現的排序\n",
    "# automl.rankings\n",
    "\n",
    "# # 查看第n個pipeline的內容\n",
    "# automl.get_pipeline(0)\n",
    "\n",
    "# # 詳細內容\n",
    "# automl.results\n",
    "\n",
    "# # 表現最佳的pipeline\n",
    "# best_pipeline = automl.best_pipeline\n",
    "\n",
    "# # 以graphviz呈現pipeline\n",
    "# best_pipeline.graph()\n",
    "\n",
    "# # testing set\n",
    "# scores = best_pipeline.score(X_test, y_test, \n",
    "#                              objectives=evalml.objectives.get_core_objectives('multiclass'))\n",
    "\n",
    "# scores['Log Loss Multiclass']"
   ]
  },
  {
   "cell_type": "code",
   "execution_count": null,
   "id": "bb7f140c",
   "metadata": {},
   "outputs": [],
   "source": [
    "# fit best pipeline\n",
    "best_pipeline.fit(x, y.squeeze())"
   ]
  },
  {
   "cell_type": "code",
   "execution_count": null,
   "id": "4f169e2d",
   "metadata": {},
   "outputs": [],
   "source": [
    "# save best pipeline\n",
    "best_pipeline.save(f'{PROJECT_NAME}_best.pkl')"
   ]
  },
  {
   "cell_type": "code",
   "execution_count": null,
   "id": "0ff02b3d",
   "metadata": {},
   "outputs": [],
   "source": [
    "# load best pipeline\n",
    "best_pipeline = automl.load(f'{PROJECT_NAME}_best.pkl')"
   ]
  },
  {
   "cell_type": "code",
   "execution_count": null,
   "id": "2c8f0102",
   "metadata": {},
   "outputs": [],
   "source": [
    "# predict probability\n",
    "x_test = df_test.drop(['id'], axis=1)\n",
    "x_test = x_test.astype('int64')\n",
    "result = best_pipeline.predict_proba(x_test).to_dataframe()"
   ]
  },
  {
   "cell_type": "code",
   "execution_count": null,
   "id": "3bcb3b41",
   "metadata": {},
   "outputs": [],
   "source": [
    "# submission\n",
    "sub = pd.read_csv('sample_submission.csv')\n",
    "sub[sub.columns[1:]] = result\n",
    "sub.to_csv(f'{RESULTS_PATH}.csv', index=False)"
   ]
  },
  {
   "cell_type": "code",
   "execution_count": null,
   "id": "958d9331",
   "metadata": {},
   "outputs": [],
   "source": []
  }
 ],
 "metadata": {
  "kernelspec": {
   "display_name": "Python 3",
   "language": "python",
   "name": "python3"
  },
  "language_info": {
   "codemirror_mode": {
    "name": "ipython",
    "version": 3
   },
   "file_extension": ".py",
   "mimetype": "text/x-python",
   "name": "python",
   "nbconvert_exporter": "python",
   "pygments_lexer": "ipython3",
   "version": "3.7.9"
  }
 },
 "nbformat": 4,
 "nbformat_minor": 5
}
